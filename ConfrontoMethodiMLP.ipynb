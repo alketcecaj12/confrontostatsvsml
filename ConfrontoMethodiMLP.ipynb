{
 "cells": [
  {
   "cell_type": "code",
   "execution_count": 1,
   "metadata": {},
   "outputs": [],
   "source": [
    "import pandas as pd \n",
    "import numpy as np \n",
    "import matplotlib.pyplot as plt"
   ]
  },
  {
   "cell_type": "code",
   "execution_count": 2,
   "metadata": {},
   "outputs": [],
   "source": [
    "# cambiare i percorsi con i propri dati\n",
    "data3_MLP = pd.read_csv('Data/MLP/RMSE_error_data_4_MLP_with_STL_Decomposition_in3.csv', header=None)\n",
    "data3_MLP.columns = ['rmse']\n",
    "\n",
    "data6_MLP = pd.read_csv('Data/MLP/RMSE_error_data_4_MLP_with_STL_Decomposition_in6.csv', header=None)\n",
    "data6_MLP.columns = ['rmse']\n",
    "\n",
    "data12_MLP = pd.read_csv('Data/MLP/RMSE_error_data_4_MLP_with_STL_Decomposition_in12.csv', header=None)\n",
    "data12_MLP.columns = ['rmse']\n",
    "\n",
    "data24_MLP = pd.read_csv('Data/MLP/RMSE_error_data_4_MLP_with_STL_Decomposition_in24.csv', header=None)\n",
    "data24_MLP.columns = ['rmse']\n",
    "\n",
    "data48_MLP = pd.read_csv('Data/MLP/RMSE_error_data_4_MLP_with_STL_Decomposition_in48.csv', header=None)\n",
    "data48_MLP.columns = ['rmse']"
   ]
  },
  {
   "cell_type": "code",
   "execution_count": 3,
   "metadata": {},
   "outputs": [],
   "source": [
    "step3 = []\n",
    "for i, riga in data3_MLP.iterrows():\n",
    "    valore = riga['rmse'].split(':')[1]\n",
    "    step3.append(float(valore))\n",
    "\n",
    "step6 = []\n",
    "for i, riga in data6_MLP.iterrows():\n",
    "    valore = riga['rmse'].split(':')[1]\n",
    "    step6.append(float(valore))\n",
    "    \n",
    "step12 = []\n",
    "for i, riga in data12_MLP.iterrows():\n",
    "    valore = riga['rmse'].split(':')[1]\n",
    "    step12.append(float(valore))\n",
    "\n",
    "step24 = []\n",
    "for i, riga in data24_MLP.iterrows():\n",
    "    valore = riga['rmse'].split(':')[1]\n",
    "    step24.append(float(valore))\n",
    "    \n",
    "step48 = []\n",
    "for i, riga in data48_MLP.iterrows():\n",
    "    valore = riga['rmse'].split(':')[1]\n",
    "    step48.append(float(valore)) \n",
    "\n",
    "step3 = np.array(step3)    \n",
    "step6 = np.array(step6)\n",
    "step12 = np.array(step12)\n",
    "step24 = np.array(step24)\n",
    "step48 = np.array(step48)"
   ]
  },
  {
   "cell_type": "code",
   "execution_count": 4,
   "metadata": {},
   "outputs": [
    {
     "name": "stdout",
     "output_type": "stream",
     "text": [
      "MLP Mean RMSE    11.83 14.45 17.89 21.53 25.01\n",
      "MLP Std.Dev RMSE 14.67 18.0 22.52 27.41 33.74\n",
      "MLP Max RMSE     86.73 99.13 125.48 147.91 207.45\n"
     ]
    }
   ],
   "source": [
    "mean3m = np.mean(step3)\n",
    "mean6m = np.mean(step6)\n",
    "mean12m = np.mean(step12)\n",
    "mean24m = np.mean(step24)\n",
    "mean48m = np.mean(step48)\n",
    "print('MLP Mean RMSE   ', round(mean3m,2), round(mean6m,2), round(mean12m,2), round(mean24m,2), round(mean48m,2))\n",
    "\n",
    "mean3std = np.std(step3)\n",
    "mean6std = np.std(step6)\n",
    "mean12std = np.std(step12)\n",
    "mean24std = np.std(step24)\n",
    "mean48std = np.std(step48)\n",
    "print('MLP Std.Dev RMSE', round(mean3std,2), round(mean6std,2), round(mean12std,2), round(mean24std,2), round(mean48std,2))\n",
    "\n",
    "max3 = np.max(step3)\n",
    "max6 = np.max(step6)\n",
    "max12 = np.max(step12)\n",
    "max24 = np.max(step24)\n",
    "max48 = np.max(step48)\n",
    "print('MLP Max RMSE    ',round(max3,2),round(max6,2), round(max12,2), round(max24,2), round(max48,2))"
   ]
  },
  {
   "cell_type": "code",
   "execution_count": 5,
   "metadata": {},
   "outputs": [
    {
     "data": {
      "image/png": "[encoded data removed]",
      "text/plain": [
       "<Figure size 432x288 with 1 Axes>"
      ]
     },
     "metadata": {
      "needs_background": "light"
     },
     "output_type": "display_data"
    }
   ],
   "source": [
    "data_to_plot = [step3, step6, step12, step24, step48]\n",
    "\n",
    "# Create a figure instance\n",
    "fig = plt.figure(1, figsize=(6, 4))\n",
    "\n",
    "# Create an axes instance\n",
    "ax = fig.add_subplot(111)\n",
    "\n",
    "# Create the boxplot\n",
    "bp = ax.boxplot(data_to_plot, patch_artist=True)\n",
    "ax.set_xticklabels(['3 steps ', '6 steps', '12 steps', '24 steps', '48 steps'], fontsize=12)\n",
    "ax.set_ylabel('RMSE', fontsize=12) \n",
    "\n",
    "# Save the figure\n",
    "fig.savefig('ConfrontoMetodiMLP.jpeg', bbox_inches='tight')"
   ]
  },
  {
   "cell_type": "code",
   "execution_count": null,
   "metadata": {},
   "outputs": [],
   "source": []
  },
  {
   "cell_type": "markdown",
   "metadata": {},
   "source": [
    "### MAPE Error"
   ]
  },
  {
   "cell_type": "code",
   "execution_count": 6,
   "metadata": {},
   "outputs": [],
   "source": [
    "# cambiare i percorsi con i propri dati\n",
    "data3_MLP_MAPE = pd.read_csv('Data/MLP/MAPE_error_data_4_MLP_with_STL_Decomposition_in3.csv', header=None)\n",
    "data3_MLP_MAPE.columns = ['mape']\n",
    "\n",
    "data6_MLP_MAPE = pd.read_csv('Data/MLP/MAPE_error_data_4_MLP_with_STL_Decomposition_in6.csv', header=None)\n",
    "data6_MLP_MAPE.columns = ['mape']\n",
    "\n",
    "data12_MLP_MAPE = pd.read_csv('Data/MLP/MAPE_error_data_4_MLP_with_STL_Decomposition_in12.csv', header=None)\n",
    "data12_MLP_MAPE.columns = ['mape']\n",
    "\n",
    "data24_MLP_MAPE = pd.read_csv('Data/MLP/MAPE_error_data_4_MLP_with_STL_Decomposition_in24.csv', header=None)\n",
    "data24_MLP_MAPE.columns = ['mape']\n",
    "\n",
    "data48_MLP_MAPE = pd.read_csv('Data/MLP/MAPE_error_data_4_MLP_with_STL_Decomposition_in48.csv', header=None)\n",
    "data48_MLP_MAPE.columns = ['mape']"
   ]
  },
  {
   "cell_type": "code",
   "execution_count": 7,
   "metadata": {},
   "outputs": [],
   "source": [
    "step3mape = []\n",
    "for i, riga in data3_MLP_MAPE.iterrows():\n",
    "    valore = riga['mape'].split(':')[1]\n",
    "    step3mape.append(round(float(valore), 0))\n",
    "    \n",
    "\n",
    "step6mape = []\n",
    "for i, riga in data6_MLP_MAPE.iterrows():\n",
    "    valore = riga['mape'].split(':')[1]\n",
    "    step6mape.append(round(float(valore), 0))\n",
    "    \n",
    "step12mape = []\n",
    "for i, riga in data12_MLP_MAPE.iterrows():\n",
    "    valore = riga['mape'].split(':')[1]\n",
    "    step12mape.append(round(float(valore),2))\n",
    "\n",
    "step24mape = []\n",
    "for i, riga in data24_MLP_MAPE.iterrows():\n",
    "    valore = riga['mape'].split(':')[1]\n",
    "    step24mape.append(round(float(valore),2))\n",
    "    \n",
    "step48mape = []\n",
    "for i, riga in data48_MLP_MAPE.iterrows():\n",
    "    valore = riga['mape'].split(':')[1]\n",
    "    step48mape.append(round(float(valore),2)) \n",
    "    \n",
    "step6mape = np.array(step6mape)\n",
    "step12mape = np.array(step12mape)\n",
    "step24mape = np.array(step24mape)\n",
    "step48mape = np.array(step48mape)"
   ]
  },
  {
   "cell_type": "code",
   "execution_count": 8,
   "metadata": {},
   "outputs": [
    {
     "name": "stdout",
     "output_type": "stream",
     "text": [
      "MLP MAPE Mean       6.35 7.68 9.48 11.63 14.06\n",
      "MLP MAPE Dev. Std   2.23 2.87 3.72 7.43 13.38\n",
      "MLP MAPE Max.       16.0 21.0 27.39 86.25 158.05\n"
     ]
    }
   ],
   "source": [
    "mean3m = np.mean(step3mape)\n",
    "mean6m = np.mean(step6mape)\n",
    "mean12m = np.mean(step12mape)\n",
    "mean24m = np.mean(step24mape)\n",
    "mean48m = np.mean(step48mape)\n",
    "print('MLP MAPE Mean      ',round(mean3m,2),round(mean6m,2), round(mean12m,2), round(mean24m,2), round(mean48m,2))\n",
    "\n",
    "mean3std = np.std(step3mape)\n",
    "mean6std = np.std(step6mape)\n",
    "mean12std = np.std(step12mape)\n",
    "mean24std = np.std(step24mape)\n",
    "mean48std = np.std(step48mape)\n",
    "print('MLP MAPE Dev. Std  ',round(mean3std,2),round(mean6std,2), round(mean12std,2), round(mean24std,2), round(mean48std,2))\n",
    "\n",
    "max3 = np.max(step3mape)\n",
    "max6 = np.max(step6mape)\n",
    "max12 = np.max(step12mape)\n",
    "max24 = np.max(step24mape)\n",
    "max48 = np.max(step48mape)\n",
    "print('MLP MAPE Max.      ',round(max3,2),round(max6,2), round(max12,2), round(max24,2), round(max48,2))"
   ]
  },
  {
   "cell_type": "code",
   "execution_count": 9,
   "metadata": {},
   "outputs": [
    {
     "data": {
      "image/png": "[encoded data removed]",
      "text/plain": [
       "<Figure size 432x288 with 1 Axes>"
      ]
     },
     "metadata": {
      "needs_background": "light"
     },
     "output_type": "display_data"
    }
   ],
   "source": [
    "mape_data_to_plot = [step3mape, step6mape, step12mape, step24mape, step48mape]\n",
    "\n",
    "# Create a figure instance\n",
    "fig = plt.figure(1, figsize=(6, 4))\n",
    "\n",
    "# Create an axes instance\n",
    "ax = fig.add_subplot(111)\n",
    "\n",
    "# Create the boxplot\n",
    "bp = ax.boxplot(mape_data_to_plot, patch_artist=True)\n",
    "ax.set_xticklabels(['3 step', '6 steps', '12 steps', '24 steps', '48 steps'], fontsize=12)\n",
    "ax.set_ylabel('MAPE', fontsize=12) \n",
    "\n",
    "# Save the figure\n",
    "fig.savefig('ConfrontoMetodi.jpeg', bbox_inches='tight')"
   ]
  },
  {
   "cell_type": "markdown",
   "metadata": {},
   "source": [
    "### MAXAE"
   ]
  },
  {
   "cell_type": "code",
   "execution_count": 10,
   "metadata": {},
   "outputs": [],
   "source": [
    "colnames = ['min', 'Q1', 'mediana', 'Q3', 'max']\n",
    "\n",
    "# cambiare i percorsi con i propri dati\n",
    "data3_MLP_max = pd.read_csv('Data/MLP/MAE_error_data_4_MLP_with_STL_Decomposition_in3.csv', names=colnames, header=None)\n",
    "\n",
    "data6_MLP_max = pd.read_csv('Data/MLP/MAE_error_data_4_MLP_with_STL_Decomposition_in6.csv', names=colnames, header=None)\n",
    "\n",
    "data12_MLP_max = pd.read_csv('Data/MLP/MAE_error_data_4_MLP_with_STL_Decomposition_in12.csv', names=colnames, header=None)\n",
    "\n",
    "data24_MLP_max = pd.read_csv('Data/MLP/MAE_error_data_4_MLP_with_STL_Decomposition_in24.csv', names=colnames, header=None)\n",
    "\n",
    "data48_MLP_max = pd.read_csv('Data/MLP/MAE_error_data_4_MLP_with_STL_Decomposition_in48.csv', names=colnames, header=None)\n"
   ]
  },
  {
   "cell_type": "code",
   "execution_count": 11,
   "metadata": {},
   "outputs": [],
   "source": [
    "max3_MLP_max = []\n",
    "for i, row in data3_MLP_max.iterrows():\n",
    "    max_i= row['max']\n",
    "    max_i = max_i[0:-2]\n",
    "    max3_MLP_max.append(float(max_i))\n",
    "\n",
    "max6_MLP_max = []\n",
    "for i, row in data6_MLP_max.iterrows():\n",
    "    max_i= row['max']\n",
    "    max_i = max_i[0:-2]\n",
    "    max6_MLP_max.append(float(max_i))\n",
    "    \n",
    "max12_MLP_max = []\n",
    "for i, row in data12_MLP_max.iterrows():\n",
    "    max_i= row['max']\n",
    "    max_i = max_i[0:-2]\n",
    "    max12_MLP_max.append(float(max_i))\n",
    "\n",
    "max24_MLP_max = []\n",
    "for i, row in data24_MLP_max.iterrows():\n",
    "    max_i= row['max']\n",
    "    max_i = max_i[0:-1]\n",
    "    max24_MLP_max.append(float(max_i))\n",
    "    \n",
    "max48_MLP_max = []\n",
    "for i, row in data48_MLP_max.iterrows():\n",
    "    max_i= row['max']\n",
    "    max_i = max_i[0:-1]\n",
    "    max48_MLP_max.append(float(max_i)) "
   ]
  },
  {
   "cell_type": "code",
   "execution_count": 12,
   "metadata": {},
   "outputs": [
    {
     "name": "stdout",
     "output_type": "stream",
     "text": [
      "MLP Mean MAXAE      40.24 49.23 61.18 72.53 84.87\n",
      "MLP Std.Dev MAXAE  51.09 62.56 77.74 93.08 117.87\n",
      "MLP Max MAXAE      315.3 385.2 442.8 529.0 850.8\n"
     ]
    }
   ],
   "source": [
    "mean3m = np.mean(max3_MLP_max)\n",
    "mean6m = np.mean(max6_MLP_max)\n",
    "mean12m = np.mean(max12_MLP_max)\n",
    "mean24m = np.mean(max24_MLP_max)\n",
    "mean48m = np.mean(max48_MLP_max)\n",
    "print('MLP Mean MAXAE     ', round(mean3m, 2), round(mean6m, 2), round(mean12m,2), round(mean24m,2), round(mean48m,2))\n",
    "\n",
    "mean3std = np.std(max3_MLP_max)\n",
    "mean6std = np.std(max6_MLP_max)\n",
    "mean12std = np.std(max12_MLP_max)\n",
    "mean24std = np.std(max24_MLP_max)\n",
    "mean48std = np.std(max48_MLP_max)\n",
    "print('MLP Std.Dev MAXAE ',round(mean3std,2),round(mean6std,2) , round(mean12std,2), round(mean24std,2), round(mean48std,2))\n",
    "\n",
    "max3 = np.max(max3_MLP_max)\n",
    "max6 = np.max(max6_MLP_max)\n",
    "max12 = np.max(max12_MLP_max)\n",
    "max24 = np.max(max24_MLP_max)\n",
    "max48 = np.max(max48_MLP_max)\n",
    "print('MLP Max MAXAE     ',round(max3,2),round(max6,2),round( max12,2),round( max24,2),round( max48,2))"
   ]
  },
  {
   "cell_type": "code",
   "execution_count": 13,
   "metadata": {},
   "outputs": [
    {
     "data": {
      "image/png": "[encoded data removed]",
      "text/plain": [
       "<Figure size 432x288 with 1 Axes>"
      ]
     },
     "metadata": {
      "needs_background": "light"
     },
     "output_type": "display_data"
    }
   ],
   "source": [
    "max_data_to_plot = [max3_MLP_max, max6_MLP_max, max12_MLP_max, max24_MLP_max, max48_MLP_max]\n",
    "\n",
    "# Create a figure instance\n",
    "fig = plt.figure(1, figsize=(6, 4))\n",
    "\n",
    "# Create an axes instance\n",
    "ax = fig.add_subplot(111)\n",
    "\n",
    "# Create the boxplot\n",
    "bp = ax.boxplot(max_data_to_plot, patch_artist=True)\n",
    "ax.set_xticklabels(['3 steps', '6 steps', '12 steps', '24 steps', '48 steps'], fontsize=12)\n",
    "ax.set_ylabel('MAXAE', fontsize=12) \n",
    "\n",
    "# Save the figure\n",
    "fig.savefig('ConfrontoMetodiMAXAE_6.jpeg', bbox_inches='tight')"
   ]
  },
  {
   "cell_type": "code",
   "execution_count": null,
   "metadata": {},
   "outputs": [],
   "source": []
  },
  {
   "cell_type": "code",
   "execution_count": null,
   "metadata": {},
   "outputs": [],
   "source": []
  },
  {
   "cell_type": "code",
   "execution_count": null,
   "metadata": {},
   "outputs": [],
   "source": []
  },
  {
   "cell_type": "code",
   "execution_count": null,
   "metadata": {},
   "outputs": [],
   "source": []
  },
  {
   "cell_type": "code",
   "execution_count": null,
   "metadata": {},
   "outputs": [],
   "source": []
  }
 ],
 "metadata": {
  "kernelspec": {
   "display_name": "Python 3",
   "language": "python",
   "name": "python3"
  },
  "language_info": {
   "codemirror_mode": {
    "name": "ipython",
    "version": 3
   },
   "file_extension": ".py",
   "mimetype": "text/x-python",
   "name": "python",
   "nbconvert_exporter": "python",
   "pygments_lexer": "ipython3",
   "version": "3.7.4"
  }
 },
 "nbformat": 4,
 "nbformat_minor": 2
}
