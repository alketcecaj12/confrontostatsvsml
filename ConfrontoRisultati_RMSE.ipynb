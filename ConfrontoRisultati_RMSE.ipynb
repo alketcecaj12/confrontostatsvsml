{
 "cells": [
  {
   "cell_type": "code",
   "execution_count": 1,
   "metadata": {},
   "outputs": [],
   "source": [
    "import pandas as pd\n",
    "import numpy as np\n",
    "import matplotlib.pyplot as plt  "
   ]
  },
  {
   "cell_type": "code",
   "execution_count": 17,
   "metadata": {},
   "outputs": [],
   "source": [
    "colnames = ['rmse']\n",
    "\n",
    "# cambiare i percorsi con i propri dati\n",
    "data_Prophet = pd.read_csv('Data/Prophet/RMSE_error_data_4_Prophet_with_STL_Decomposition_12.csv', names=colnames, header=None)\n",
    "\n",
    "data_MLP = pd.read_csv('Data/MLP/RMSE_error_data_4_MLP_with_STL_Decomposition_in12.csv', names=colnames, header=None)\n",
    "\n",
    "data_LSTM = pd.read_csv('Data/LSTM/RMSE_error_data_4_LSTM_with_STL_Decomposition_12.csv', names=colnames, header=None)\n",
    "\n",
    "data_CNN = pd.read_csv('Data/CNN/RMSE_error_data_4_CNN_with_STL_Decomposition_in12.csv', names=colnames, header=None)\n",
    "\n",
    "data_ARIMA = pd.read_csv('Data/ARIMA/RMSE_error_data_4_ARIMA_MultistepForcast_12_V2.csv', names=colnames, header=None)\n",
    "\n",
    "data_ETS = pd.read_csv('Data/ETS/RMSE_error_data_4_ETS_MultistepForcast_12.csv', names=colnames, header=None)\n",
    "\n",
    "data_AR = pd.read_csv('Data/AR/RMSE_error_data_4_Autoregression_12_StepForecast.csv', names=colnames, header=None)\n",
    "\n",
    "data_Naive = pd.read_csv('Data/Naive/RMSE_error_data_4_Naive_DayHourAveragePrediction.csv', names=colnames, header=None)"
   ]
  },
  {
   "cell_type": "code",
   "execution_count": 21,
   "metadata": {},
   "outputs": [],
   "source": [
    "data_ARIMA = data_ARIMA.dropna()\n",
    "data_ETS = data_ETS.dropna()"
   ]
  },
  {
   "cell_type": "code",
   "execution_count": 32,
   "metadata": {},
   "outputs": [],
   "source": [
    "naive_rmse = []\n",
    "for i, row in data_Naive.iterrows():\n",
    "    rmse_cell = row['rmse']\n",
    "    rmse = rmse_cell.split(':')[1][:4]\n",
    "    naive_rmse.append(float(rmse))\n",
    "\n",
    "mlp_rmse = []\n",
    "for i, row in data_MLP.iterrows():\n",
    "    rmse_cell = row['rmse']\n",
    "    rmse = rmse_cell.split(':')[1][:4]\n",
    "    mlp_rmse.append(float(rmse))\n",
    "\n",
    "cnn_rmse = []\n",
    "for i, row in data_CNN.iterrows():\n",
    "    rmse_cell = row['rmse']\n",
    "    rmse = rmse_cell.split(':')[1][:4]\n",
    "    cnn_rmse.append(float(rmse))\n",
    "    \n",
    "lstm_rmse = []\n",
    "for i, row in data_LSTM.iterrows():\n",
    "    rmse_cell = row['rmse']\n",
    "    rmse = rmse_cell.split(':')[1][:4]\n",
    "    lstm_rmse.append(float(rmse))\n",
    "\n",
    "arima_rmse = []\n",
    "for i, row in data_ARIMA.iterrows():\n",
    "    rmse_cell = row['rmse']\n",
    "    rmse = rmse_cell.split(':')[1][:4]\n",
    "    arima_rmse.append(float(rmse))\n",
    "\n",
    "ets_rmse = []\n",
    "for i, row in data_ETS.iterrows():\n",
    "    rmse_cell = row['rmse']\n",
    "    rmse = rmse_cell.split(':')[1][:4]\n",
    "    ets_rmse.append(float(rmse))    \n",
    "    \n",
    "prophet_rmse = []\n",
    "for i, row in data_Prophet.iterrows():\n",
    "    rmse_cell = row['rmse']\n",
    "    rmse = rmse_cell.split(':')[1][:4]\n",
    "    prophet_rmse.append(float(rmse))  \n",
    "    \n",
    "ar_rmse = []\n",
    "for i, row in data_AR.iterrows():\n",
    "    rmse_cell = row['rmse']\n",
    "    rmse = rmse_cell.split(':')[1][:4]\n",
    "    ar_rmse.append(float(rmse))     "
   ]
  },
  {
   "cell_type": "code",
   "execution_count": 40,
   "metadata": {},
   "outputs": [],
   "source": [
    "import math\n",
    "arima_rmse = [0 if math.isnan(x) else x for x in arima_rmse]\n",
    "ets_rmse = [0 if math.isnan(x) else x for x in ets_rmse]"
   ]
  },
  {
   "cell_type": "code",
   "execution_count": 41,
   "metadata": {},
   "outputs": [
    {
     "data": {
      "image/png": "[encoded data removed]",
      "text/plain": [
       "<Figure size 1440x504 with 1 Axes>"
      ]
     },
     "metadata": {
      "needs_background": "light"
     },
     "output_type": "display_data"
    }
   ],
   "source": [
    "data_to_plot = [mlp_rmse, cnn_rmse, lstm_rmse, prophet_rmse, ar_rmse, arima_rmse, ets_rmse, naive_rmse]\n",
    "\n",
    "# Create a figure instance\n",
    "fig = plt.figure(1, figsize=(20, 7))\n",
    "\n",
    "# Create an axes instance\n",
    "ax = fig.add_subplot(111)\n",
    "\n",
    "# Create the boxplot\n",
    "bp = ax.boxplot(data_to_plot, patch_artist=True)\n",
    "ax.set_xticklabels(['MLP', 'CNN', 'LSTM', 'Prophet', 'AR', 'ARIMA', 'ETS', 'Naive'])\n",
    "\n",
    "# Save the figure\n",
    "fig.savefig('ConfrontoMetodiRMSE.jpeg', bbox_inches='tight')"
   ]
  },
  {
   "cell_type": "code",
   "execution_count": null,
   "metadata": {},
   "outputs": [],
   "source": []
  },
  {
   "cell_type": "code",
   "execution_count": null,
   "metadata": {},
   "outputs": [],
   "source": []
  },
  {
   "cell_type": "code",
   "execution_count": null,
   "metadata": {},
   "outputs": [],
   "source": []
  },
  {
   "cell_type": "code",
   "execution_count": null,
   "metadata": {},
   "outputs": [],
   "source": []
  },
  {
   "cell_type": "code",
   "execution_count": null,
   "metadata": {},
   "outputs": [],
   "source": []
  },
  {
   "cell_type": "code",
   "execution_count": null,
   "metadata": {},
   "outputs": [],
   "source": []
  },
  {
   "cell_type": "code",
   "execution_count": null,
   "metadata": {},
   "outputs": [],
   "source": []
  }
 ],
 "metadata": {
  "kernelspec": {
   "display_name": "Python 3",
   "language": "python",
   "name": "python3"
  },
  "language_info": {
   "codemirror_mode": {
    "name": "ipython",
    "version": 3
   },
   "file_extension": ".py",
   "mimetype": "text/x-python",
   "name": "python",
   "nbconvert_exporter": "python",
   "pygments_lexer": "ipython3",
   "version": "3.7.4"
  }
 },
 "nbformat": 4,
 "nbformat_minor": 2
}
