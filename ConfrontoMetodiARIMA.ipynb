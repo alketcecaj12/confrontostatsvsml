{
 "cells": [
  {
   "cell_type": "code",
   "execution_count": 1,
   "metadata": {},
   "outputs": [],
   "source": [
    "import pandas as pd \n",
    "import numpy as np \n",
    "import matplotlib.pyplot as plt"
   ]
  },
  {
   "cell_type": "markdown",
   "metadata": {},
   "source": [
    "### RMSE Error"
   ]
  },
  {
   "cell_type": "code",
   "execution_count": 2,
   "metadata": {},
   "outputs": [],
   "source": [
    "# cambiare i percorsi con i propri dati\n",
    "data3_ARIMA = pd.read_csv('Data/ARIMA/RMSE_error_data_4_ARIMA_MultistepForcast_3.csv', header=None)\n",
    "data3_ARIMA.columns = ['rmse']\n",
    "\n",
    "data6_ARIMA = pd.read_csv('Data/ARIMA/RMSE_error_data_4_ARIMA_MultistepForcast_6.csv', header=None)\n",
    "data6_ARIMA.columns = ['rmse']\n",
    "\n",
    "data12_ARIMA = pd.read_csv('Data/ARIMA/RMSE_error_data_4_ARIMA_MultistepForcast_12_V2.csv', header=None)\n",
    "data12_ARIMA.columns = ['rmse']\n",
    "\n",
    "data24_ARIMA = pd.read_csv('Data/ARIMA/RMSE_error_data_4_ARIMA_MultistepForcast_24_V2.csv', header=None)\n",
    "data24_ARIMA.columns = ['rmse']\n",
    "\n",
    "data48_ARIMA = pd.read_csv('Data/ARIMA/RMSE_error_data_4_ARIMA_MultistepForcast_48_V2.csv', header=None)\n",
    "data48_ARIMA.columns = ['rmse']"
   ]
  },
  {
   "cell_type": "code",
   "execution_count": 3,
   "metadata": {},
   "outputs": [],
   "source": [
    "step3 = []\n",
    "for i, riga in data3_ARIMA.iterrows():\n",
    "    valore = riga['rmse'].split(':')[1]\n",
    "    step3.append(float(valore))\n",
    "\n",
    "step6 = []\n",
    "for i, riga in data6_ARIMA.iterrows():\n",
    "    valore = riga['rmse'].split(':')[1]\n",
    "    step6.append(float(valore))\n",
    "    \n",
    "step12 = []\n",
    "for i, riga in data12_ARIMA.iterrows():\n",
    "    valore = riga['rmse'].split(':')[1]\n",
    "    step12.append(float(valore))\n",
    "\n",
    "step24 = []\n",
    "for i, riga in data24_ARIMA.iterrows():\n",
    "    valore = riga['rmse'].split(':')[1]\n",
    "    step24.append(float(valore))\n",
    "    \n",
    "step48 = []\n",
    "for i, riga in data48_ARIMA.iterrows():\n",
    "    valore = riga['rmse'].split(':')[1]\n",
    "    step48.append(float(valore)) \n",
    "\n",
    "step3 = np.array(step3)    \n",
    "step6 = np.array(step6)\n",
    "step12 = np.array(step12)\n",
    "step24 = np.array(step24)\n",
    "step48 = np.array(step48)"
   ]
  },
  {
   "cell_type": "code",
   "execution_count": 4,
   "metadata": {},
   "outputs": [
    {
     "data": {
      "image/png": "[encoded data removed]",
      "text/plain": [
       "<Figure size 432x288 with 1 Axes>"
      ]
     },
     "metadata": {
      "needs_background": "light"
     },
     "output_type": "display_data"
    }
   ],
   "source": [
    "data_to_plot = [step3, step6, step12, step24, step48]\n",
    "\n",
    "# Create a figure instance\n",
    "fig = plt.figure(1, figsize=(6, 4))\n",
    "\n",
    "# Create an axes instance\n",
    "ax = fig.add_subplot(111)\n",
    "\n",
    "# Create the boxplot\n",
    "bp = ax.boxplot(data_to_plot, patch_artist=True)\n",
    "for box in bp['boxes']:\n",
    "    box.set(color='#7570d3', linewidth=3)\n",
    "    box.set(facecolor = '#2b9e77')\n",
    "    \n",
    "ax.set_xticklabels(['3 steps','6 steps', '12 steps', '24 steps', '48 steps'], fontsize=12)\n",
    "ax.set_ylabel('RMSE', fontsize=12) \n",
    "\n",
    "# Save the figure\n",
    "fig.savefig('ConfrontoMetodi.jpeg', bbox_inches='tight')"
   ]
  },
  {
   "cell_type": "code",
   "execution_count": 5,
   "metadata": {},
   "outputs": [
    {
     "name": "stdout",
     "output_type": "stream",
     "text": [
      "ARIMA RMSE mean     10.26 12.25 12.57 13.87 17.94\n",
      "ARIMA RMSE std.dev 12.22 15.15 14.17 15.91 22.01\n",
      "ARIMA RMSE max     85.49 91.0 67.28 74.34 118.23\n"
     ]
    }
   ],
   "source": [
    "mean3 = np.mean(step3)\n",
    "mean6 = np.mean(step6)\n",
    "mean12 = np.mean(step12)\n",
    "mean24 = np.mean(step24)\n",
    "mean48 = np.mean(step48)\n",
    "print('ARIMA RMSE mean    ', round(mean3,2) , round(mean6,2) , round(mean12,2) , round(mean24,2) , round(mean48,2))\n",
    "\n",
    "mean3std = np.std(step3)\n",
    "mean6std = np.std(step6)\n",
    "mean12std = np.std(step12)\n",
    "mean24std = np.std(step24)\n",
    "mean48std = np.std(step48)\n",
    "print('ARIMA RMSE std.dev', round(mean3std,2), round(mean6std,2) , round(mean12std,2) , round(mean24std,2) , round(mean48std,2))\n",
    "\n",
    "max3 = np.max(step3)\n",
    "max6 = np.max(step6)\n",
    "max12 = np.max(step12)\n",
    "max24 = np.max(step24)\n",
    "max48 = np.max(step48)\n",
    "print('ARIMA RMSE max    ', round(max3,2), round(max6,2), round(max12,2), round(max24,2), round(max48,2))"
   ]
  },
  {
   "cell_type": "markdown",
   "metadata": {},
   "source": [
    "### MAPE Error"
   ]
  },
  {
   "cell_type": "code",
   "execution_count": 6,
   "metadata": {},
   "outputs": [],
   "source": [
    "# cambiare i percorsi con i propri dati\n",
    "data3_ARIMA_MAPE = pd.read_csv('Data/ARIMA/MAPE_error_data_4_ARIMA_MultistepForcast_3.csv', header=None)\n",
    "data3_ARIMA_MAPE.columns = ['mape']\n",
    "\n",
    "data6_ARIMA_MAPE = pd.read_csv('Data/ARIMA/MAPE_error_data_4_ARIMA_MultistepForcast_6.csv', header=None)\n",
    "data6_ARIMA_MAPE.columns = ['mape']\n",
    "\n",
    "data12_ARIMA_MAPE = pd.read_csv('Data/ARIMA/MAPE_error_data_4_ARIMA_MultistepForcast_12_V2.csv', header=None)\n",
    "data12_ARIMA_MAPE.columns = ['mape']\n",
    "\n",
    "data24_ARIMA_MAPE = pd.read_csv('Data/ARIMA/MAPE_error_data_4_ARIMA_MultistepForcast_24_V2.csv', header=None)\n",
    "data24_ARIMA_MAPE.columns = ['mape']\n",
    "\n",
    "data48_ARIMA_MAPE = pd.read_csv('Data/ARIMA/MAPE_error_data_4_ARIMA_MultistepForcast_48_V2.csv', header=None)\n",
    "data48_ARIMA_MAPE.columns = ['mape']"
   ]
  },
  {
   "cell_type": "code",
   "execution_count": 7,
   "metadata": {},
   "outputs": [],
   "source": [
    "step3mape = []\n",
    "for i, riga in data3_ARIMA_MAPE.iterrows():\n",
    "    valore = riga['mape'].split(':')[1]\n",
    "    step3mape.append(float(valore))\n",
    "\n",
    "step6mape = []\n",
    "for i, riga in data6_ARIMA_MAPE.iterrows():\n",
    "    valore = riga['mape'].split(':')[1]\n",
    "    step6mape.append(float(valore))\n",
    "    \n",
    "step12mape = []\n",
    "for i, riga in data12_ARIMA_MAPE.iterrows():\n",
    "    valore = riga['mape'].split(':')[1]\n",
    "    step12mape.append(float(valore))\n",
    "\n",
    "step24mape = []\n",
    "for i, riga in data24_ARIMA_MAPE.iterrows():\n",
    "    valore = riga['mape'].split(':')[1]\n",
    "    step24mape.append(float(valore))\n",
    "    \n",
    "step48mape = []\n",
    "for i, riga in data48_ARIMA_MAPE.iterrows():\n",
    "    valore = riga['mape'].split(':')[1]\n",
    "    step48mape.append(float(valore)) \n",
    "\n",
    "step3mape = np.array(step3mape)\n",
    "step6mape = np.array(step6mape)\n",
    "step12mape = np.array(step12mape)\n",
    "step24mape = np.array(step24mape)\n",
    "step48mape = np.array(step48mape)"
   ]
  },
  {
   "cell_type": "code",
   "execution_count": 8,
   "metadata": {},
   "outputs": [
    {
     "name": "stdout",
     "output_type": "stream",
     "text": [
      "ARIMA MAPE mean     5.21 6.26 6.66 7.44 9.21\n",
      "ARIMA MAPE std.dev  1.07 1.2 1.51 1.78 2.76\n",
      "ARIMA MAPE max      7.18 8.67 11.97 12.13 15.87\n"
     ]
    }
   ],
   "source": [
    "mean3m = np.mean(step3mape)\n",
    "mean6m = np.mean(step6mape)\n",
    "mean12m = np.mean(step12mape)\n",
    "mean24m = np.mean(step24mape)\n",
    "mean48m = np.mean(step48mape)\n",
    "print('ARIMA MAPE mean    ', round(mean3m,2), round(mean6m,2), round(mean12m,2), round(mean24m,2), round(mean48m,2))\n",
    "\n",
    "mean3std = np.std(step3mape)\n",
    "mean6std = np.std(step6mape)\n",
    "mean12std = np.std(step12mape)\n",
    "mean24std = np.std(step24mape)\n",
    "mean48std = np.std(step48mape)\n",
    "print('ARIMA MAPE std.dev ', round(mean3std,2), round(mean6std,2) , round(mean12std,2) , round(mean24std, 2), round(mean48std,2))\n",
    "\n",
    "max3 = np.max(step3mape)\n",
    "max6 = np.max(step6mape)\n",
    "max12 = np.max(step12mape)\n",
    "max24 = np.max(step24mape)\n",
    "max48 = np.max(step48mape)\n",
    "print('ARIMA MAPE max     ', round(max3,2), round(max6,2) , round(max12,2) , round(max24,2) , round(max48,2))"
   ]
  },
  {
   "cell_type": "code",
   "execution_count": 9,
   "metadata": {},
   "outputs": [
    {
     "data": {
      "image/png": "[encoded data removed]",
      "text/plain": [
       "<Figure size 432x288 with 1 Axes>"
      ]
     },
     "metadata": {
      "needs_background": "light"
     },
     "output_type": "display_data"
    }
   ],
   "source": [
    "mape_data_to_plot = [step3mape, step6mape, step12mape, step24mape, step48mape]\n",
    "\n",
    "# Create a figure instance\n",
    "fig = plt.figure(1, figsize=(6, 4))\n",
    "\n",
    "# Create an axes instance\n",
    "ax = fig.add_subplot(111)\n",
    "\n",
    "# Create the boxplot\n",
    "bp = ax.boxplot(mape_data_to_plot, patch_artist=True)\n",
    "for box in bp['boxes']:\n",
    "    box.set(color='#7570d3', linewidth=3)\n",
    "    box.set(facecolor = '#2b9e77')\n",
    "ax.set_xticklabels(['3 steps','6 steps', '12 steps', '24 steps', '48 steps'], fontsize=12)\n",
    "ax.set_ylabel('MAPE', fontsize=12) \n",
    "\n",
    "# Save the figure\n",
    "fig.savefig('ConfrontoMetodi.jpeg', bbox_inches='tight')"
   ]
  },
  {
   "cell_type": "markdown",
   "metadata": {},
   "source": [
    "### MAXAE"
   ]
  },
  {
   "cell_type": "code",
   "execution_count": 10,
   "metadata": {},
   "outputs": [],
   "source": [
    "colnames = ['min', 'Q1', 'mediana', 'Q3', 'max']\n",
    "\n",
    "# cambiare i percorsi con i propri dati\n",
    "data3_ARIMA_max = pd.read_csv('Data/ARIMA/MAE_error_data_4_ARIMA_MultistepForcast_3.csv', names=colnames, header=None)\n",
    "\n",
    "data6_ARIMA_max = pd.read_csv('Data/ARIMA/MAE_error_data_4_ARIMA_MultistepForcast_6.csv', names=colnames, header=None)\n",
    "\n",
    "data12_ARIMA_max = pd.read_csv('Data/ARIMA/MAE_error_data_4_ARIMA_MultistepForcast_12_V2.csv', names=colnames, header=None)\n",
    "\n",
    "data24_ARIMA_max = pd.read_csv('Data/ARIMA/MAE_error_data_4_ARIMA_MultistepForcast_24_V2.csv', names=colnames, header=None)\n",
    "\n",
    "data48_ARIMA_max = pd.read_csv('Data/ARIMA/MAE_error_data_4_ARIMA_MultistepForcast_48_V2.csv', names=colnames, header=None)\n"
   ]
  },
  {
   "cell_type": "code",
   "execution_count": 11,
   "metadata": {},
   "outputs": [],
   "source": [
    "max3_ARIMA_max = []\n",
    "for i, row in data3_ARIMA_max.iterrows():\n",
    "    max_i= row['max']\n",
    "    max_i = max_i[0:-2]\n",
    "    max3_ARIMA_max.append(float(max_i))\n",
    "\n",
    "max6_ARIMA_max = []\n",
    "for i, row in data6_ARIMA_max.iterrows():\n",
    "    max_i= row['max']\n",
    "    max_i = max_i[0:-2]\n",
    "    max6_ARIMA_max.append(float(max_i))\n",
    "    \n",
    "max12_ARIMA_max = []\n",
    "for i, row in data12_ARIMA_max.iterrows():\n",
    "    max_i= row['max']\n",
    "    max_i = max_i[0:-2]\n",
    "    max12_ARIMA_max.append(float(max_i))\n",
    "\n",
    "max24_ARIMA_max = []\n",
    "for i, row in data24_ARIMA_max.iterrows():\n",
    "    max_i= row['max']\n",
    "    max_i = max_i[0:-1]\n",
    "    max24_ARIMA_max.append(float(max_i))\n",
    "    \n",
    "max48_ARIMA_max = []\n",
    "for i, row in data48_ARIMA_max.iterrows():\n",
    "    max_i= row['max']\n",
    "    max_i = max_i[0:-1]\n",
    "    max48_ARIMA_max.append(float(max_i)) "
   ]
  },
  {
   "cell_type": "code",
   "execution_count": 12,
   "metadata": {},
   "outputs": [
    {
     "name": "stdout",
     "output_type": "stream",
     "text": [
      "ARIMA MAXAE mean     45.64 51.16 63.15 62.54 74.16\n",
      "ARIMA MAXAE std.dev  53.63 62.96 129.54 104.91 89.79\n",
      "ARIMA MAXAE max      300.4 308.47 1498.86 1080.95 405.6\n"
     ]
    }
   ],
   "source": [
    "mean3m = np.mean(max3_ARIMA_max)\n",
    "mean6m = np.mean(max6_ARIMA_max)\n",
    "mean12m = np.mean(max12_ARIMA_max)\n",
    "mean24m = np.mean(max24_ARIMA_max)\n",
    "mean48m = np.mean(max48_ARIMA_max)\n",
    "print('ARIMA MAXAE mean    ', round(mean3m,2), round(mean6m,2) , round(mean12m,2) , round(mean24m,2) , round(mean48m,2))\n",
    "\n",
    "mean3std = np.std(max3_ARIMA_max)\n",
    "mean6std = np.std(max6_ARIMA_max)\n",
    "mean12std = np.std(max12_ARIMA_max)\n",
    "mean24std = np.std(max24_ARIMA_max)\n",
    "mean48std = np.std(max48_ARIMA_max)\n",
    "print('ARIMA MAXAE std.dev ', round(mean3std,2), round(mean6std,2) , round(mean12std,2) , round(mean24std,2) , round(mean48std,2))\n",
    "\n",
    "max3 = np.max(max3_ARIMA_max)\n",
    "max6 = np.max(max6_ARIMA_max)\n",
    "max12 = np.max(max12_ARIMA_max)\n",
    "max24 = np.max(max24_ARIMA_max)\n",
    "max48 = np.max(max48_ARIMA_max)\n",
    "print('ARIMA MAXAE max     ', round(max3,2), round(max6,2), round(max12,2), round(max24,2), round(max48,2))"
   ]
  },
  {
   "cell_type": "code",
   "execution_count": 13,
   "metadata": {},
   "outputs": [
    {
     "data": {
      "image/png": "[encoded data removed]",
      "text/plain": [
       "<Figure size 432x288 with 1 Axes>"
      ]
     },
     "metadata": {
      "needs_background": "light"
     },
     "output_type": "display_data"
    }
   ],
   "source": [
    "max_data_to_plot = [max3_ARIMA_max, max6_ARIMA_max, max12_ARIMA_max, max24_ARIMA_max, max48_ARIMA_max]\n",
    "\n",
    "# Create a figure instance\n",
    "fig = plt.figure(1, figsize=(6, 4))\n",
    "\n",
    "# Create an axes instance\n",
    "ax = fig.add_subplot(111)\n",
    "\n",
    "# Create the boxplot\n",
    "bp = ax.boxplot(max_data_to_plot, patch_artist=True)\n",
    "for box in bp['boxes']:\n",
    "    box.set(color='#7570d3', linewidth=3)\n",
    "    box.set(facecolor = '#2b9e77')\n",
    "ax.set_xticklabels(['3 steps', '6 steps', '12 steps', '24 steps', '48 steps'], fontsize=12)\n",
    "ax.set_ylabel('MAXAE', fontsize=12) \n",
    "\n",
    "# Save the figure\n",
    "fig.savefig('ConfrontoMetodiMAXAE_6.jpeg', bbox_inches='tight')"
   ]
  },
  {
   "cell_type": "code",
   "execution_count": null,
   "metadata": {},
   "outputs": [],
   "source": []
  },
  {
   "cell_type": "code",
   "execution_count": null,
   "metadata": {},
   "outputs": [],
   "source": []
  },
  {
   "cell_type": "code",
   "execution_count": null,
   "metadata": {},
   "outputs": [],
   "source": []
  },
  {
   "cell_type": "code",
   "execution_count": null,
   "metadata": {},
   "outputs": [],
   "source": []
  }
 ],
 "metadata": {
  "kernelspec": {
   "display_name": "Python 3",
   "language": "python",
   "name": "python3"
  },
  "language_info": {
   "codemirror_mode": {
    "name": "ipython",
    "version": 3
   },
   "file_extension": ".py",
   "mimetype": "text/x-python",
   "name": "python",
   "nbconvert_exporter": "python",
   "pygments_lexer": "ipython3",
   "version": "3.7.4"
  }
 },
 "nbformat": 4,
 "nbformat_minor": 2
}
