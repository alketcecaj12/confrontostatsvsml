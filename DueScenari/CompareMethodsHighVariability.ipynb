{
 "cells": [
  {
   "cell_type": "code",
   "execution_count": 31,
   "metadata": {},
   "outputs": [],
   "source": [
    "import pandas as pd\n",
    "import numpy as np\n",
    "import matplotlib.pyplot as plt  "
   ]
  },
  {
   "cell_type": "markdown",
   "metadata": {},
   "source": [
    "### MAXAE "
   ]
  },
  {
   "cell_type": "code",
   "execution_count": 36,
   "metadata": {},
   "outputs": [],
   "source": [
    "colnames = ['min', 'Q1', 'mediana', 'Q3', 'max']\n",
    "data24_Prophet = pd.read_csv('Prophet/MAE_error_data_4_Prophet_with_STL_Decomposition_24.csv', names=colnames, header=None)\n",
    "data24_Prophet = data24_Prophet.dropna()\n",
    "data24_MLP = pd.read_csv('MLP/MAE_error_data_4_MLP_with_STL_Decomposition_in24.csv', names=colnames, header=None)\n",
    "data24_MLP = data24_MLP.dropna()\n",
    "data24_LSTM = pd.read_csv('LSTM/MAE_error_data_4_LSTM_with_STL_Decomposition_24.csv', names=colnames, header=None)\n",
    "data24_LSTM = data24_LSTM.dropna()\n",
    "data24_CNN = pd.read_csv('CNN/MAE_error_data_4_CNN_with_STL_Decomposition_in24.csv', names=colnames, header=None)\n",
    "data24_CNN = data24_CNN.dropna()\n",
    "data24_ARIMA = pd.read_csv('ARIMA/MAE_error_data_4_ARIMA_MultistepForcast_24_V2.csv', names=colnames, header=None)\n",
    "data24_ARIMA = data24_ARIMA.dropna()\n",
    "data24_ETS = pd.read_csv('ETS/MAE_error_data_4_ETS_MultistepForcast_24_v2.csv', names=colnames, header=None)\n",
    "data24_ETS = data24_ETS.dropna()\n",
    "data24_AR = pd.read_csv('AR/MAE_error_data_4_Autoregression_24_StepForecast.csv', names=colnames, header=None)\n",
    "data24_AR = data24_AR.dropna()\n",
    "data24_Naive = pd.read_csv('Naive/MAE_error_data_4_Naive_DayHourAveragePrediction.csv', names=colnames, header=None)"
   ]
  },
  {
   "cell_type": "code",
   "execution_count": 37,
   "metadata": {},
   "outputs": [],
   "source": [
    "max_AR = []\n",
    "for i, row in data24_AR.iterrows():\n",
    "    max_i= row['max']\n",
    "    max_i = max_i[0:-2]\n",
    "    max_AR.append(float(max_i))\n",
    "\n",
    "    \n",
    "max_Prophet = []\n",
    "for i, row in data24_Prophet.iterrows():\n",
    "    max_i= row['max']\n",
    "    max_i = max_i[0:-2]\n",
    "    max_Prophet.append(float(max_i))\n",
    "\n",
    "max_MLP = []\n",
    "for i, row in data24_MLP.iterrows():\n",
    "    max_i= row['max']\n",
    "    max_i = max_i[0:-1]\n",
    "    max_MLP.append(float(max_i))\n",
    "    \n",
    "max_CNN = []\n",
    "for i, row in data24_CNN.iterrows():\n",
    "    max_i= row['max']\n",
    "    max_i = max_i[0:-1]\n",
    "    max_CNN.append(float(max_i)) \n",
    "    \n",
    "max_LSTM = []\n",
    "for i, row in data24_LSTM.iterrows():\n",
    "    max_i= row['max']\n",
    "    max_i = max_i[0:-1]\n",
    "    max_LSTM.append(float(max_i)) \n",
    "    \n",
    "max_ARIMA = []\n",
    "for i, row in data24_ARIMA.iterrows():\n",
    "    max_i= row['max']\n",
    "    max_i = max_i[0:-1]\n",
    "    max_ARIMA.append(float(max_i)) \n",
    "    \n",
    "max_ETS = []\n",
    "for i, row in data24_ETS.iterrows():\n",
    "    max_i= row['max']\n",
    "    max_i = max_i[0:-1]\n",
    "    max_ETS.append(float(max_i))  \n",
    "    \n",
    "max_Naive = []\n",
    "for i, row in data24_Naive.iterrows():\n",
    "    max_i= row['max']\n",
    "    max_i = max_i[0:-1]\n",
    "    max_Naive.append(float(max_i)) "
   ]
  },
  {
   "cell_type": "code",
   "execution_count": 38,
   "metadata": {},
   "outputs": [
    {
     "name": "stdout",
     "output_type": "stream",
     "text": [
      "CNN     103.0 115.87\n",
      "MLP     100.6 108.4\n",
      "LSTM    217.4 228.3\n",
      "ETS     205.88 228.1\n",
      "Prophet 188.5 189.8\n",
      "AR      184.8 208.1\n",
      "Naive   151.5 202.5\n",
      "ARIMA   96.9 167.3\n"
     ]
    }
   ],
   "source": [
    "max_CNN = np.array(max_CNN)    \n",
    "max_MLP = np.array(max_MLP)\n",
    "max_LSTM = np.array(max_LSTM)\n",
    "max_ETS = np.array(max_ETS)\n",
    "max_Prophet = np.array(max_Prophet)\n",
    "max_AR = np.array(max_AR)\n",
    "max_ARIMA = np.array(max_ARIMA)\n",
    "max_Naive = np.array(max_Naive)\n",
    "\n",
    "print('CNN    ',round(np.mean(max_CNN), 1), round(np.std(max_CNN),2))\n",
    "print('MLP    ',round(np.mean(max_MLP), 1), round(np.std(max_MLP),1))\n",
    "print('LSTM   ',round(np.mean(max_LSTM),1), round(np.std(max_LSTM),1))\n",
    "print('ETS    ',round(np.mean(max_ETS),2),round(np.std(max_ETS),1))\n",
    "print('Prophet',round(np.mean(max_Prophet),1), round(np.std(max_Prophet),1))\n",
    "print('AR     ',round(np.mean(max_AR),1),round(np.std(max_AR),1))\n",
    "print('Naive  ',round(np.mean(max_Naive),1), round(np.std(max_Naive),1))\n",
    "print('ARIMA  ',round(np.mean(max_ARIMA),1), round(np.std(max_ARIMA),1))"
   ]
  },
  {
   "cell_type": "code",
   "execution_count": 43,
   "metadata": {},
   "outputs": [
    {
     "data": {
      "image/png": "[encoded data removed]",
      "text/plain": [
       "<Figure size 504x288 with 1 Axes>"
      ]
     },
     "metadata": {
      "needs_background": "light"
     },
     "output_type": "display_data"
    }
   ],
   "source": [
    "data_to_plot = [max_CNN, max_MLP, max_LSTM, max_Prophet, max_ETS, max_ARIMA, max_AR, max_Naive]\n",
    "\n",
    "# Create a figure instance\n",
    "fig = plt.figure(1, figsize=(7, 4))\n",
    "\n",
    "# Create an axes instance\n",
    "ax = fig.add_subplot(111)\n",
    "\n",
    "# Create the boxplot\n",
    "bp = ax.boxplot(data_to_plot, patch_artist=True)\n",
    "ax.set_xticklabels(['CNN', 'MLP', 'LSTM', 'Prophet', 'ETS', 'ARIMA', 'AR', 'Naive'], fontsize=12)\n",
    "ax.set_ylabel('MAXAE', fontsize=12) \n",
    "\n",
    "# Save the figure\n",
    "fig.savefig('ConfrontoMetodi.jpeg', bbox_inches='tight')"
   ]
  },
  {
   "cell_type": "code",
   "execution_count": null,
   "metadata": {},
   "outputs": [],
   "source": []
  },
  {
   "cell_type": "markdown",
   "metadata": {},
   "source": [
    "### RMSE "
   ]
  },
  {
   "cell_type": "code",
   "execution_count": 22,
   "metadata": {},
   "outputs": [],
   "source": [
    "rmse24_Prophet = pd.read_csv('Prophet/RMSE_error_data_4_Prophet_with_STL_Decomposition_24.csv', header=None)\n",
    "rmse24_Prophet.columns = ['rmse']\n",
    "rmse24_Prophet = rmse24_Prophet.dropna()\n",
    "\n",
    "rmse24_MLP = pd.read_csv('MLP/RMSE_error_data_4_MLP_with_STL_Decomposition_in24.csv',  header=None)\n",
    "rmse24_MLP.columns = ['rmse']\n",
    "rmse24_MLP = rmse24_MLP.dropna()\n",
    "\n",
    "rmse24_LSTM = pd.read_csv('LSTM/RMSE_error_data_4_LSTM_with_STL_Decomposition_24.csv', header=None)\n",
    "rmse24_LSTM.columns = ['rmse']\n",
    "rmse24_LSTM = rmse24_LSTM.dropna()\n",
    "\n",
    "rmse24_CNN = pd.read_csv('CNN/RMSE_error_data_4_CNN_with_STL_Decomposition_in24.csv',  header=None)\n",
    "rmse24_CNN.columns = ['rmse']\n",
    "rmse24_CNN = rmse24_CNN.dropna()\n",
    "\n",
    "rmse24_ARIMA = pd.read_csv('ARIMA/RMSE_error_data_4_ARIMA_MultistepForcast_24_V2.csv', header=None)\n",
    "rmse24_ARIMA.columns = ['rmse']\n",
    "rmse24_ARIMA = rmse24_ARIMA.dropna()\n",
    "\n",
    "rmse24_ETS = pd.read_csv('ETS/RMSE_error_data_4_ETS_MultistepForcast_24_v2.csv', header=None)\n",
    "rmse24_ETS.columns = ['rmse']\n",
    "rmse24_ETS = rmse24_ETS.dropna()\n",
    "\n",
    "rmse24_AR = pd.read_csv('AR/RMSE_error_data_4_Autoregression_24_StepForecast.csv',  header=None)\n",
    "rmse24_AR.columns = ['rmse']\n",
    "rmse24_AR = rmse24_AR.dropna()\n",
    "\n",
    "rmse24_Naive = pd.read_csv('Naive/RMSE_error_data_4_Naive_DayHourAveragePrediction.csv',  header=None)\n",
    "rmse24_Naive.columns = ['rmse']\n",
    "rmse24_Naive = rmse24_Naive.dropna()"
   ]
  },
  {
   "cell_type": "code",
   "execution_count": 23,
   "metadata": {},
   "outputs": [],
   "source": [
    "prophet_list = []\n",
    "for i, k in rmse24_Prophet.iterrows():\n",
    "    #print(i, k['rmse'])\n",
    "    s = k['rmse'].split(':')[1]\n",
    "    rmse = float(s)\n",
    "    prophet_list.append(rmse)\n",
    "    \n",
    "ar_list = []\n",
    "for i, k in rmse24_AR.iterrows():\n",
    "    #print(i, k['rmse'])\n",
    "    s = k['rmse'].split(':')[1]\n",
    "    rmse = float(s)\n",
    "    ar_list.append(rmse)\n",
    "    \n",
    "ETS_list = []\n",
    "for i, k in rmse24_ETS.iterrows():\n",
    "    #print(i, k['rmse'])\n",
    "    s = k['rmse'].split(':')[1]\n",
    "    rmse = float(s)\n",
    "    ETS_list.append(rmse)\n",
    "    \n",
    "ARIMA_list = []\n",
    "for i, k in rmse24_ARIMA.iterrows():\n",
    "    #print(i, k['rmse'])\n",
    "    s = k['rmse'].split(':')[1]\n",
    "    rmse = float(s)\n",
    "    ARIMA_list.append(rmse)\n",
    "    \n",
    "MLP_list = []\n",
    "for i, k in rmse24_MLP.iterrows():\n",
    "    #print(i, k['rmse'])\n",
    "    s = k['rmse'].split(':')[1]\n",
    "    rmse = float(s)\n",
    "    MLP_list.append(rmse)\n",
    "    \n",
    "CNN_list = []\n",
    "for i, k in rmse24_CNN.iterrows():\n",
    "    #print(i, k['rmse'])    \n",
    "    s = k['rmse'].split(':')[1]\n",
    "    rmse = float(s)\n",
    "    CNN_list.append(rmse)\n",
    "    \n",
    "LSTM_list = []\n",
    "for i, k in rmse24_LSTM.iterrows():\n",
    "    #print(i, k['rmse'])    \n",
    "    s = k['rmse'].split(':')[1]\n",
    "    rmse = float(s)\n",
    "    LSTM_list.append(rmse)\n",
    "    \n",
    "Naive_list = []\n",
    "for i, k in rmse24_Naive.iterrows():\n",
    "    #print(i, k['rmse']) \n",
    "    s = k['rmse'].split(':')[1]\n",
    "    rmse = float(s)\n",
    "    Naive_list.append(rmse)\n",
    "    "
   ]
  },
  {
   "cell_type": "code",
   "execution_count": 24,
   "metadata": {},
   "outputs": [
    {
     "name": "stdout",
     "output_type": "stream",
     "text": [
      "CNN     30.2 33.5\n",
      "MLP     29.7 31.6\n",
      "LSTM    98.6 165.9\n",
      "ETS     76.3 85.7\n",
      "Prophet 105.0 100.1\n",
      "AR      62.1 70.3\n",
      "Naive   26.2 28.7\n",
      "ARIMA   19.6 20.8\n"
     ]
    }
   ],
   "source": [
    "CNN_list = np.array(CNN_list)    \n",
    "MLP_list = np.array(MLP_list)\n",
    "LSTM_list = np.array(LSTM_list)\n",
    "ETS_list = np.array(ETS_list)\n",
    "prophet_list = np.array(prophet_list)\n",
    "AR_list = np.array(ar_list)\n",
    "ARIMA_list = np.array(ARIMA_list)\n",
    "Naive_list = np.array(Naive_list)\n",
    "\n",
    "print('CNN    ',round(np.mean(CNN_list),1), round(np.std(CNN_list),1))\n",
    "print('MLP    ',round(np.mean(MLP_list),1), round(np.std(MLP_list),1))\n",
    "print('LSTM   ',round(np.mean(LSTM_list),1), round(np.std(LSTM_list),1))\n",
    "print('ETS    ',round(np.mean(ETS_list),1), round(np.std(ETS_list),1))\n",
    "print('Prophet',round(np.mean(prophet_list),1), round(np.std(prophet_list),1))\n",
    "print('AR     ',round(np.mean(ar_list),1), round(np.std(ar_list),1))\n",
    "print('Naive  ',round(np.mean(Naive_list),1), round(np.std(Naive_list),1))\n",
    "print('ARIMA  ',round(np.mean(ARIMA_list),1), round(np.std(ARIMA_list),1))\n"
   ]
  },
  {
   "cell_type": "code",
   "execution_count": 44,
   "metadata": {},
   "outputs": [
    {
     "data": {
      "image/png": "[encoded data removed]",
      "text/plain": [
       "<Figure size 504x288 with 1 Axes>"
      ]
     },
     "metadata": {
      "needs_background": "light"
     },
     "output_type": "display_data"
    }
   ],
   "source": [
    "data_to_plot = [CNN_list, MLP_list, LSTM_list, prophet_list, ETS_list, ARIMA_list, ar_list, Naive_list]\n",
    "\n",
    "# Create a figure instance\n",
    "fig = plt.figure(1, figsize=(7, 4))\n",
    "\n",
    "# Create an axes instance\n",
    "ax = fig.add_subplot(111)\n",
    "\n",
    "# Create the boxplot\n",
    "bp = ax.boxplot(data_to_plot, patch_artist=True)\n",
    "ax.set_xticklabels(['CNN', 'MLP', 'LSTM', 'Prophet', 'ETS', 'ARIMA', 'AR', 'Naive'], fontsize=12)\n",
    "ax.set_ylabel('RMSE', fontsize=12) \n",
    "\n",
    "# Save the figure\n",
    "fig.savefig('ConfrontoMetodiRMSE.jpeg', bbox_inches='tight')"
   ]
  },
  {
   "cell_type": "markdown",
   "metadata": {},
   "source": [
    "### MAPE Error "
   ]
  },
  {
   "cell_type": "code",
   "execution_count": 74,
   "metadata": {},
   "outputs": [],
   "source": [
    "mape24_Prophet = pd.read_csv('Prophet/MAPE_error_data_4_Prophet_with_STL_Decomposition_24.csv', header=None)\n",
    "mape24_Prophet.columns = ['mape']\n",
    "\n",
    "mape24_MLP = pd.read_csv('MLP/MAPE_error_data_4_MLP_with_STL_Decomposition_in24.csv',  header=None)\n",
    "mape24_MLP.columns = ['mape']\n",
    "\n",
    "mape24_LSTM = pd.read_csv('LSTM/MAPE_error_data_4_LSTM_with_STL_Decomposition_24.csv', header=None)\n",
    "mape24_LSTM.columns = ['mape']\n",
    "\n",
    "mape24_CNN = pd.read_csv('CNN/MAPE_error_data_4_CNN_with_STL_Decomposition_in24.csv',  header=None)\n",
    "mape24_CNN.columns = ['mape']\n",
    "\n",
    "mape24_ARIMA = pd.read_csv('ARIMA/MAPE_error_data_4_ARIMA_MultistepForcast_24_V2.csv', header=None)\n",
    "mape24_ARIMA.columns = ['mape']\n",
    "\n",
    "mape24_ETS = pd.read_csv('ETS/MAPE_error_data_4_ETS_MultistepForcast_24_v2.csv', header=None)\n",
    "mape24_ETS.columns = ['mape']\n",
    "\n",
    "mape24_AR = pd.read_csv('AR/MAPE_error_data_4_Autoregression_24_StepForecast.csv',  header=None)\n",
    "mape24_AR.columns = ['mape']\n",
    "\n",
    "mape24_Naive = pd.read_csv('Naive/MAPE_error_data_4_Naive_DayHourAveragePrediction.csv',  header=None)\n",
    "mape24_Naive.columns = ['mape']"
   ]
  },
  {
   "cell_type": "code",
   "execution_count": 75,
   "metadata": {},
   "outputs": [],
   "source": [
    "prophet_mape = []\n",
    "for i, k in mape24_Prophet.iterrows():\n",
    "    #print(i, k['rmse'])\n",
    "    s = k['mape'].split(':')[1]\n",
    "    mape = float(s)\n",
    "    prophet_mape.append(mape)\n",
    "    \n",
    "ar_mape = []\n",
    "for i, k in mape24_AR.iterrows():\n",
    "    #print(i, k['rmse'])\n",
    "    s = k['mape'].split(':')[1]\n",
    "    mape = float(s)\n",
    "    ar_mape.append(mape)\n",
    "    \n",
    "ETS_mape = []\n",
    "for i, k in mape24_ETS.iterrows():\n",
    "    #print(i, k['rmse'])\n",
    "    s = k['mape'].split(':')[1]\n",
    "    mape = float(s)\n",
    "    ETS_mape.append(mape)\n",
    "    \n",
    "ARIMA_mape = []\n",
    "for i, k in mape24_ARIMA.iterrows():\n",
    "    #print(i, k['rmse'])\n",
    "    s = k['mape'].split(':')[1]\n",
    "    mape = float(s)\n",
    "    ARIMA_mape.append(mape)\n",
    "    \n",
    "MLP_mape = []\n",
    "for i, k in mape24_MLP.iterrows():\n",
    "    #print(i, k['rmse'])\n",
    "    s = k['mape'].split(':')[1]\n",
    "    mape = float(s)\n",
    "    MLP_mape.append(mape)\n",
    "    \n",
    "CNN_mape = []\n",
    "for i, k in mape24_CNN.iterrows():\n",
    "    #print(i, k['rmse'])    \n",
    "    s = k['mape'].split(':')[1]\n",
    "    mape = float(s)\n",
    "    CNN_mape.append(mape)\n",
    "    \n",
    "LSTM_mape = []\n",
    "for i, k in mape24_LSTM.iterrows():\n",
    "    #print(i, k['rmse'])    \n",
    "    s = k['mape'].split(':')[1]\n",
    "    mape = float(s)\n",
    "    LSTM_mape.append(mape)\n",
    "    \n",
    "Naive_mape = []\n",
    "for i, k in mape24_Naive.iterrows():\n",
    "    #print(i, k['rmse']) \n",
    "    s = k['mape'].split(':')[1]\n",
    "    mape = float(s)\n",
    "    Naive_mape.append(mape)\n"
   ]
  },
  {
   "cell_type": "code",
   "execution_count": 76,
   "metadata": {},
   "outputs": [
    {
     "name": "stdout",
     "output_type": "stream",
     "text": [
      "CNN     14.6 8.0\n",
      "MLP     16.3 6.9\n",
      "LSTM    42.3 41.9\n",
      "ETS     16.3 6.9\n",
      "Prophet 13.5 8.2\n",
      "AR      26.7 7.5\n",
      "Naive   20.7 16.1\n",
      "ARIMA   9.9 3.0\n"
     ]
    }
   ],
   "source": [
    "CNN_mape = np.array(CNN_mape)    \n",
    "MLP_mape = np.array(MLP_mape)\n",
    "LSTM_mape = np.array(LSTM_mape)\n",
    "ETS_mape = np.array(ETS_mape)\n",
    "prophet_mape = np.array(prophet_mape)\n",
    "AR_mape = np.array(ar_mape)\n",
    "ARIMA_mape = np.array(ARIMA_mape)\n",
    "Naive_mape = np.array(Naive_mape)\n",
    "\n",
    "print('CNN    ',round(np.mean(CNN_mape),1), round(np.std(CNN_mape),1))\n",
    "print('MLP    ',round(np.mean(MLP_mape),1), round(np.std(MLP_mape),1))\n",
    "print('LSTM   ',round(np.mean(LSTM_mape),1), round(np.std(LSTM_mape),1))\n",
    "print('ETS    ',round(np.mean(ETS_mape), 1), round(np.std(ETS_mape),1))\n",
    "print('Prophet',round(np.mean(prophet_mape),1), round(np.std(prophet_mape),1))\n",
    "print('AR     ',round(np.mean(AR_mape),1), round(np.std(AR_mape),1))\n",
    "print('Naive  ',round(np.mean(Naive_mape),1), round(np.std(Naive_mape),1))\n",
    "print('ARIMA  ',round(np.mean(ARIMA_mape),1), round(np.std(ARIMA_mape),1))"
   ]
  },
  {
   "cell_type": "code",
   "execution_count": 77,
   "metadata": {},
   "outputs": [
    {
     "data": {
      "image/png": "[encoded data removed]",
      "text/plain": [
       "<Figure size 504x288 with 1 Axes>"
      ]
     },
     "metadata": {
      "needs_background": "light"
     },
     "output_type": "display_data"
    }
   ],
   "source": [
    "mape_data_to_plot = [CNN_mape, MLP_mape, LSTM_mape, prophet_mape, ETS_mape, ARIMA_mape, ar_mape, Naive_mape]\n",
    "\n",
    "# Create a figure instance\n",
    "fig = plt.figure(1, figsize=(7, 4))\n",
    "\n",
    "# Create an axes instance\n",
    "ax = fig.add_subplot(111)\n",
    "\n",
    "# Create the boxplot\n",
    "bp = ax.boxplot(mape_data_to_plot, patch_artist=True)\n",
    "ax.set_xticklabels(['CNN', 'MLP', 'LSTM', 'Prophet', 'ETS', 'ARIMA', 'AR', 'Naive'], fontsize=12)\n",
    "ax.set_ylabel('MAPE', fontsize=12) \n",
    "\n",
    "# Save the figure\n",
    "fig.savefig('ConfrontoMetodiMAPE.jpeg', bbox_inches='tight')"
   ]
  },
  {
   "cell_type": "code",
   "execution_count": null,
   "metadata": {},
   "outputs": [],
   "source": []
  },
  {
   "cell_type": "code",
   "execution_count": null,
   "metadata": {},
   "outputs": [],
   "source": []
  },
  {
   "cell_type": "code",
   "execution_count": null,
   "metadata": {},
   "outputs": [],
   "source": []
  },
  {
   "cell_type": "code",
   "execution_count": null,
   "metadata": {},
   "outputs": [],
   "source": []
  },
  {
   "cell_type": "code",
   "execution_count": null,
   "metadata": {},
   "outputs": [],
   "source": []
  },
  {
   "cell_type": "code",
   "execution_count": null,
   "metadata": {},
   "outputs": [],
   "source": []
  }
 ],
 "metadata": {
  "kernelspec": {
   "display_name": "Python 3",
   "language": "python",
   "name": "python3"
  },
  "language_info": {
   "codemirror_mode": {
    "name": "ipython",
    "version": 3
   },
   "file_extension": ".py",
   "mimetype": "text/x-python",
   "name": "python",
   "nbconvert_exporter": "python",
   "pygments_lexer": "ipython3",
   "version": "3.7.4"
  }
 },
 "nbformat": 4,
 "nbformat_minor": 2
}
