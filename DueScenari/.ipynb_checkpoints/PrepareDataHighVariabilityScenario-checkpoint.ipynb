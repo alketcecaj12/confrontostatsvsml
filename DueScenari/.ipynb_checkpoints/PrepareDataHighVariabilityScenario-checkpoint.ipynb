{
 "cells": [
  {
   "cell_type": "code",
   "execution_count": 92,
   "metadata": {},
   "outputs": [],
   "source": [
    "import pandas as pd \n",
    "import numpy as np\n",
    "import matplotlib.pyplot as plt "
   ]
  },
  {
   "cell_type": "code",
   "execution_count": 119,
   "metadata": {},
   "outputs": [],
   "source": [
    "'''cells = ['486-1265','486-1266','486-1267','487-1265','487-1266','487-1267','487-1268','488-1267','488-1268',\n",
    "         '489-1267','489-1268','490-1267','490-1268',\n",
    "         '491-1268','492-1258','492-1260','492-1261','492-1262',\n",
    "         '492-1267','492-1268','493-1252','493-1262','493-1263','493-1264','493-1265','493-1266','493-1267',\n",
    "         '493-1268','494-1252','494-1257','494-1258',\n",
    "         '494-1267','494-1268','495-1254',\n",
    "         '495-1255','495-1256','495-1257','495-1258','495-1259','495-1263','495-1264','495-1265','495-1266',\n",
    "         '495-1267','495-1268','496-1255','496-1256','496-1257','496-1259','496-1260','496-1261','496-1263',\n",
    "         '497-1254','497-1255','497-1256','497-1257','497-1258','497-1259', '497-1265']\n",
    "'''"
   ]
  },
  {
   "cell_type": "code",
   "execution_count": 400,
   "metadata": {},
   "outputs": [],
   "source": [
    "cells = ['487-1268', '488-1268', '489-1267', '489-1268', '490-1267', '490-1268', '491-1266', '491-1267', \n",
    "         '491-1268', '492-1266', '492-1267', '492-1268', '493-1266', '493-1267', '493-1268', '494-1252', \n",
    "         '494-1266', '494-1267', '494-1268', '495-1252', '495-1253', '495-1265', '495-1266', '495-1267',\n",
    "         '495-1268', '496-1252', '496-1253', '496-1254', '496-1255', '496-1264', '496-1265', '496-1266',\n",
    "         '496-1267', '496-1268', '497-1252', '497-1253', '497-1254', '497-1259', '497-1262', '497-1263', \n",
    "         '497-1264', '497-1265', '497-1266', '497-1267', '497-1268', '498-1252', '498-1253', '498-1254', \n",
    "         '498-1257', '498-1258',\n",
    "         '498-1259', '498-1260', '498-1261', '498-1262', '498-1263', '498-1264', '498-1265', '498-1266', '498-1267']\n",
    "cells = ['486-1252', '487-1252', '487-1254', '487-1255', '487-1256', '488-1252', '488-1253', '488-1254', '488-1255', '489-1252', '489-1253', '489-1254', '489-1255', '489-1256', '489-1260', '490-1252', '490-1253', '490-1254', '490-1255', '490-1259', '490-1260', '490-1261', '491-1252', '491-1253', '491-1254', '491-1255', '491-1258', '491-1259', '491-1260', '491-1261', '492-1252', '492-1253', '492-1254', '492-1255', '492-1257', '492-1258', '492-1259', '492-1260', '492-1261', '492-1262', '492-1263', '493-1253', '493-1254', '493-1257', '493-1258', '493-1259', '493-1260', '493-1261', '493-1262', '493-1263', '493-1264', '493-1265', '494-1254', '494-1255', '494-1259', '494-1260', '494-1261', '494-1262', '494-1263', '494-1264', '495-1261', '495-1262', '495-1263']"
   ]
  },
  {
   "cell_type": "markdown",
   "metadata": {},
   "source": [
    "### ARIMA"
   ]
  },
  {
   "cell_type": "code",
   "execution_count": 401,
   "metadata": {},
   "outputs": [],
   "source": [
    "rmse_ARIMA = pd.read_csv('../Data/ARIMA/RMSE_error_data_4_ARIMA_MultistepForcast_12_V2.csv', header=None)\n",
    "rmse_ARIMA.columns = ['rmse']\n",
    "\n",
    "rmse_caotic_cells_arima = []\n",
    "for i, riga in rmse_ARIMA.iterrows():\n",
    "    valore = riga['rmse']\n",
    "    for j in cells: \n",
    "        if valore.startswith(j):\n",
    "            rmse_caotic_cells_arima.append(valore)\n",
    "            \n",
    "with open('ARIMA/RMSE_error_data_4_ARIMA_MultistepForcast_12_V2.csv', 'w') as f:\n",
    "    for s in rmse_caotic_cells_arima:\n",
    "        f.write(s + '\\n')            "
   ]
  },
  {
   "cell_type": "code",
   "execution_count": 402,
   "metadata": {},
   "outputs": [],
   "source": [
    "# cambiare i percorsi con i propri dati\n",
    "mape_ARIMA = pd.read_csv('../Data/ARIMA/MAPE_error_data_4_ARIMA_MultistepForcast_12_V2.csv', header=None)\n",
    "mape_ARIMA.columns = ['mape']\n",
    "\n",
    "mape_caotic_cells_arima = []\n",
    "for i, riga in mape_ARIMA.iterrows():\n",
    "    valore = riga['mape']\n",
    "    for j in cells: \n",
    "        if valore.startswith(j):\n",
    "            mape_caotic_cells_arima.append(valore)\n",
    "            \n",
    "with open('ARIMA/MAPE_error_data_4_ARIMA_MultistepForcast_12_V2.csv', 'w') as f:\n",
    "    for s in mape_caotic_cells_arima:\n",
    "        f.write(s + '\\n') "
   ]
  },
  {
   "cell_type": "code",
   "execution_count": 403,
   "metadata": {},
   "outputs": [],
   "source": [
    "colnames = ['min', 'Q1', 'mediana', 'Q3', 'max']\n",
    "\n",
    "# cambiare i percorsi con i propri dati\n",
    "data24_ARIMA_max = pd.read_csv('../Data/ARIMA/MAE_error_data_4_ARIMA_MultistepForcast_24_V2.csv',names=colnames, header=None)\n",
    "\n",
    "\n",
    "max_caotic_cells_arima = []\n",
    "for i, riga in data24_ARIMA_max.iterrows():\n",
    "    for j in cells: \n",
    "        if riga['min'].startswith(j):\n",
    "            s = str(riga['min'])+','+str(riga['Q1'])+','+str(riga['mediana'])+','+str(riga['Q3'])+','+str(riga['max'])\n",
    "            max_caotic_cells_arima.append(s)\n",
    "        \n",
    "with open('ARIMA/MAE_error_data_4_ARIMA_MultistepForcast_24_V2.csv', 'w') as f:\n",
    "    for s in max_caotic_cells_arima:\n",
    "        f.write(s + '\\n')         "
   ]
  },
  {
   "cell_type": "markdown",
   "metadata": {},
   "source": [
    "### MLP "
   ]
  },
  {
   "cell_type": "code",
   "execution_count": 404,
   "metadata": {},
   "outputs": [],
   "source": [
    "rmse_MLP = pd.read_csv('../Data/MLP/RMSE_error_data_4_MLP_with_STL_Decomposition_in24.csv', header=None)\n",
    "rmse_MLP.columns = ['rmse']\n",
    "\n",
    "rmse_caotic_cells_mlp = []\n",
    "for i, riga in rmse_MLP.iterrows():\n",
    "    valore = riga['rmse']\n",
    "    for j in cells: \n",
    "        if valore.startswith(j):\n",
    "            rmse_caotic_cells_mlp.append(valore)\n",
    "            \n",
    "with open('MLP/RMSE_error_data_4_MLP_with_STL_Decomposition_in24.csv', 'w') as f:\n",
    "    for s in rmse_caotic_cells_mlp:\n",
    "        f.write(s + '\\n') "
   ]
  },
  {
   "cell_type": "code",
   "execution_count": 405,
   "metadata": {},
   "outputs": [],
   "source": [
    "mape_MLP = pd.read_csv('../Data/MLP/MAPE_error_data_4_MLP_with_STL_Decomposition_in24.csv', header=None)\n",
    "mape_MLP.columns = ['mape']\n",
    "\n",
    "mape_caotic_cells_mlp = []\n",
    "for i, riga in mape_MLP.iterrows():\n",
    "    valore = riga['mape']\n",
    "    for j in cells: \n",
    "        if valore.startswith(j):\n",
    "            mape_caotic_cells_mlp.append(valore)\n",
    "            \n",
    "with open('MLP/MAPE_error_data_4_MLP_with_STL_Decomposition_in24.csv', 'w') as f:\n",
    "    for s in mape_caotic_cells_mlp:\n",
    "        f.write(s + '\\n')"
   ]
  },
  {
   "cell_type": "code",
   "execution_count": 406,
   "metadata": {},
   "outputs": [],
   "source": [
    "# cambiare i percorsi con i propri dati\n",
    "data24_MLP_max = pd.read_csv('../Data/MLP/MAE_error_data_4_MLP_with_STL_Decomposition_in24.csv',names=colnames, header=None)\n",
    "\n",
    "\n",
    "max_caotic_cells_mlp = []\n",
    "for i, riga in data24_MLP_max.iterrows():\n",
    "    for j in cells: \n",
    "        if riga['min'].startswith(j):\n",
    "            s = str(riga['min'])+','+str(riga['Q1'])+','+str(riga['mediana'])+','+str(riga['Q3'])+','+str(riga['max'])\n",
    "            max_caotic_cells_mlp.append(s)\n",
    "        \n",
    "with open('MLP/MAE_error_data_4_MLP_with_STL_Decomposition_in24.csv', 'w') as f:\n",
    "    for s in max_caotic_cells_mlp:\n",
    "        f.write(s + '\\n')         "
   ]
  },
  {
   "cell_type": "markdown",
   "metadata": {},
   "source": [
    "### ETS"
   ]
  },
  {
   "cell_type": "code",
   "execution_count": 407,
   "metadata": {},
   "outputs": [],
   "source": [
    "rmse_ETS = pd.read_csv('../Data/ETS/RMSE_error_data_4_ETS_MultistepForcast_24_v2.csv', header=None)\n",
    "rmse_ETS.columns = ['rmse']\n",
    "\n",
    "rmse_caotic_cells_ets = []\n",
    "for i, riga in rmse_ETS.iterrows():\n",
    "    valore = riga['rmse']\n",
    "    for j in cells: \n",
    "        if valore.startswith(j):\n",
    "            rmse_caotic_cells_ets.append(valore)\n",
    "            \n",
    "with open('ETS/RMSE_error_data_4_ETS_MultistepForcast_24_v2.csv', 'w') as f:\n",
    "    for s in rmse_caotic_cells_ets:\n",
    "        f.write(s + '\\n') "
   ]
  },
  {
   "cell_type": "code",
   "execution_count": 408,
   "metadata": {},
   "outputs": [],
   "source": [
    "mape_ETS = pd.read_csv('../Data/ETS/MAPE_error_data_4_ETS_MultistepForcast_24_v2.csv', header=None)\n",
    "mape_ETS.columns = ['mape']\n",
    "\n",
    "mape_caotic_cells_ets = []\n",
    "for i, riga in mape_MLP.iterrows():\n",
    "    valore = riga['mape']\n",
    "    for j in cells: \n",
    "        if valore.startswith(j):\n",
    "            mape_caotic_cells_ets.append(valore)\n",
    "            \n",
    "with open('ETS/MAPE_error_data_4_ETS_MultistepForcast_24_v2.csv', 'w') as f:\n",
    "    for s in mape_caotic_cells_ets:\n",
    "        f.write(s + '\\n')"
   ]
  },
  {
   "cell_type": "code",
   "execution_count": 409,
   "metadata": {},
   "outputs": [],
   "source": [
    "# cambiare i percorsi con i propri dati\n",
    "data24_ETS_max = pd.read_csv('../Data/ETS/MAE_error_data_4_ETS_MultistepForcast_24_v2.csv',names=colnames, header=None)\n",
    "\n",
    "\n",
    "max_caotic_cells_ets = []\n",
    "for i, riga in data24_ETS_max.iterrows():\n",
    "    for j in cells: \n",
    "        if riga['min'].startswith(j):\n",
    "            s = str(riga['min'])+','+str(riga['Q1'])+','+str(riga['mediana'])+','+str(riga['Q3'])+','+str(riga['max'])\n",
    "            max_caotic_cells_ets.append(s)\n",
    "        \n",
    "with open('ETS/MAE_error_data_4_ETS_MultistepForcast_24_v2.csv', 'w') as f:\n",
    "    for s in max_caotic_cells_ets:\n",
    "        f.write(s + '\\n')  "
   ]
  },
  {
   "cell_type": "markdown",
   "metadata": {},
   "source": [
    "### Prophet "
   ]
  },
  {
   "cell_type": "code",
   "execution_count": 410,
   "metadata": {},
   "outputs": [],
   "source": [
    "rmse_Prophet = pd.read_csv('../Data/Prophet/RMSE_error_data_4_Prophet_with_STL_Decomposition_24.csv', header=None)\n",
    "rmse_Prophet.columns = ['rmse']\n",
    "\n",
    "rmse_caotic_cells_prophet = []\n",
    "for i, riga in rmse_Prophet.iterrows():\n",
    "    valore = riga['rmse']\n",
    "    for j in cells: \n",
    "        if valore.startswith(j):\n",
    "            rmse_caotic_cells_prophet.append(valore)\n",
    "            \n",
    "with open('Prophet/RMSE_error_data_4_Prophet_with_STL_Decomposition_24.csv', 'w') as f:\n",
    "    for s in rmse_caotic_cells_prophet:\n",
    "        f.write(s + '\\n') "
   ]
  },
  {
   "cell_type": "code",
   "execution_count": 411,
   "metadata": {},
   "outputs": [],
   "source": [
    "mape_Prophet = pd.read_csv('../Data/Prophet/MAPE_error_data_4_Prophet_with_STL_Decomposition_24.csv', header=None)\n",
    "mape_Prophet.columns = ['mape']\n",
    "\n",
    "mape_caotic_cells_mape = []\n",
    "for i, riga in mape_Prophet.iterrows():\n",
    "    valore = riga['mape']\n",
    "    for j in cells: \n",
    "        if valore.startswith(j):\n",
    "            mape_caotic_cells_mape.append(valore)\n",
    "            \n",
    "with open('Prophet/MAPE_error_data_4_Prophet_with_STL_Decomposition_24.csv', 'w') as f:\n",
    "    for s in mape_caotic_cells_mape:\n",
    "        f.write(s + '\\n')"
   ]
  },
  {
   "cell_type": "code",
   "execution_count": 412,
   "metadata": {},
   "outputs": [],
   "source": [
    "# cambiare i percorsi con i propri dati\n",
    "data24_Prophet_max = pd.read_csv('../Data/Prophet/MAE_error_data_4_Prophet_with_STL_Decomposition_24.csv',names=colnames, header=None)\n",
    "\n",
    "\n",
    "max_caotic_cells_prophet = []\n",
    "for i, riga in data24_Prophet_max.iterrows():\n",
    "    for j in cells: \n",
    "        if riga['min'].startswith(j):\n",
    "            s = str(riga['min'])+','+str(riga['Q1'])+','+str(riga['mediana'])+','+str(riga['Q3'])+','+str(riga['max'])\n",
    "            max_caotic_cells_prophet.append(s)\n",
    "        \n",
    "with open('Prophet/MAE_error_data_4_Prophet_with_STL_Decomposition_24.csv', 'w') as f:\n",
    "    for s in max_caotic_cells_prophet:\n",
    "        f.write(s + '\\n') "
   ]
  },
  {
   "cell_type": "markdown",
   "metadata": {},
   "source": [
    "### Naive "
   ]
  },
  {
   "cell_type": "code",
   "execution_count": 413,
   "metadata": {},
   "outputs": [],
   "source": [
    "rmse_Naive = pd.read_csv('../Data/Naive/RMSE_error_data_4_Naive_DayHourAveragePrediction.csv', header=None)\n",
    "rmse_Naive.columns = ['rmse']\n",
    "\n",
    "rmse_caotic_cells_naive = []\n",
    "for i, riga in rmse_Naive.iterrows():\n",
    "    valore = riga['rmse']\n",
    "    for j in cells: \n",
    "        if valore.startswith(j):\n",
    "            rmse_caotic_cells_naive.append(valore)\n",
    "            \n",
    "with open('Naive/RMSE_error_data_4_Naive_DayHourAveragePrediction.csv', 'w') as f:\n",
    "    for s in rmse_caotic_cells_naive:\n",
    "        f.write(s + '\\n') "
   ]
  },
  {
   "cell_type": "code",
   "execution_count": 414,
   "metadata": {},
   "outputs": [],
   "source": [
    "mape_Naive = pd.read_csv('../Data/Naive/MAPE_error_data_4_Naive_DayHourAveragePrediction.csv', header=None)\n",
    "mape_Naive.columns = ['mape']\n",
    "\n",
    "mape_caotic_cells_naive = []\n",
    "for i, riga in mape_Naive.iterrows():\n",
    "    valore = riga['mape']\n",
    "    for j in cells: \n",
    "        if valore.startswith(j):\n",
    "            mape_caotic_cells_naive.append(valore)\n",
    "            \n",
    "with open('Naive/MAPE_error_data_4_Naive_DayHourAveragePrediction.csv', 'w') as f:\n",
    "    for s in mape_caotic_cells_naive:\n",
    "        f.write(s + '\\n')"
   ]
  },
  {
   "cell_type": "code",
   "execution_count": 415,
   "metadata": {},
   "outputs": [],
   "source": [
    "# cambiare i percorsi con i propri dati\n",
    "data24_Naive_max = pd.read_csv('../Data/Naive/MAE_error_data_4_Naive_DayHourAveragePrediction.csv',names=colnames, header=None)\n",
    "\n",
    "\n",
    "max_caotic_cells_naive = []\n",
    "for i, riga in data24_Naive_max.iterrows():\n",
    "    for j in cells: \n",
    "        if riga['min'].startswith(j):\n",
    "            s = str(riga['min'])+','+str(riga['Q1'])+','+str(riga['mediana'])+','+str(riga['Q3'])+','+str(riga['max'])\n",
    "            max_caotic_cells_naive.append(s)\n",
    "        \n",
    "with open('Naive/MAE_error_data_4_Naive_DayHourAveragePrediction.csv', 'w') as f:\n",
    "    for s in max_caotic_cells_naive:\n",
    "        f.write(s + '\\n') "
   ]
  },
  {
   "cell_type": "markdown",
   "metadata": {},
   "source": [
    "### LSTM "
   ]
  },
  {
   "cell_type": "code",
   "execution_count": 416,
   "metadata": {},
   "outputs": [],
   "source": [
    "rmse_LSTM = pd.read_csv('../Data/LSTM/RMSE_error_data_4_LSTM_with_STL_Decomposition_24.csv', header=None)\n",
    "rmse_LSTM.columns = ['rmse']\n",
    "\n",
    "rmse_caotic_cells_lstm = []\n",
    "for i, riga in rmse_LSTM.iterrows():\n",
    "    valore = riga['rmse']\n",
    "    for j in cells: \n",
    "        if valore.startswith(j):\n",
    "            rmse_caotic_cells_lstm.append(valore)\n",
    "            \n",
    "with open('LSTM/RMSE_error_data_4_LSTM_with_STL_Decomposition_24.csv', 'w') as f:\n",
    "    for s in rmse_caotic_cells_lstm:\n",
    "        f.write(s + '\\n') "
   ]
  },
  {
   "cell_type": "code",
   "execution_count": 417,
   "metadata": {},
   "outputs": [],
   "source": [
    "mape_LSTM = pd.read_csv('../Data/LSTM/MAPE_error_data_4_LSTM_with_STL_Decomposition_24.csv', header=None)\n",
    "mape_LSTM.columns = ['mape']\n",
    "\n",
    "mape_caotic_cells_lstm = []\n",
    "for i, riga in mape_LSTM.iterrows():\n",
    "    valore = riga['mape']\n",
    "    for j in cells: \n",
    "        if valore.startswith(j):\n",
    "            mape_caotic_cells_lstm.append(valore)\n",
    "            \n",
    "with open('LSTM/MAPE_error_data_4_LSTM_with_STL_Decomposition_24.csv', 'w') as f:\n",
    "    for s in mape_caotic_cells_lstm:\n",
    "        f.write(s + '\\n')"
   ]
  },
  {
   "cell_type": "code",
   "execution_count": 418,
   "metadata": {},
   "outputs": [],
   "source": [
    "# cambiare i percorsi con i propri dati\n",
    "data24_LSTM_max = pd.read_csv('../Data/LSTM/MAE_error_data_4_LSTM_with_STL_Decomposition_24.csv',names=colnames, header=None)\n",
    "\n",
    "\n",
    "max_caotic_cells_lstm = []\n",
    "for i, riga in data24_LSTM_max.iterrows():\n",
    "    for j in cells: \n",
    "        if riga['min'].startswith(j):\n",
    "            s = str(riga['min'])+','+str(riga['Q1'])+','+str(riga['mediana'])+','+str(riga['Q3'])+','+str(riga['max'])\n",
    "            max_caotic_cells_lstm.append(s)\n",
    "        \n",
    "with open('LSTM/MAE_error_data_4_LSTM_with_STL_Decomposition_24.csv', 'w') as f:\n",
    "    for s in max_caotic_cells_lstm:\n",
    "        f.write(s + '\\n') "
   ]
  },
  {
   "cell_type": "markdown",
   "metadata": {},
   "source": [
    "### CNN"
   ]
  },
  {
   "cell_type": "code",
   "execution_count": 419,
   "metadata": {},
   "outputs": [],
   "source": [
    "rmse_CNN = pd.read_csv('../Data/CNN/RMSE_error_data_4_CNN_with_STL_Decomposition_in24.csv', header=None)\n",
    "rmse_CNN.columns = ['rmse']\n",
    "\n",
    "rmse_caotic_cells_cnn = []\n",
    "for i, riga in rmse_CNN.iterrows():\n",
    "    valore = riga['rmse']\n",
    "    for j in cells: \n",
    "        if valore.startswith(j):\n",
    "            rmse_caotic_cells_cnn.append(valore)\n",
    "            \n",
    "with open('CNN/RMSE_error_data_4_CNN_with_STL_Decomposition_in24.csv', 'w') as f:\n",
    "    for s in rmse_caotic_cells_cnn:\n",
    "        f.write(s + '\\n') "
   ]
  },
  {
   "cell_type": "code",
   "execution_count": 420,
   "metadata": {},
   "outputs": [],
   "source": [
    "mape_CNN = pd.read_csv('../Data/CNN/MAPE_error_data_4_CNN_with_STL_Decomposition_in24.csv', header=None)\n",
    "mape_CNN.columns = ['mape']\n",
    "\n",
    "mape_caotic_cells_cnn = []\n",
    "for i, riga in mape_CNN.iterrows():\n",
    "    valore = riga['mape']\n",
    "    for j in cells: \n",
    "        if valore.startswith(j):\n",
    "            mape_caotic_cells_cnn.append(valore)\n",
    "            \n",
    "with open('CNN/MAPE_error_data_4_CNN_with_STL_Decomposition_in24.csv', 'w') as f:\n",
    "    for s in mape_caotic_cells_cnn:\n",
    "        f.write(s + '\\n')"
   ]
  },
  {
   "cell_type": "code",
   "execution_count": 421,
   "metadata": {},
   "outputs": [],
   "source": [
    "# cambiare i percorsi con i propri dati\n",
    "data24_CNN_max = pd.read_csv('../Data/CNN/MAE_error_data_4_CNN_with_STL_Decomposition_in24.csv',names=colnames, header=None)\n",
    "\n",
    "\n",
    "max_caotic_cells_cnn = []\n",
    "for i, riga in data24_CNN_max.iterrows():\n",
    "    for j in cells: \n",
    "        if riga['min'].startswith(j):\n",
    "            s = str(riga['min'])+','+str(riga['Q1'])+','+str(riga['mediana'])+','+str(riga['Q3'])+','+str(riga['max'])\n",
    "            max_caotic_cells_cnn.append(s)\n",
    "        \n",
    "with open('CNN/MAE_error_data_4_CNN_with_STL_Decomposition_in24.csv', 'w') as f:\n",
    "    for s in max_caotic_cells_cnn:\n",
    "        f.write(s + '\\n') "
   ]
  },
  {
   "cell_type": "markdown",
   "metadata": {},
   "source": [
    "### AR"
   ]
  },
  {
   "cell_type": "code",
   "execution_count": 422,
   "metadata": {},
   "outputs": [],
   "source": [
    "rmse_AR = pd.read_csv('../Data/AR/RMSE_error_data_4_Autoregression_24_StepForecast.csv', header=None)\n",
    "rmse_AR.columns = ['rmse']\n",
    "\n",
    "rmse_caotic_cells_ar = []\n",
    "for i, riga in rmse_AR.iterrows():\n",
    "    valore = riga['rmse']\n",
    "    for j in cells: \n",
    "        if valore.startswith(j):\n",
    "            rmse_caotic_cells_ar.append(valore)\n",
    "            \n",
    "with open('AR/RMSE_error_data_4_Autoregression_24_StepForecast.csv', 'w') as f:\n",
    "    for s in rmse_caotic_cells_ar:\n",
    "        f.write(s + '\\n') "
   ]
  },
  {
   "cell_type": "code",
   "execution_count": 423,
   "metadata": {},
   "outputs": [],
   "source": [
    "mape_AR = pd.read_csv('../Data/AR/MAPE_error_data_4_Autoregression_24_StepForecast.csv', header=None)\n",
    "mape_AR.columns = ['mape']\n",
    "\n",
    "mape_caotic_cells_ar = []\n",
    "for i, riga in mape_AR.iterrows():\n",
    "    valore = riga['mape']\n",
    "    for j in cells: \n",
    "        if valore.startswith(j):\n",
    "            mape_caotic_cells_ar.append(valore)\n",
    "            \n",
    "with open('AR/MAPE_error_data_4_Autoregression_24_StepForecast.csv', 'w') as f:\n",
    "    for s in mape_caotic_cells_ar:\n",
    "        f.write(s + '\\n')"
   ]
  },
  {
   "cell_type": "code",
   "execution_count": 424,
   "metadata": {},
   "outputs": [],
   "source": [
    "# cambiare i percorsi con i propri dati\n",
    "data24_AR_max = pd.read_csv('../Data/AR/MAE_error_data_4_Autoregression_24_StepForecast.csv',names=colnames, header=None)\n",
    "\n",
    "\n",
    "max_caotic_cells_ar = []\n",
    "for i, riga in data24_AR_max.iterrows():\n",
    "    for j in cells: \n",
    "        if riga['min'].startswith(j):\n",
    "            s = str(riga['min'])+','+str(riga['Q1'])+','+str(riga['mediana'])+','+str(riga['Q3'])+','+str(riga['max'])\n",
    "            max_caotic_cells_ar.append(s)\n",
    "        \n",
    "with open('AR/MAE_error_data_4_Autoregression_24_StepForecast.csv', 'w') as f:\n",
    "    for s in max_caotic_cells_ar:\n",
    "        f.write(s + '\\n') "
   ]
  },
  {
   "cell_type": "code",
   "execution_count": null,
   "metadata": {},
   "outputs": [],
   "source": []
  },
  {
   "cell_type": "code",
   "execution_count": null,
   "metadata": {},
   "outputs": [],
   "source": []
  },
  {
   "cell_type": "code",
   "execution_count": null,
   "metadata": {},
   "outputs": [],
   "source": []
  },
  {
   "cell_type": "code",
   "execution_count": null,
   "metadata": {},
   "outputs": [],
   "source": []
  },
  {
   "cell_type": "code",
   "execution_count": null,
   "metadata": {},
   "outputs": [],
   "source": []
  }
 ],
 "metadata": {
  "kernelspec": {
   "display_name": "Python 3",
   "language": "python",
   "name": "python3"
  },
  "language_info": {
   "codemirror_mode": {
    "name": "ipython",
    "version": 3
   },
   "file_extension": ".py",
   "mimetype": "text/x-python",
   "name": "python",
   "nbconvert_exporter": "python",
   "pygments_lexer": "ipython3",
   "version": "3.7.4"
  }
 },
 "nbformat": 4,
 "nbformat_minor": 2
}
