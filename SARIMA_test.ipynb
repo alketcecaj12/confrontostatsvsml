{
 "cells": [
  {
   "cell_type": "code",
   "execution_count": 1,
   "metadata": {},
   "outputs": [],
   "source": [
    "#from statsmodels.tsa.arima_model import \n",
    "from statsmodels.tsa.statespace.sarimax import SARIMAX\n",
    "import pandas as pd\n",
    "import numpy as np\n",
    "import math\n",
    "\n",
    "import warnings\n",
    "warnings.filterwarnings('ignore')\n",
    "\n",
    "\n",
    "# split a univariate sequence into samples\n",
    "def split_sequence(sequence, n_steps_in, n_steps_out):\n",
    "    X, y = list(), list()\n",
    "    for i in range(len(sequence)):\n",
    "         # find the end of this pattern\n",
    "         end_ix = i + n_steps_in\n",
    "         out_end_ix = end_ix + n_steps_out\n",
    "         # check if we are beyond the sequence\n",
    "         if out_end_ix > len(sequence):\n",
    "             break\n",
    "         # gather input and output parts of the pattern\n",
    "         seq_x, seq_y = sequence[i:end_ix], sequence[end_ix:out_end_ix]\n",
    "         X.append(seq_x)\n",
    "         y.append(seq_y)\n",
    "    return np.array(X), np.array(y)"
   ]
  },
  {
   "cell_type": "code",
   "execution_count": 4,
   "metadata": {},
   "outputs": [],
   "source": [
    "data = pd.read_csv('/Users/alket/Desktop/dati/new_data_backfill_forwfill.csv', index_col = 0, \n",
    "                   header=0, parse_dates=True)\n",
    "agg_by_cell = data.groupby(by = ['cell_num'])"
   ]
  },
  {
   "cell_type": "code",
   "execution_count": 8,
   "metadata": {},
   "outputs": [
    {
     "name": "stdout",
     "output_type": "stream",
     "text": [
      "2952\n"
     ]
    }
   ],
   "source": [
    "cell_i = agg_by_cell.get_group('486-1252')\n",
    "series = cell_i.iloc[::4, :]\n",
    "print(len(series))"
   ]
  },
  {
   "cell_type": "code",
   "execution_count": 28,
   "metadata": {},
   "outputs": [],
   "source": [
    "step_in, step_out = 2920, 12\n",
    "X_data, y_data = split_sequence(series['nr_people'].values, step_in, step_out)"
   ]
  },
  {
   "cell_type": "code",
   "execution_count": 29,
   "metadata": {
    "scrolled": true
   },
   "outputs": [
    {
     "name": "stdout",
     "output_type": "stream",
     "text": [
      "[45. 51. 55. 51. 53. 46. 42. 38. 39. 34. 29. 26.]\n",
      "[47.79619015 52.72588012 54.18551846 53.05843723 53.607034   48.76601115\n",
      " 43.86736679 39.62001988 38.3329303  32.39844268 27.40053419 23.98510229]\n",
      "[51. 55. 51. 53. 46. 42. 38. 39. 34. 29. 26. 23.]\n",
      "[50.36356954 51.98158229 50.91494314 51.4845492  46.64767951 41.7491796\n",
      " 37.50558881 36.22048026 30.2862543  25.28972036 21.87732074 18.53858401]\n",
      "[55. 51. 53. 46. 42. 38. 39. 34. 29. 26. 23. 22.]\n",
      "[52.51869776 51.41536841 51.97163206 47.13022181 42.23053016 37.98533716\n",
      " 36.69920446 30.76503786 25.76755128 22.35380836 19.01427235 16.51410147]\n",
      "[51. 53. 46. 42. 38. 39. 34. 29. 26. 23. 22. 21.]\n",
      "[53.51003179 53.924483   49.03694613 44.12140551 39.86642755 38.57724637\n",
      " 32.64035512 27.64021207 24.22467961 20.88486932 18.38466686 18.14538189]\n",
      "[53. 46. 42. 38. 39. 34. 29. 26. 23. 22. 21. 24.]\n",
      "[51.80455953 47.0680783  42.20952132 37.97259247 36.69105432 30.75511842\n",
      " 25.75380708 22.33771675 18.99901738 16.49907141 16.26053099 17.38915323]\n",
      "[46. 42. 38. 39. 34. 29. 26. 23. 22. 21. 24. 22.]\n",
      "[48.07875672 43.15206244 38.88910838 37.59799928 31.65826532 26.65524875\n",
      " 23.23822559 19.89918834 17.3994243  17.16100938 18.28933994 16.41274177]\n",
      "[42. 38. 39. 34. 29. 26. 23. 22. 21. 24. 22. 22.]\n",
      "[41.39030397 37.25000443 36.00344962 30.08234119 25.08843622 21.6762663\n",
      " 18.33848667 15.83905887 15.59969934 16.73007749 14.85812198 17.29856936]\n",
      "[38. 39. 34. 29. 26. 23. 22. 21. 24. 22. 22. 31.]\n",
      "[37.76422524 36.48249607 30.54791043 25.54840338 22.13349856 18.79477651\n",
      " 16.2950275  16.05588955 17.18572302 15.312452   17.75249984 25.68745889]\n",
      "[39. 34. 29. 26. 23. 22. 21. 24. 22. 22. 31. 31.]\n",
      "[36.68179752 30.7336924  25.72918227 22.3124057  18.97297453 16.47295781\n",
      " 16.23370357 17.363483   15.49044084 17.9304969  25.86547368 28.02304364]\n",
      "[34. 29. 26. 23. 22. 21. 24. 22. 22. 31. 31. 32.]\n",
      "[32.69138305 27.55265549 24.08669518 20.72887697 18.22193909 17.97966736\n",
      " 19.10916071 17.23714228 19.6777588  27.61300799 29.77073894 32.5028978 ]\n",
      "[29. 26. 23. 22. 21. 24. 22. 22. 31. 31. 32. 34.]\n",
      "[28.6582981  25.11855301 21.73300763 19.21554722 18.96819783 20.09794672\n",
      " 18.22890495 20.6702416  28.60691385 30.76504568 33.4933062  38.75516683]\n",
      "[26. 23. 22. 21. 24. 22. 22. 31. 31. 32. 34. 38.]\n",
      "[25.40443244 21.99795506 19.47226233 19.22194466 20.34982845 18.47811348\n",
      " 20.91838685 28.85337808 31.01160389 33.73962081 38.99886007 42.15865003]\n",
      "[23. 22. 21. 24. 22. 22. 31. 31. 32. 34. 38. 43.]\n",
      "[22.50118944 19.94032582 19.67590072 20.79983285 18.92865463 21.3689179\n",
      " 29.30424436 31.46287424 34.18906236 39.44776865 42.60526912 44.39974922]\n",
      "[22. 21. 24. 22. 22. 31. 31. 32. 34. 38. 43. 49.]\n",
      "[20.36208509 20.06763751 21.18190186 19.30920326 21.74862681 29.68375381\n",
      " 31.84242405 34.56539588 39.82329566 42.97904988 44.77913534 49.40760495]\n",
      "[21. 24. 22. 22. 31. 31. 32. 34. 38. 43. 49. 52.]\n",
      "[21.44860449 22.46625476 20.55719552 22.98307979 30.91340001 33.07052603\n",
      " 35.79387904 41.05269247 44.20853981 46.00731674 50.63732306 55.61574298]\n",
      "[24. 22. 22. 31. 31. 32. 34. 38. 43. 49. 52. 53.]\n",
      "[22.08910532 20.20748369 22.64368193 30.57819028 32.73721291 35.46119362\n",
      " 40.72096503 43.87555208 45.67576036 50.30670441 55.28473882 56.8395269 ]\n",
      "[22. 22. 31. 31. 32. 34. 38. 43. 49. 52. 53. 52.]\n",
      "[21.81806521 24.14245938 32.03541759 34.17904528 36.89683505 42.15435622\n",
      " 45.307744   47.10858236 51.73912028 56.71709051 58.27131186 57.01792025]\n",
      "[22. 31. 31. 32. 34. 38. 43. 49. 52. 53. 52. 54.]\n",
      "[24.29549417 32.17762096 34.31731472 37.03290682 42.28987113 45.44211715\n",
      " 47.24439183 51.8749976  56.85240646 58.40551778 57.1532286  57.74726164]\n",
      "[31. 31. 32. 34. 38. 43. 49. 52. 53. 52. 54. 48.]\n",
      "[30.24207449 32.51679834 35.2843881  40.56048131 43.72145041 45.52384538\n",
      " 50.15548119 55.13349821 56.68853087 55.43444778 56.0289822  51.11773868]\n",
      "[31. 32. 34. 38. 43. 49. 52. 53. 52. 54. 48. 42.]\n",
      "[33.15512463 35.8777338  41.13686733 44.29153403 46.09146816 50.72216329\n",
      " 55.69984738 57.25479109 56.00078704 56.59533163 51.6841011  46.81717975]\n",
      "[32. 34. 38. 43. 49. 52. 53. 52. 54. 48. 42. 40.]\n",
      "[34.06352718 39.44964609 42.65337461 44.46967764 49.10653105 54.08704248\n",
      " 55.64439439 54.38930214 54.98406745 50.07367584 45.20781844 40.97832   ]\n"
     ]
    }
   ],
   "source": [
    "# fit model\n",
    "my_order = (1, 1, 1)\n",
    "my_seasonal_order = (1, 1, 1, 24, 'n')\n",
    "# define model\n",
    "expected = y_data\n",
    "forecasted = []\n",
    "for i in range(len(X_data)):\n",
    "    \n",
    "    model = SARIMAX(X_data[i], order=my_order, seasonal_order=my_seasonal_order)\n",
    "        \n",
    "    #model = ARIMA(differenced, order=(ar,ii, ma))\n",
    "    model_fit = model.fit(disp=0)\n",
    "\n",
    "    # multi-step out-of-sample forecast\n",
    "    forecast = model_fit.forecast(steps=step_out)[:24]\n",
    "    forecasted.append(forecast)\n",
    "    print(y_data[i])\n",
    "    print(forecast)"
   ]
  },
  {
   "cell_type": "code",
   "execution_count": 30,
   "metadata": {},
   "outputs": [],
   "source": [
    "forecasted = np.array(forecasted)  \n",
    "error = abs(forecasted - expected)"
   ]
  },
  {
   "cell_type": "code",
   "execution_count": 31,
   "metadata": {},
   "outputs": [
    {
     "data": {
      "image/png": "[encoded data removed]",
      "text/plain": [
       "<Figure size 1296x432 with 1 Axes>"
      ]
     },
     "metadata": {
      "needs_background": "light"
     },
     "output_type": "display_data"
    }
   ],
   "source": [
    "import matplotlib.pyplot as plt\n",
    "plt.figure(figsize = (18, 6))\n",
    "plt.boxplot(error, vert = False)\n",
    "plt.show()"
   ]
  },
  {
   "cell_type": "code",
   "execution_count": null,
   "metadata": {},
   "outputs": [],
   "source": []
  },
  {
   "cell_type": "code",
   "execution_count": null,
   "metadata": {},
   "outputs": [],
   "source": []
  },
  {
   "cell_type": "code",
   "execution_count": null,
   "metadata": {},
   "outputs": [],
   "source": []
  }
 ],
 "metadata": {
  "kernelspec": {
   "display_name": "Python 3",
   "language": "python",
   "name": "python3"
  },
  "language_info": {
   "codemirror_mode": {
    "name": "ipython",
    "version": 3
   },
   "file_extension": ".py",
   "mimetype": "text/x-python",
   "name": "python",
   "nbconvert_exporter": "python",
   "pygments_lexer": "ipython3",
   "version": "3.7.4"
  }
 },
 "nbformat": 4,
 "nbformat_minor": 2
}
