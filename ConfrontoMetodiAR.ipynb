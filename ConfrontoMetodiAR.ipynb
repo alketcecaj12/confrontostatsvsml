{
 "cells": [
  {
   "cell_type": "code",
   "execution_count": 1,
   "metadata": {},
   "outputs": [],
   "source": [
    "import pandas as pd \n",
    "import numpy as np \n",
    "import matplotlib.pyplot as plt"
   ]
  },
  {
   "cell_type": "code",
   "execution_count": 2,
   "metadata": {},
   "outputs": [],
   "source": [
    "# cambiare i percorsi con i propri dati\n",
    "data3_AR = pd.read_csv('Data/AR/RMSE_error_data_4_Autoregression_3_StepForecast.csv', header=None)\n",
    "data3_AR.columns = ['rmse']\n",
    "\n",
    "data6_AR = pd.read_csv('Data/AR/RMSE_error_data_4_Autoregression_6_StepForecast.csv', header=None)\n",
    "data6_AR.columns = ['rmse']\n",
    "\n",
    "data12_AR = pd.read_csv('Data/AR/RMSE_error_data_4_Autoregression_12_StepForecast.csv', header=None)\n",
    "data12_AR.columns = ['rmse']\n",
    "\n",
    "data24_AR = pd.read_csv('Data/AR/RMSE_error_data_4_Autoregression_24_StepForecast.csv', header=None)\n",
    "data24_AR.columns = ['rmse']\n",
    "\n",
    "data48_AR = pd.read_csv('Data/AR/RMSE_error_data_4_Autoregression_48_StepForecast.csv', header=None)\n",
    "data48_AR.columns = ['rmse']\n"
   ]
  },
  {
   "cell_type": "code",
   "execution_count": 3,
   "metadata": {},
   "outputs": [],
   "source": [
    "step3 = []\n",
    "for i, riga in data3_AR.iterrows():\n",
    "    valore = riga['rmse'].split(':')[1]\n",
    "    step3.append(float(valore))\n",
    "\n",
    "step6 = []\n",
    "for i, riga in data6_AR.iterrows():\n",
    "    valore = riga['rmse'].split(':')[1]\n",
    "    step6.append(float(valore))\n",
    "    \n",
    "step12 = []\n",
    "for i, riga in data12_AR.iterrows():\n",
    "    valore = riga['rmse'].split(':')[1]\n",
    "    step12.append(float(valore))\n",
    "\n",
    "step24 = []\n",
    "for i, riga in data24_AR.iterrows():\n",
    "    valore = riga['rmse'].split(':')[1]\n",
    "    step24.append(float(valore))\n",
    "    \n",
    "step48 = []\n",
    "for i, riga in data48_AR.iterrows():\n",
    "    valore = riga['rmse'].split(':')[1]\n",
    "    step48.append(float(valore)) \n",
    "\n",
    "step3 = np.array(step3)    \n",
    "step6 = np.array(step6)\n",
    "step12 = np.array(step12)\n",
    "step24 = np.array(step24)\n",
    "step48 = np.array(step48)"
   ]
  },
  {
   "cell_type": "markdown",
   "metadata": {},
   "source": [
    "### Stats"
   ]
  },
  {
   "cell_type": "code",
   "execution_count": 4,
   "metadata": {},
   "outputs": [
    {
     "name": "stdout",
     "output_type": "stream",
     "text": [
      "AR RMSE Mean         8.39 16.75 32.14 36.95 39.75\n",
      "AR RMSE Std.Dev      10.38 21.93 43.47 49.58 52.53\n",
      "AR Max               74.37 161.18 318.98 359.91 378.71\n"
     ]
    }
   ],
   "source": [
    "mean3m = np.mean(step3)\n",
    "mean6m = np.mean(step6)\n",
    "mean12m = np.mean(step12)\n",
    "mean24m = np.mean(step24)\n",
    "mean48m = np.mean(step48)\n",
    "print('AR RMSE Mean        ',round(mean3m,2) ,round(mean6m,2), round(mean12m,2), round(mean24m,2), round(mean48m,2))\n",
    "\n",
    "mean3std = np.std(step3)\n",
    "mean6std = np.std(step6)\n",
    "mean12std = np.std(step12)\n",
    "mean24std = np.std(step24)\n",
    "mean48std = np.std(step48)\n",
    "print('AR RMSE Std.Dev     ', round(mean3std,2) , round(mean6std,2), round(mean12std,2), round(mean24std,2), round(mean48std,2))\n",
    "\n",
    "max3 = np.max(step3)\n",
    "max6 = np.max(step6)\n",
    "max12 = np.max(step12)\n",
    "max24 = np.max(step24)\n",
    "max48 = np.max(step48)\n",
    "print('AR Max              ', round(max3,2), round(max6,2), round(max12,2), round(max24,2), round(max48,2))"
   ]
  },
  {
   "cell_type": "code",
   "execution_count": 96,
   "metadata": {},
   "outputs": [
    {
     "data": {
      "image/png": "[encoded data removed]",
      "text/plain": [
       "<Figure size 1440x360 with 1 Axes>"
      ]
     },
     "metadata": {
      "needs_background": "light"
     },
     "output_type": "display_data"
    }
   ],
   "source": [
    "data_to_plot = [step3, step6, step12, step24, step48]\n",
    "\n",
    "# Create a figure instance\n",
    "fig = plt.figure(1, figsize=(20, 5))\n",
    "\n",
    "# Create an axes instance\n",
    "ax = fig.add_subplot(111)\n",
    "\n",
    "# Create the boxplot\n",
    "bp = ax.boxplot(data_to_plot, patch_artist=True)\n",
    "ax.set_xticklabels(['3 steps','6 steps', '12 steps', '24 steps', '48 steps'], fontsize=18)\n",
    "ax.set_ylabel('RMSE', fontsize=18) \n",
    "\n",
    "# Save the figure\n",
    "fig.savefig('ConfrontoMetodiMLP.jpeg', bbox_inches='tight')"
   ]
  },
  {
   "cell_type": "markdown",
   "metadata": {},
   "source": [
    "### MAPE Error "
   ]
  },
  {
   "cell_type": "code",
   "execution_count": 85,
   "metadata": {},
   "outputs": [],
   "source": [
    "# cambiare i percorsi con i propri dati\n",
    "data3_AR_MAPE = pd.read_csv('Data/AR/MAPE_error_data_4_Autoregression_3_StepForecast.csv', header=None)\n",
    "data3_AR_MAPE.columns = ['mape']\n",
    "\n",
    "data6_AR_MAPE = pd.read_csv('Data/AR/MAPE_error_data_4_Autoregression_6_StepForecast.csv', header=None)\n",
    "data6_AR_MAPE.columns = ['mape']\n",
    "\n",
    "data12_AR_MAPE = pd.read_csv('Data/AR/MAPE_error_data_4_Autoregression_12_StepForecast.csv', header=None)\n",
    "data12_AR_MAPE.columns = ['mape']\n",
    "\n",
    "data24_AR_MAPE = pd.read_csv('Data/AR/MAPE_error_data_4_Autoregression_24_StepForecast.csv', header=None)\n",
    "data24_AR_MAPE.columns = ['mape']\n",
    "\n",
    "data48_AR_MAPE = pd.read_csv('Data/AR/MAPE_error_data_4_Autoregression_48_StepForecast.csv', header=None)\n",
    "data48_AR_MAPE.columns = ['mape']"
   ]
  },
  {
   "cell_type": "code",
   "execution_count": 87,
   "metadata": {},
   "outputs": [],
   "source": [
    "step3mape = []\n",
    "for i, riga in data3_AR_MAPE.iterrows():\n",
    "    valore = riga['mape'].split(':')[1]\n",
    "    step3mape.append(float(valore))\n",
    "\n",
    "step6mape = []\n",
    "for i, riga in data6_AR_MAPE.iterrows():\n",
    "    valore = riga['mape'].split(':')[1]\n",
    "    step6mape.append(float(valore))\n",
    "    \n",
    "step12mape = []\n",
    "for i, riga in data12_AR_MAPE.iterrows():\n",
    "    valore = riga['mape'].split(':')[1]\n",
    "    step12mape.append(float(valore))\n",
    "\n",
    "step24mape = []\n",
    "for i, riga in data24_AR_MAPE.iterrows():\n",
    "    valore = riga['mape'].split(':')[1]\n",
    "    step24mape.append(float(valore))\n",
    "    \n",
    "step48mape = []\n",
    "for i, riga in data48_AR_MAPE.iterrows():\n",
    "    valore = riga['mape'].split(':')[1]\n",
    "    step48mape.append(float(valore)) \n",
    "\n",
    "step3mape = np.array(step3mape)\n",
    "step6mape = np.array(step6mape)\n",
    "step12mape = np.array(step12mape)\n",
    "step24mape = np.array(step24mape)\n",
    "step48mape = np.array(step48mape)"
   ]
  },
  {
   "cell_type": "code",
   "execution_count": 88,
   "metadata": {},
   "outputs": [
    {
     "name": "stdout",
     "output_type": "stream",
     "text": [
      "AR MAPE Mean 4.29 8.26 16.5 19.72 21.34\n",
      "AR MAPE std.dev  1.13 3.42 8.55 10.25 10.56\n",
      "AR PAME max 5.98 13.34 29.12 35.0 36.77\n"
     ]
    }
   ],
   "source": [
    "mean3m = np.mean(step3mape)\n",
    "mean6m = np.mean(step6mape)\n",
    "mean12m = np.mean(step12mape)\n",
    "mean24m = np.mean(step24mape)\n",
    "mean48m = np.mean(step48mape)\n",
    "print('AR MAPE Mean', round(mean3m,2), round(mean6m,2), round(mean12m,2), round(mean24m,2), round(mean48m,2))\n",
    "\n",
    "mean3std = np.std(step3mape)\n",
    "mean6std = np.std(step6mape)\n",
    "mean12std = np.std(step12mape)\n",
    "mean24std = np.std(step24mape)\n",
    "mean48std = np.std(step48mape)\n",
    "print('AR MAPE std.dev ', round(mean3std,2), round(mean6std,2), round(mean12std,2), round(mean24std,2), round(mean48std,2))\n",
    "\n",
    "max3 = np.max(step3mape)\n",
    "max6 = np.max(step6mape)\n",
    "max12 = np.max(step12mape)\n",
    "max24 = np.max(step24mape)\n",
    "max48 = np.max(step48mape)\n",
    "print('AR PAME max', round(max3,2), round(max6,2), round(max12,2), round(max24,2), round(max48,2))"
   ]
  },
  {
   "cell_type": "code",
   "execution_count": 90,
   "metadata": {},
   "outputs": [
    {
     "data": {
      "image/png": "[encoded data removed]",
      "text/plain": [
       "<Figure size 1440x360 with 1 Axes>"
      ]
     },
     "metadata": {
      "needs_background": "light"
     },
     "output_type": "display_data"
    }
   ],
   "source": [
    "mape_data_to_plot = [step3mape, step6mape, step12mape, step24mape, step48mape]\n",
    "\n",
    "# Create a figure instance\n",
    "fig = plt.figure(1, figsize=(20, 5))\n",
    "\n",
    "# Create an axes instance\n",
    "ax = fig.add_subplot(111)\n",
    "\n",
    "# Create the boxplot\n",
    "bp = ax.boxplot(mape_data_to_plot, patch_artist=True)\n",
    "ax.set_xticklabels(['3 steps ', '6 steps', '12 steps', '24 steps', '48 steps'], fontsize=18)\n",
    "ax.set_ylabel('MAPE', fontsize=18) \n",
    "\n",
    "# Save the figure\n",
    "fig.savefig('ConfrontoMetodiMLP.jpeg', bbox_inches='tight')"
   ]
  },
  {
   "cell_type": "markdown",
   "metadata": {},
   "source": [
    "### MAXAE Error"
   ]
  },
  {
   "cell_type": "code",
   "execution_count": 91,
   "metadata": {},
   "outputs": [],
   "source": [
    "colnames = ['min', 'Q1', 'mediana', 'Q3', 'max']\n",
    "\n",
    "# cambiare i percorsi con i propri dati\n",
    "data3_AR_max = pd.read_csv('Data/AR/MAE_error_data_4_Autoregression_3_StepForecast.csv', names=colnames, header=None)\n",
    "\n",
    "data6_AR_max = pd.read_csv('Data/AR/MAE_error_data_4_Autoregression_6_StepForecast.csv', names=colnames, header=None)\n",
    "\n",
    "data12_AR_max = pd.read_csv('Data/AR/MAE_error_data_4_Autoregression_12_StepForecast.csv', names=colnames, header=None)\n",
    "\n",
    "data24_AR_max = pd.read_csv('Data/AR/MAE_error_data_4_Autoregression_24_StepForecast.csv', names=colnames, header=None)\n",
    "\n",
    "data48_AR_max = pd.read_csv('Data/AR/MAE_error_data_4_Autoregression_48_StepForecast.csv', names=colnames, header=None)\n"
   ]
  },
  {
   "cell_type": "code",
   "execution_count": 92,
   "metadata": {},
   "outputs": [],
   "source": [
    "max3_AR_max = []\n",
    "for i, row in data3_AR_max.iterrows():\n",
    "    max_i= row['max']\n",
    "    max_i = max_i[0:-2]\n",
    "    max3_AR_max.append(float(max_i))\n",
    "    \n",
    "max6_AR_max = []\n",
    "for i, row in data6_AR_max.iterrows():\n",
    "    max_i= row['max']\n",
    "    max_i = max_i[0:-2]\n",
    "    max6_AR_max.append(float(max_i))\n",
    "    \n",
    "max12_AR_max = []\n",
    "for i, row in data12_AR_max.iterrows():\n",
    "    max_i= row['max']\n",
    "    max_i = max_i[0:-2]\n",
    "    max12_AR_max.append(float(max_i))\n",
    "\n",
    "max24_AR_max = []\n",
    "for i, row in data24_AR_max.iterrows():\n",
    "    max_i= row['max']\n",
    "    max_i = max_i[0:-1]\n",
    "    max24_AR_max.append(float(max_i))\n",
    "    \n",
    "max48_AR_max = []\n",
    "for i, row in data48_AR_max.iterrows():\n",
    "    max_i= row['max']\n",
    "    max_i = max_i[0:-1]\n",
    "    max48_AR_max.append(float(max_i))"
   ]
  },
  {
   "cell_type": "code",
   "execution_count": 93,
   "metadata": {},
   "outputs": [
    {
     "name": "stdout",
     "output_type": "stream",
     "text": [
      "AR MAXAE Mean 40.59 65.84 109.73 116.31 124.63\n",
      "AR MAXAE Std.Dev 48.06 78.93 141.15 149.81 156.97\n",
      "AR MAXAE Max 286.47 512.56 969.2 1064.76 1101.35\n"
     ]
    }
   ],
   "source": [
    "mean3m = np.mean(max3_AR_max)\n",
    "mean6m = np.mean(max6_AR_max)\n",
    "mean12m = np.mean(max12_AR_max)\n",
    "mean24m = np.mean(max24_AR_max)\n",
    "mean48m = np.mean(max48_AR_max)\n",
    "print('AR MAXAE Mean', round(mean3m,2), round(mean6m,2), round(mean12m,2), round(mean24m,2), round(mean48m,2))\n",
    "\n",
    "mean3std = np.std(max3_AR_max)\n",
    "mean6std = np.std(max6_AR_max)\n",
    "mean12std = np.std(max12_AR_max)\n",
    "mean24std = np.std(max24_AR_max)\n",
    "mean48std = np.std(max48_AR_max)\n",
    "print('AR MAXAE Std.Dev', round(mean3std,2), round(mean6std,2), round(mean12std,2), round(mean24std,2), round(mean48std,2))\n",
    "\n",
    "max3 = np.max(max3_AR_max)\n",
    "max6 = np.max(max6_AR_max)\n",
    "max12 = np.max(max12_AR_max)\n",
    "max24 = np.max(max24_AR_max)\n",
    "max48 = np.max(max48_AR_max)\n",
    "print('AR MAXAE Max', round(max3,2), round(max6,2), round(max12,2), round(max24,2), round(max48,2))"
   ]
  },
  {
   "cell_type": "code",
   "execution_count": 94,
   "metadata": {},
   "outputs": [
    {
     "data": {
      "image/png": "[encoded data removed]",
      "text/plain": [
       "<Figure size 360x360 with 1 Axes>"
      ]
     },
     "metadata": {
      "needs_background": "light"
     },
     "output_type": "display_data"
    }
   ],
   "source": [
    "max_data_to_plot = [max3_AR_max,max6_AR_max, max12_AR_max, max24_AR_max, max48_AR_max]\n",
    "\n",
    "# Create a figure instance\n",
    "fig = plt.figure(1, figsize=(5, 5))\n",
    "\n",
    "# Create an axes instance\n",
    "ax = fig.add_subplot(111)\n",
    "\n",
    "# Create the boxplot\n",
    "bp = ax.boxplot(max_data_to_plot, patch_artist=True)\n",
    "ax.set_xticklabels(['3 steps', '6 steps', '12 steps', '24 steps', '48 steps'], fontsize=12)\n",
    "ax.set_ylabel('MAXAE', fontsize=12) \n",
    "\n",
    "# Save the figure\n",
    "fig.savefig('ConfrontoMetodiMLP.jpeg', bbox_inches='tight')"
   ]
  },
  {
   "cell_type": "code",
   "execution_count": null,
   "metadata": {},
   "outputs": [],
   "source": []
  },
  {
   "cell_type": "code",
   "execution_count": null,
   "metadata": {},
   "outputs": [],
   "source": []
  },
  {
   "cell_type": "code",
   "execution_count": null,
   "metadata": {},
   "outputs": [],
   "source": []
  },
  {
   "cell_type": "code",
   "execution_count": null,
   "metadata": {},
   "outputs": [],
   "source": []
  },
  {
   "cell_type": "code",
   "execution_count": null,
   "metadata": {},
   "outputs": [],
   "source": []
  },
  {
   "cell_type": "code",
   "execution_count": null,
   "metadata": {},
   "outputs": [],
   "source": []
  }
 ],
 "metadata": {
  "kernelspec": {
   "display_name": "Python 3",
   "language": "python",
   "name": "python3"
  },
  "language_info": {
   "codemirror_mode": {
    "name": "ipython",
    "version": 3
   },
   "file_extension": ".py",
   "mimetype": "text/x-python",
   "name": "python",
   "nbconvert_exporter": "python",
   "pygments_lexer": "ipython3",
   "version": "3.7.4"
  }
 },
 "nbformat": 4,
 "nbformat_minor": 2
}
