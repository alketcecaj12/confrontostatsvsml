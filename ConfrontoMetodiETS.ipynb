{
 "cells": [
  {
   "cell_type": "markdown",
   "metadata": {},
   "source": [
    "### ETS forecasting method analysis"
   ]
  },
  {
   "cell_type": "code",
   "execution_count": 1,
   "metadata": {},
   "outputs": [],
   "source": [
    "import pandas as pd \n",
    "import numpy as np \n",
    "import matplotlib.pyplot as plt "
   ]
  },
  {
   "cell_type": "markdown",
   "metadata": {},
   "source": [
    "### RMSE Error"
   ]
  },
  {
   "cell_type": "code",
   "execution_count": 10,
   "metadata": {},
   "outputs": [],
   "source": [
    "# cambiare i percorsi con i propri dati\n",
    "data3_ETS = pd.read_csv('Data/ETS/RMSE_error_data_4_ETS_MultistepForcast_3.csv', header=None)\n",
    "data3_ETS.columns = ['rmse']\n",
    "\n",
    "data6_ETS = pd.read_csv('Data/ETS/RMSE_error_data_4_ETS_MultistepForcast_6.csv', header=None)\n",
    "data6_ETS.columns = ['rmse']\n",
    "\n",
    "data12_ETS = pd.read_csv('Data/ETS/RMSE_error_data_4_ETS_MultistepForcast_12.csv', header=None)\n",
    "data12_ETS.columns = ['rmse']\n",
    "\n",
    "data24_ETS = pd.read_csv('Data/ETS/RMSE_error_data_4_ETS_MultistepForcast_24_v2.csv', header=None)\n",
    "data24_ETS.columns = ['rmse']\n",
    "\n",
    "data48_ETS = pd.read_csv('Data/ETS/RMSE_error_data_4_ETS_MultistepForcast_48_v2.csv', header=None)\n",
    "data48_ETS.columns = ['rmse']"
   ]
  },
  {
   "cell_type": "code",
   "execution_count": 11,
   "metadata": {},
   "outputs": [],
   "source": [
    "step3 = []\n",
    "for i, riga in data3_ETS.iterrows():\n",
    "    valore = riga['rmse'].split(':')[1]\n",
    "    step3.append(float(valore))\n",
    "    \n",
    "step6 = []\n",
    "for i, riga in data6_ETS.iterrows():\n",
    "    valore = riga['rmse'].split(':')[1]\n",
    "    step6.append(float(valore))\n",
    "    \n",
    "step12 = []\n",
    "for i, riga in data12_ETS.iterrows():\n",
    "    valore = riga['rmse'].split(':')[1]\n",
    "    step12.append(float(valore))\n",
    "\n",
    "step24 = []\n",
    "for i, riga in data24_ETS.iterrows():\n",
    "    valore = riga['rmse'].split(':')[1]\n",
    "    step24.append(float(valore))\n",
    "    \n",
    "step48 = []\n",
    "for i, riga in data48_ETS.iterrows():\n",
    "    valore = riga['rmse'].split(':')[1]\n",
    "    step48.append(float(valore)) \n",
    " \n",
    "step3 = np.array(step3)\n",
    "step6 = np.array(step6)\n",
    "step12 = np.array(step12)\n",
    "step24 = np.array(step24)\n",
    "step48 = np.array(step48)"
   ]
  },
  {
   "cell_type": "code",
   "execution_count": 12,
   "metadata": {},
   "outputs": [
    {
     "name": "stdout",
     "output_type": "stream",
     "text": [
      "ETS RMSE Mean     41.23 55.08 45.01 48.59 47.47\n",
      "ETS RMSE Std.Dev  54.34 71.29 54.81 61.74 61.84\n",
      "ETS RMSE Std.Dev  386.13 405.63 377.38 441.42 424.27\n"
     ]
    }
   ],
   "source": [
    "mean3 = np.mean(step3)\n",
    "mean6 = np.mean(step6)\n",
    "mean12 = np.mean(step12)\n",
    "mean24 = np.mean(step24)\n",
    "mean48 = np.mean(step48)\n",
    "print('ETS RMSE Mean    ', round(mean3,2), round(mean6,2), round(mean12,2), round(mean24,2), round(mean48,2))\n",
    "\n",
    "std3 = np.std(step3)\n",
    "std6 = np.std(step6)\n",
    "std12 = np.std(step12)\n",
    "std24 = np.std(step24)\n",
    "std48 = np.std(step48)\n",
    "print('ETS RMSE Std.Dev ', round(std3,2), round(std6,2), round(std12,2), round(std24,2), round(std48,2))\n",
    "\n",
    "max3 = np.max(step3)\n",
    "max6 = np.max(step6)\n",
    "max12 = np.max(step12)\n",
    "max24 = np.max(step24)\n",
    "max48 = np.max(step48)\n",
    "print('ETS RMSE Std.Dev ', round(max3,2), round(max6,2), round(max12,2), round(max24,2), round(max48,2))\n"
   ]
  },
  {
   "cell_type": "code",
   "execution_count": 13,
   "metadata": {},
   "outputs": [
    {
     "data": {
      "image/png": "[encoded data removed]",
      "text/plain": [
       "<Figure size 1440x360 with 1 Axes>"
      ]
     },
     "metadata": {
      "needs_background": "light"
     },
     "output_type": "display_data"
    }
   ],
   "source": [
    "data_to_plot = [step3, step6, step12, step24, step48]\n",
    "\n",
    "# Create a figure instance\n",
    "fig = plt.figure(1, figsize=(20, 5))\n",
    "\n",
    "# Create an axes instance\n",
    "ax = fig.add_subplot(111)\n",
    "\n",
    "# Create the boxplot\n",
    "bp = ax.boxplot(data_to_plot, patch_artist=True)\n",
    "ax.set_xticklabels(['3 steps','6 steps', '12 steps', '24 steps', '48 steps'], fontsize=18)\n",
    "ax.set_ylabel('RMSE', fontsize=18) \n",
    "\n",
    "# Save the figure\n",
    "fig.savefig('ConfrontoMetodi.jpeg', bbox_inches='tight')"
   ]
  },
  {
   "cell_type": "markdown",
   "metadata": {},
   "source": [
    "### MAPE Error"
   ]
  },
  {
   "cell_type": "code",
   "execution_count": 14,
   "metadata": {},
   "outputs": [],
   "source": [
    "# cambiare i percorsi con i propri dati\n",
    "data3_ETS_MAPE = pd.read_csv('Data/ETS/MAPE_error_data_4_ETS_MultistepForcast_3.csv', header=None)\n",
    "data3_ETS_MAPE.columns = ['mape']\n",
    "\n",
    "data6_ETS_MAPE = pd.read_csv('Data/ETS/MAPE_error_data_4_ETS_MultistepForcast_6.csv', header=None)\n",
    "data6_ETS_MAPE.columns = ['mape']\n",
    "\n",
    "data12_ETS_MAPE = pd.read_csv('Data/ETS/MAPE_error_data_4_ETS_MultistepForcast_12.csv', header=None)\n",
    "data12_ETS_MAPE.columns = ['mape']\n",
    "\n",
    "data24_ETS_MAPE = pd.read_csv('Data/ETS/MAPE_error_data_4_ETS_MultistepForcast_24_v2.csv', header=None)\n",
    "data24_ETS_MAPE.columns = ['mape']\n",
    "\n",
    "data48_ETS_MAPE = pd.read_csv('Data/ETS/MAPE_error_data_4_ETS_MultistepForcast_48_v2.csv', header=None)\n",
    "data48_ETS_MAPE.columns = ['mape']"
   ]
  },
  {
   "cell_type": "code",
   "execution_count": 15,
   "metadata": {},
   "outputs": [],
   "source": [
    "step3mape = []\n",
    "for i, riga in data3_ETS_MAPE.iterrows():\n",
    "    valore = riga['mape'].split(':')[1]\n",
    "    step3mape.append(float(valore))\n",
    "    \n",
    "step6mape = []\n",
    "for i, riga in data6_ETS_MAPE.iterrows():\n",
    "    valore = riga['mape'].split(':')[1]\n",
    "    step6mape.append(float(valore))\n",
    "    \n",
    "step12mape = []\n",
    "for i, riga in data12_ETS_MAPE.iterrows():\n",
    "    valore = riga['mape'].split(':')[1]\n",
    "    step12mape.append(float(valore))\n",
    "\n",
    "step24mape = []\n",
    "for i, riga in data24_ETS_MAPE.iterrows():\n",
    "    valore = riga['mape'].split(':')[1]\n",
    "    step24mape.append(float(valore))\n",
    "    \n",
    "step48mape = []\n",
    "for i, riga in data48_ETS_MAPE.iterrows():\n",
    "    valore = riga['mape'].split(':')[1]\n",
    "    step48mape.append(float(valore)) \n",
    "    \n",
    "step3mape = np.array(step3mape)    \n",
    "step6mape = np.array(step6mape)\n",
    "step12mape = np.array(step12mape)\n",
    "step24mape = np.array(step24mape)\n",
    "step48mape = np.array(step48mape)\n"
   ]
  },
  {
   "cell_type": "code",
   "execution_count": 17,
   "metadata": {},
   "outputs": [
    {
     "name": "stdout",
     "output_type": "stream",
     "text": [
      "ETS MAPE mean      17.38 22.29 25.5 28.79 27.29\n",
      "ETS MAPE std.dev  5.5 4.73 7.06 9.24 12.26\n",
      "ETS MAPE max       26.55 27.29 37.45 43.2 47.98\n"
     ]
    }
   ],
   "source": [
    "mean3mape = np.mean(step3mape)\n",
    "mean6mape = np.mean(step6mape)\n",
    "mean12mape = np.mean(step12mape)\n",
    "mean24mape = np.mean(step24mape)\n",
    "mean48mape = np.mean(step48mape)\n",
    "print('ETS MAPE mean     ', round(mean3mape,2) , round(mean6mape,2), round(mean12mape,2), round(mean24mape,2), round(mean48mape,2))\n",
    "\n",
    "\n",
    "std3m = np.std(step3mape)\n",
    "std6m = np.std(step6mape)\n",
    "std12m = np.std(step12mape)\n",
    "std24m = np.std(step24mape)\n",
    "std48m = np.std(step48mape)\n",
    "print('ETS MAPE std.dev ',round(std3m,2) ,round(std6m,2), round(std12m,2), round(std24m,2), round(std48m,2))\n",
    "\n",
    "max3mape = np.max(step3mape)\n",
    "max6mape = np.max(step6mape)\n",
    "max12mape = np.max(step12mape)\n",
    "max24mape = np.max(step24mape)\n",
    "max48mape = np.max(step48mape)\n",
    "print('ETS MAPE max      ',round(max3mape,2) ,round(max6mape,2), round(max12mape,2), round(max24mape,2), round(max48mape,2))"
   ]
  },
  {
   "cell_type": "markdown",
   "metadata": {},
   "source": [
    "### MAXAE Error"
   ]
  },
  {
   "cell_type": "code",
   "execution_count": 18,
   "metadata": {},
   "outputs": [],
   "source": [
    "colnames = ['min', 'Q1', 'mediana', 'Q3', 'max']\n",
    "\n",
    "# cambiare i percorsi con i propri dati\n",
    "data3_ETS_max = pd.read_csv('Data/ETS/MAE_error_data_4_ETS_MultistepForcast_3.csv', names=colnames, header=None)\n",
    "\n",
    "data6_ETS_max = pd.read_csv('Data/ETS/MAE_error_data_4_ETS_MultistepForcast_6.csv', names=colnames, header=None)\n",
    "\n",
    "data12_ETS_max = pd.read_csv('Data/ETS/MAE_error_data_4_ETS_MultistepForcast_12.csv', names=colnames, header=None)\n",
    "\n",
    "data24_ETS_max = pd.read_csv('Data/ETS/MAE_error_data_4_ETS_MultistepForcast_24_v2.csv', names=colnames, header=None)\n",
    "\n",
    "data48_ETS_max = pd.read_csv('Data/ETS/MAE_error_data_4_ETS_MultistepForcast_48_v2.csv', names=colnames, header=None)\n"
   ]
  },
  {
   "cell_type": "code",
   "execution_count": 19,
   "metadata": {},
   "outputs": [],
   "source": [
    "max3_ETS_max = []\n",
    "for i, row in data3_ETS_max.iterrows():\n",
    "    max_i= row['max']\n",
    "    max_i = max_i[0:-2]\n",
    "    max3_ETS_max.append(float(max_i))\n",
    "\n",
    "max6_ETS_max = []\n",
    "for i, row in data6_ETS_max.iterrows():\n",
    "    max_i= row['max']\n",
    "    max_i = max_i[0:-2]\n",
    "    max6_ETS_max.append(float(max_i))\n",
    "\n",
    "    \n",
    "max12_ETS_max = []\n",
    "for i, row in data12_ETS_max.iterrows():\n",
    "    max_i= row['max']\n",
    "    max_i = max_i[0:-2]\n",
    "    max12_ETS_max.append(float(max_i))\n",
    "\n",
    "max24_ETS_max = []\n",
    "for i, row in data24_ETS_max.iterrows():\n",
    "    max_i= row['max']\n",
    "    max_i = max_i[0:-1]\n",
    "    max24_ETS_max.append(float(max_i))\n",
    "    \n",
    "max48_ETS_max = []\n",
    "for i, row in data48_ETS_max.iterrows():\n",
    "    max_i= row['max']\n",
    "    max_i = max_i[0:-1]\n",
    "    max48_ETS_max.append(float(max_i)) "
   ]
  },
  {
   "cell_type": "code",
   "execution_count": 20,
   "metadata": {},
   "outputs": [
    {
     "data": {
      "image/png": "[encoded data removed]",
      "text/plain": [
       "<Figure size 1440x360 with 1 Axes>"
      ]
     },
     "metadata": {
      "needs_background": "light"
     },
     "output_type": "display_data"
    }
   ],
   "source": [
    "max_data_to_plot = [max3_ETS_max, max6_ETS_max, max12_ETS_max, max24_ETS_max, max48_ETS_max]\n",
    "\n",
    "# Create a figure instance\n",
    "fig = plt.figure(1, figsize=(20, 5))\n",
    "\n",
    "# Create an axes instance\n",
    "ax = fig.add_subplot(111)\n",
    "\n",
    "# Create the boxplot\n",
    "bp = ax.boxplot(max_data_to_plot, patch_artist=True)\n",
    "ax.set_xticklabels(['3 steps','6 steps', '12 steps', '24 steps', '48 steps'], fontsize=18)\n",
    "ax.set_ylabel('MAXAE', fontsize=18) \n",
    "\n",
    "# Save the figure\n",
    "fig.savefig('ConfrontoMetodiMAXAE_6.jpeg', bbox_inches='tight')"
   ]
  },
  {
   "cell_type": "code",
   "execution_count": 22,
   "metadata": {},
   "outputs": [
    {
     "name": "stdout",
     "output_type": "stream",
     "text": [
      "ETS MAX mean     123.17 156.53 126.46 130.74 132.73\n",
      "ETS MAX std.dev  160.57 192.71 156.43 164.62 168.97\n",
      "ETS MAX std.dev  26.55 27.29 37.45 43.2 47.98\n"
     ]
    }
   ],
   "source": [
    "mean3maxae = np.mean(max3_ETS_max)\n",
    "mean6maxae = np.mean(max6_ETS_max)\n",
    "mean12maxae = np.mean(max12_ETS_max)\n",
    "mean24maxae = np.mean(max24_ETS_max)\n",
    "mean48maxae = np.mean(max48_ETS_max)\n",
    "print('ETS MAX mean    ', round(mean3maxae,2), round(mean6maxae,2), round(mean12maxae,2), round(mean24maxae,2), round(mean48maxae,2))\n",
    "\n",
    "std3max = np.std(max3_ETS_max)\n",
    "std6max = np.std(max6_ETS_max)\n",
    "std12max = np.std(max12_ETS_max)\n",
    "std24max = np.std(max24_ETS_max)\n",
    "std48max = np.std(max48_ETS_max)\n",
    "print('ETS MAX std.dev ', round(std3max,2), round(std6max,2), round(std12max,2), round(std24max,2), round(std48max,2))\n",
    "\n",
    "max3mape = np.max(step3mape)\n",
    "max6mape = np.max(step6mape)\n",
    "max12mape = np.max(step12mape)\n",
    "max24mape = np.max(step24mape)\n",
    "max48mape = np.max(step48mape)\n",
    "print('ETS MAX std.dev ', round(max3mape,2), round(max6mape,2), round(max12mape,2), round(max24mape,2), round(max48mape,2))"
   ]
  },
  {
   "cell_type": "code",
   "execution_count": null,
   "metadata": {},
   "outputs": [],
   "source": []
  },
  {
   "cell_type": "code",
   "execution_count": null,
   "metadata": {},
   "outputs": [],
   "source": []
  },
  {
   "cell_type": "code",
   "execution_count": null,
   "metadata": {},
   "outputs": [],
   "source": []
  },
  {
   "cell_type": "code",
   "execution_count": null,
   "metadata": {},
   "outputs": [],
   "source": []
  }
 ],
 "metadata": {
  "kernelspec": {
   "display_name": "Python 3",
   "language": "python",
   "name": "python3"
  },
  "language_info": {
   "codemirror_mode": {
    "name": "ipython",
    "version": 3
   },
   "file_extension": ".py",
   "mimetype": "text/x-python",
   "name": "python",
   "nbconvert_exporter": "python",
   "pygments_lexer": "ipython3",
   "version": "3.7.4"
  }
 },
 "nbformat": 4,
 "nbformat_minor": 2
}
