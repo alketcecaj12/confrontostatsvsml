{
 "cells": [
  {
   "cell_type": "code",
   "execution_count": 1,
   "metadata": {},
   "outputs": [],
   "source": [
    "import pandas as pd \n",
    "import numpy as np \n",
    "import matplotlib.pyplot as plt"
   ]
  },
  {
   "cell_type": "code",
   "execution_count": 3,
   "metadata": {},
   "outputs": [],
   "source": [
    "# cambiare i percorsi con i propri dati\n",
    "data3_MLP = pd.read_csv('Data/CNN/RMSE_error_data_4_CNN_with_STL_Decomposition_3.csv', header=None)\n",
    "data3_MLP.columns = ['rmse']\n",
    "\n",
    "data6_MLP = pd.read_csv('Data/CNN/RMSE_error_data_4_CNN_with_STL_Decomposition_in6.csv', header=None)\n",
    "data6_MLP.columns = ['rmse']\n",
    "\n",
    "data12_MLP = pd.read_csv('Data/CNN/RMSE_error_data_4_CNN_with_STL_Decomposition_in12.csv', header=None)\n",
    "data12_MLP.columns = ['rmse']\n",
    "\n",
    "data24_MLP = pd.read_csv('Data/CNN/RMSE_error_data_4_CNN_with_STL_Decomposition_in24.csv', header=None)\n",
    "data24_MLP.columns = ['rmse']\n",
    "\n",
    "data48_MLP = pd.read_csv('Data/CNN/RMSE_error_data_4_CNN_with_STL_Decomposition_in48.csv', header=None)\n",
    "data48_MLP.columns = ['rmse']"
   ]
  },
  {
   "cell_type": "code",
   "execution_count": 5,
   "metadata": {},
   "outputs": [],
   "source": [
    "step3 = []\n",
    "for i, riga in data3_MLP.iterrows():\n",
    "    valore = riga['rmse'].split(':')[1]\n",
    "    step3.append(float(valore))\n",
    "\n",
    "step6 = []\n",
    "for i, riga in data6_MLP.iterrows():\n",
    "    valore = riga['rmse'].split(':')[1]\n",
    "    step6.append(float(valore))\n",
    "    \n",
    "step12 = []\n",
    "for i, riga in data12_MLP.iterrows():\n",
    "    valore = riga['rmse'].split(':')[1]\n",
    "    step12.append(float(valore))\n",
    "\n",
    "step24 = []\n",
    "for i, riga in data24_MLP.iterrows():\n",
    "    valore = riga['rmse'].split(':')[1]\n",
    "    step24.append(float(valore))\n",
    "    \n",
    "step48 = []\n",
    "for i, riga in data48_MLP.iterrows():\n",
    "    valore = riga['rmse'].split(':')[1]\n",
    "    step48.append(float(valore)) \n",
    "\n",
    "step3 = np.array(step3)    \n",
    "step6 = np.array(step6)\n",
    "step12 = np.array(step12)\n",
    "step24 = np.array(step24)\n",
    "step48 = np.array(step48)"
   ]
  },
  {
   "cell_type": "code",
   "execution_count": 7,
   "metadata": {},
   "outputs": [
    {
     "name": "stdout",
     "output_type": "stream",
     "text": [
      "CNN RMSE mean      12.1 14.93 17.12 20.5 23.46\n",
      "CNN RMSE std.dev  14.48 17.39 20.57 26.69 31.77\n",
      "CNN RMSE max      91.87 117.91 152.81 176.13 218.98\n"
     ]
    }
   ],
   "source": [
    "mean3m = np.mean(step3)\n",
    "mean6m = np.mean(step6)\n",
    "mean12m = np.mean(step12)\n",
    "mean24m = np.mean(step24)\n",
    "mean48m = np.mean(step48)\n",
    "print('CNN RMSE mean     ', round(mean3m,2), round(mean6m,2), round(mean12m,2), round(mean24m,2), round(mean48m,2))\n",
    "\n",
    "mean3std = np.std(step3)\n",
    "mean6std = np.std(step6)\n",
    "mean12std = np.std(step12)\n",
    "mean24std = np.std(step24)\n",
    "mean48std = np.std(step48)\n",
    "print('CNN RMSE std.dev ', round(mean3std,2), round(mean6std,2), round(mean12std,2), round(mean24std,2), round(mean48std,2))\n",
    "\n",
    "max3 = np.max(step3)\n",
    "max6 = np.max(step6)\n",
    "max12 = np.max(step12)\n",
    "max24 = np.max(step24)\n",
    "max48 = np.max(step48)\n",
    "print('CNN RMSE max     ', round(max3,2), round(max6,2), round(max12,2), round(max24,2), round(max48,2))\n"
   ]
  },
  {
   "cell_type": "code",
   "execution_count": 9,
   "metadata": {},
   "outputs": [
    {
     "data": {
      "image/png": "[encoded data removed]",
      "text/plain": [
       "<Figure size 1440x360 with 1 Axes>"
      ]
     },
     "metadata": {
      "needs_background": "light"
     },
     "output_type": "display_data"
    }
   ],
   "source": [
    "data_to_plot = [step3, step6, step12, step24, step48]\n",
    "\n",
    "# Create a figure instance\n",
    "fig = plt.figure(1, figsize=(20, 5))\n",
    "\n",
    "# Create an axes instance\n",
    "ax = fig.add_subplot(111)\n",
    "\n",
    "# Create the boxplot\n",
    "bp = ax.boxplot(data_to_plot, patch_artist=True)\n",
    "ax.set_xticklabels(['3 steps', '6 steps', '12 steps', '24 steps', '48 steps'], fontsize=18)\n",
    "ax.set_ylabel('RMSE', fontsize=18) \n",
    "\n",
    "# Save the figure\n",
    "fig.savefig('ConfrontoMetodiMLP.jpeg', bbox_inches='tight')"
   ]
  },
  {
   "cell_type": "markdown",
   "metadata": {},
   "source": [
    "### MAPE Error "
   ]
  },
  {
   "cell_type": "code",
   "execution_count": 11,
   "metadata": {},
   "outputs": [],
   "source": [
    "# cambiare i percorsi con i propri dati\n",
    "data3_CNN_MAPE = pd.read_csv('Data/CNN/MAPE_error_data_4_CNN_with_STL_Decomposition_3.csv', header=None)\n",
    "data3_CNN_MAPE.columns = ['mape']\n",
    "\n",
    "data6_CNN_MAPE = pd.read_csv('Data/CNN/MAPE_error_data_4_CNN_with_STL_Decomposition_in6.csv', header=None)\n",
    "data6_CNN_MAPE.columns = ['mape']\n",
    "\n",
    "data12_CNN_MAPE = pd.read_csv('Data/CNN/MAPE_error_data_4_CNN_with_STL_Decomposition_in12.csv', header=None)\n",
    "data12_CNN_MAPE.columns = ['mape']\n",
    "\n",
    "data24_CNN_MAPE = pd.read_csv('Data/CNN/MAPE_error_data_4_CNN_with_STL_Decomposition_in24.csv', header=None)\n",
    "data24_CNN_MAPE.columns = ['mape']\n",
    "\n",
    "data48_CNN_MAPE = pd.read_csv('Data/CNN/MAPE_error_data_4_CNN_with_STL_Decomposition_in48.csv', header=None)\n",
    "data48_CNN_MAPE.columns = ['mape']"
   ]
  },
  {
   "cell_type": "code",
   "execution_count": 13,
   "metadata": {},
   "outputs": [],
   "source": [
    "step3mape = []\n",
    "for i, riga in data3_CNN_MAPE.iterrows():\n",
    "    valore = riga['mape'].split(':')[1]\n",
    "    step3mape.append(float(valore))\n",
    "\n",
    "step6mape = []\n",
    "for i, riga in data6_CNN_MAPE.iterrows():\n",
    "    valore = riga['mape'].split(':')[1]\n",
    "    step6mape.append(float(valore))\n",
    "    \n",
    "step12mape = []\n",
    "for i, riga in data12_CNN_MAPE.iterrows():\n",
    "    valore = riga['mape'].split(':')[1]\n",
    "    step12mape.append(float(valore))\n",
    "\n",
    "step24mape = []\n",
    "for i, riga in data24_CNN_MAPE.iterrows():\n",
    "    valore = riga['mape'].split(':')[1]\n",
    "    step24mape.append(float(valore))\n",
    "    \n",
    "step48mape = []\n",
    "for i, riga in data48_CNN_MAPE.iterrows():\n",
    "    valore = riga['mape'].split(':')[1]\n",
    "    step48mape.append(float(valore)) \n",
    "    \n",
    "step3mape = np.array(step3mape)    \n",
    "step6mape = np.array(step6mape)\n",
    "step12mape = np.array(step12mape)\n",
    "step24mape = np.array(step24mape)\n",
    "step48mape = np.array(step48mape)"
   ]
  },
  {
   "cell_type": "code",
   "execution_count": 15,
   "metadata": {},
   "outputs": [
    {
     "name": "stdout",
     "output_type": "stream",
     "text": [
      "CNN MAPE mean     6.15 8.37 10.22 11.99 14.23\n",
      "CNN MAPE std.dev  1.38 3.03 7.24 9.12 10.5\n",
      "CNN MAPE max      10.56 19.72 90.46 98.79 72.87\n"
     ]
    }
   ],
   "source": [
    "mean3m = np.mean(step3mape)\n",
    "mean6m = np.mean(step6mape)\n",
    "mean12m = np.mean(step12mape)\n",
    "mean24m = np.mean(step24mape)\n",
    "mean48m = np.mean(step48mape)\n",
    "print('CNN MAPE mean    ', round(mean3m,2), round(mean6m,2), round(mean12m,2), round(mean24m,2), round(mean48m,2))\n",
    "\n",
    "mean3std = np.std(step3mape)\n",
    "mean6std = np.std(step6mape)\n",
    "mean12std = np.std(step12mape)\n",
    "mean24std = np.std(step24mape)\n",
    "mean48std = np.std(step48mape)\n",
    "print('CNN MAPE std.dev ', round(mean3std,2), round(mean6std,2), round(mean12std,2), round(mean24std,2), round(mean48std,2))\n",
    "\n",
    "max3 = np.max(step3mape)\n",
    "max6 = np.max(step6mape)\n",
    "max12 = np.max(step12mape)\n",
    "max24 = np.max(step24mape)\n",
    "max48 = np.max(step48mape)\n",
    "print('CNN MAPE max     ', round(max3,2), round(max6,2), round(max12,2), round(max24,2), round(max48,2))"
   ]
  },
  {
   "cell_type": "code",
   "execution_count": 17,
   "metadata": {},
   "outputs": [
    {
     "data": {
      "image/png": "[encoded data removed]",
      "text/plain": [
       "<Figure size 1440x360 with 1 Axes>"
      ]
     },
     "metadata": {
      "needs_background": "light"
     },
     "output_type": "display_data"
    }
   ],
   "source": [
    "mape_data_to_plot = [step3mape, step6mape, step12mape, step24mape, step48mape]\n",
    "\n",
    "# Create a figure instance\n",
    "fig = plt.figure(1, figsize=(20, 5))\n",
    "\n",
    "# Create an axes instance\n",
    "ax = fig.add_subplot(111)\n",
    "\n",
    "# Create the boxplot\n",
    "bp = ax.boxplot(mape_data_to_plot, patch_artist=True)\n",
    "ax.set_xticklabels(['3 steps', '6 steps', '12 steps', '24 steps', '48 steps'], fontsize=18)\n",
    "ax.set_ylabel('MAPE', fontsize=18) \n",
    "\n",
    "# Save the figure\n",
    "fig.savefig('ConfrontoMetodi.jpeg', bbox_inches='tight')"
   ]
  },
  {
   "cell_type": "markdown",
   "metadata": {},
   "source": [
    "### MAXAE "
   ]
  },
  {
   "cell_type": "code",
   "execution_count": 18,
   "metadata": {},
   "outputs": [],
   "source": [
    "colnames = ['min', 'Q1', 'mediana', 'Q3', 'max']\n",
    "\n",
    "# cambiare i percorsi con i propri dati\n",
    "data3_CNN_max = pd.read_csv('Data/CNN/MAE_error_data_4_CNN_with_STL_Decomposition_3.csv', names=colnames, header=None)\n",
    "\n",
    "data6_CNN_max = pd.read_csv('Data/CNN/MAE_error_data_4_CNN_with_STL_Decomposition_in6.csv', names=colnames, header=None)\n",
    "\n",
    "data12_CNN_max = pd.read_csv('Data/CNN/MAE_error_data_4_CNN_with_STL_Decomposition_in12.csv', names=colnames, header=None)\n",
    "\n",
    "data24_CNN_max = pd.read_csv('Data/CNN/MAE_error_data_4_CNN_with_STL_Decomposition_in24.csv', names=colnames, header=None)\n",
    "\n",
    "data48_CNN_max = pd.read_csv('Data/CNN/MAE_error_data_4_CNN_with_STL_Decomposition_in48.csv', names=colnames, header=None)\n"
   ]
  },
  {
   "cell_type": "code",
   "execution_count": 19,
   "metadata": {},
   "outputs": [],
   "source": [
    "max3_CNN_max = []\n",
    "for i, row in data3_CNN_max.iterrows():\n",
    "    max_i= row['max']\n",
    "    max_i = max_i[0:-2]\n",
    "    max3_CNN_max.append(float(max_i))\n",
    "\n",
    "max6_CNN_max = []\n",
    "for i, row in data6_CNN_max.iterrows():\n",
    "    max_i= row['max']\n",
    "    max_i = max_i[0:-2]\n",
    "    max6_CNN_max.append(float(max_i))\n",
    "   \n",
    "max12_CNN_max = []\n",
    "for i, row in data12_CNN_max.iterrows():\n",
    "    max_i= row['max']\n",
    "    max_i = max_i[0:-2]\n",
    "    max12_CNN_max.append(float(max_i))\n",
    "\n",
    "max24_CNN_max = []\n",
    "for i, row in data24_CNN_max.iterrows():\n",
    "    max_i= row['max']\n",
    "    max_i = max_i[0:-1]\n",
    "    max24_CNN_max.append(float(max_i))\n",
    "    \n",
    "max48_CNN_max = []\n",
    "for i, row in data48_CNN_max.iterrows():\n",
    "    max_i= row['max']\n",
    "    max_i = max_i[0:-1]\n",
    "    max48_CNN_max.append(float(max_i)) "
   ]
  },
  {
   "cell_type": "code",
   "execution_count": 20,
   "metadata": {},
   "outputs": [
    {
     "name": "stdout",
     "output_type": "stream",
     "text": [
      "CNN MAXAE mean  52.56 47.09 57.48 68.84 78.74\n",
      "CNN MAXAE std  64.19 55.19 70.14 90.88 101.93\n",
      "CNN MAXAE max  382.1 392.2 507.6 591.3 597.1\n"
     ]
    }
   ],
   "source": [
    "max3_CNN_max =  np.array(max3_CNN_max)\n",
    "max6_CNN_max =  np.array(max6_CNN_max)\n",
    "max12_CNN_max = np.array(max12_CNN_max)\n",
    "max24_CNN_max = np.array(max24_CNN_max)\n",
    "max48_CNN_max = np.array(max48_CNN_max)\n",
    "\n",
    "mean3maxae = np.mean(max3_CNN_max)\n",
    "mean6maxae = np.mean(max6_CNN_max)\n",
    "mean12maxae = np.mean(max12_CNN_max)\n",
    "mean24maxae = np.mean(max24_CNN_max)\n",
    "mean48maxae = np.mean(max48_CNN_max)\n",
    "print('CNN MAXAE mean ', round(mean3maxae,2), round(mean6maxae,2), round(mean12maxae,2), round(mean24maxae,2), round(mean48maxae,2))\n",
    "\n",
    "std3max = np.std(max3_CNN_max)\n",
    "std6max = np.std(max6_CNN_max)\n",
    "std12max = np.std(max12_CNN_max)\n",
    "std24max = np.std(max24_CNN_max)\n",
    "std48max = np.std(max48_CNN_max)\n",
    "print('CNN MAXAE std ', round(std3max,2), round(std6max,2), round(std12max,2), round(std24max,2), round(std48max,2))\n",
    "\n",
    "max3mape = np.max(max3_CNN_max)\n",
    "max6mape = np.max(max6_CNN_max)\n",
    "max12mape = np.max(max12_CNN_max)\n",
    "max24mape = np.max(max24_CNN_max)\n",
    "max48mape = np.max(max48_CNN_max)\n",
    "print('CNN MAXAE max ', round(max3mape,2), round(max6mape,2), round(max12mape,2), round(max24mape,2), round(max48mape,2))"
   ]
  },
  {
   "cell_type": "code",
   "execution_count": null,
   "metadata": {},
   "outputs": [],
   "source": []
  },
  {
   "cell_type": "code",
   "execution_count": null,
   "metadata": {},
   "outputs": [],
   "source": []
  },
  {
   "cell_type": "code",
   "execution_count": null,
   "metadata": {},
   "outputs": [],
   "source": []
  },
  {
   "cell_type": "code",
   "execution_count": null,
   "metadata": {},
   "outputs": [],
   "source": []
  },
  {
   "cell_type": "code",
   "execution_count": null,
   "metadata": {},
   "outputs": [],
   "source": []
  },
  {
   "cell_type": "code",
   "execution_count": null,
   "metadata": {},
   "outputs": [],
   "source": []
  },
  {
   "cell_type": "code",
   "execution_count": null,
   "metadata": {},
   "outputs": [],
   "source": []
  }
 ],
 "metadata": {
  "kernelspec": {
   "display_name": "Python 3",
   "language": "python",
   "name": "python3"
  },
  "language_info": {
   "codemirror_mode": {
    "name": "ipython",
    "version": 3
   },
   "file_extension": ".py",
   "mimetype": "text/x-python",
   "name": "python",
   "nbconvert_exporter": "python",
   "pygments_lexer": "ipython3",
   "version": "3.7.4"
  }
 },
 "nbformat": 4,
 "nbformat_minor": 2
}
