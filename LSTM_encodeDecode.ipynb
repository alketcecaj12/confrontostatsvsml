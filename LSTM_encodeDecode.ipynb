{
 "cells": [
  {
   "cell_type": "code",
   "execution_count": 1,
   "metadata": {},
   "outputs": [],
   "source": [
    "# univariate multi-step encoder-decoder lstm example\n",
    "from numpy import array\n",
    "from keras.models import Sequential\n",
    "from keras.layers import LSTM\n",
    "from keras.layers import Dense\n",
    "from keras.layers import RepeatVector\n",
    "from keras.layers import TimeDistributed"
   ]
  },
  {
   "cell_type": "code",
   "execution_count": 18,
   "metadata": {},
   "outputs": [],
   "source": [
    "# split a univariate sequence into samples\n",
    "def split_sequence(sequence, n_steps_in, n_steps_out):\n",
    "    X, y = list(), list()\n",
    "    for i in range(len(sequence)):\n",
    "        # find the end of this pattern\n",
    "        end_ix = i + n_steps_in\n",
    "        out_end_ix = end_ix + n_steps_out\n",
    "        # check if we are beyond the sequence\n",
    "        if out_end_ix > len(sequence):\n",
    "            break\n",
    "        # gather input and output parts of the pattern\n",
    "        seq_x, seq_y = sequence[i:end_ix], sequence[end_ix:out_end_ix]\n",
    "        X.append(seq_x)\n",
    "        y.append(seq_y)\n",
    "    return array(X), array(y)"
   ]
  },
  {
   "cell_type": "code",
   "execution_count": 23,
   "metadata": {},
   "outputs": [],
   "source": [
    "# define input sequence\n",
    "raw_seq = [10, 20, 30, 40, 50, 60, 70, 80, 90,120,130, 140, 160,130, 120, 100, 80, 60, 30,10, 30,60, 90, 120,90, 80]\n",
    "\n",
    "# choose a number of time steps\n",
    "n_steps_in, n_steps_out = 4, 3\n",
    "\n",
    "# split into samples\n",
    "X, y = split_sequence(raw_seq, n_steps_in, n_steps_out)\n",
    "\n",
    "# reshape from [samples, timesteps] into [samples, timesteps, features]\n",
    "n_features = 1\n",
    "X = X.reshape((X.shape[0], X.shape[1], n_features))\n",
    "y = y.reshape((y.shape[0], y.shape[1], n_features))\n",
    "\n"
   ]
  },
  {
   "cell_type": "code",
   "execution_count": 24,
   "metadata": {
    "scrolled": true
   },
   "outputs": [
    {
     "name": "stdout",
     "output_type": "stream",
     "text": [
      "[[[ 10]\n",
      "  [ 20]\n",
      "  [ 30]\n",
      "  [ 40]]\n",
      "\n",
      " [[ 20]\n",
      "  [ 30]\n",
      "  [ 40]\n",
      "  [ 50]]\n",
      "\n",
      " [[ 30]\n",
      "  [ 40]\n",
      "  [ 50]\n",
      "  [ 60]]\n",
      "\n",
      " [[ 40]\n",
      "  [ 50]\n",
      "  [ 60]\n",
      "  [ 70]]\n",
      "\n",
      " [[ 50]\n",
      "  [ 60]\n",
      "  [ 70]\n",
      "  [ 80]]\n",
      "\n",
      " [[ 60]\n",
      "  [ 70]\n",
      "  [ 80]\n",
      "  [ 90]]\n",
      "\n",
      " [[ 70]\n",
      "  [ 80]\n",
      "  [ 90]\n",
      "  [120]]\n",
      "\n",
      " [[ 80]\n",
      "  [ 90]\n",
      "  [120]\n",
      "  [130]]\n",
      "\n",
      " [[ 90]\n",
      "  [120]\n",
      "  [130]\n",
      "  [140]]\n",
      "\n",
      " [[120]\n",
      "  [130]\n",
      "  [140]\n",
      "  [160]]\n",
      "\n",
      " [[130]\n",
      "  [140]\n",
      "  [160]\n",
      "  [130]]\n",
      "\n",
      " [[140]\n",
      "  [160]\n",
      "  [130]\n",
      "  [120]]\n",
      "\n",
      " [[160]\n",
      "  [130]\n",
      "  [120]\n",
      "  [100]]\n",
      "\n",
      " [[130]\n",
      "  [120]\n",
      "  [100]\n",
      "  [ 80]]\n",
      "\n",
      " [[120]\n",
      "  [100]\n",
      "  [ 80]\n",
      "  [ 60]]\n",
      "\n",
      " [[100]\n",
      "  [ 80]\n",
      "  [ 60]\n",
      "  [ 30]]\n",
      "\n",
      " [[ 80]\n",
      "  [ 60]\n",
      "  [ 30]\n",
      "  [ 10]]\n",
      "\n",
      " [[ 60]\n",
      "  [ 30]\n",
      "  [ 10]\n",
      "  [ 30]]\n",
      "\n",
      " [[ 30]\n",
      "  [ 10]\n",
      "  [ 30]\n",
      "  [ 60]]\n",
      "\n",
      " [[ 10]\n",
      "  [ 30]\n",
      "  [ 60]\n",
      "  [ 90]]]\n"
     ]
    }
   ],
   "source": [
    "print(X)"
   ]
  },
  {
   "cell_type": "code",
   "execution_count": 25,
   "metadata": {},
   "outputs": [],
   "source": [
    "# define model\n",
    "model = Sequential()\n",
    "model.add(LSTM(100, activation='relu', input_shape=(n_steps_in, n_features)))\n",
    "model.add(RepeatVector(n_steps_out))\n",
    "model.add(LSTM(100, activation='relu', return_sequences=True))\n",
    "model.add(TimeDistributed(Dense(1)))\n",
    "model.compile(optimizer='adam', loss='mse')\n",
    "\n",
    "# fit model\n",
    "model.fit(X, y, epochs=100, verbose=0)\n",
    "\n",
    "# demonstrate prediction\n",
    "x_input = array([70, 80, 90, 100])"
   ]
  },
  {
   "cell_type": "code",
   "execution_count": 26,
   "metadata": {},
   "outputs": [
    {
     "name": "stdout",
     "output_type": "stream",
     "text": [
      "[[[120.03701]\n",
      "  [136.92834]\n",
      "  [138.29527]]]\n"
     ]
    }
   ],
   "source": [
    "x_input = x_input.reshape((1, n_steps_in, n_features))\n",
    "yhat = model.predict(x_input, verbose=0)\n",
    "print(yhat)"
   ]
  },
  {
   "cell_type": "code",
   "execution_count": null,
   "metadata": {},
   "outputs": [],
   "source": []
  },
  {
   "cell_type": "code",
   "execution_count": null,
   "metadata": {},
   "outputs": [],
   "source": []
  },
  {
   "cell_type": "code",
   "execution_count": null,
   "metadata": {},
   "outputs": [],
   "source": []
  }
 ],
 "metadata": {
  "kernelspec": {
   "display_name": "Python 3",
   "language": "python",
   "name": "python3"
  },
  "language_info": {
   "codemirror_mode": {
    "name": "ipython",
    "version": 3
   },
   "file_extension": ".py",
   "mimetype": "text/x-python",
   "name": "python",
   "nbconvert_exporter": "python",
   "pygments_lexer": "ipython3",
   "version": "3.7.4"
  }
 },
 "nbformat": 4,
 "nbformat_minor": 2
}
