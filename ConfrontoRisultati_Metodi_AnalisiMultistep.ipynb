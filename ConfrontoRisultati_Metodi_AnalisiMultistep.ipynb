{
 "cells": [
  {
   "cell_type": "code",
   "execution_count": 1,
   "metadata": {},
   "outputs": [],
   "source": [
    "import pandas as pd\n",
    "import numpy as np\n",
    "import matplotlib.pyplot as plt  "
   ]
  },
  {
   "cell_type": "markdown",
   "metadata": {},
   "source": [
    "### Confronto 6 step"
   ]
  },
  {
   "cell_type": "code",
   "execution_count": 2,
   "metadata": {},
   "outputs": [],
   "source": [
    "colnames = ['min', 'Q1', 'mediana', 'Q3', 'max']\n",
    "\n",
    "# cambiare i percorsi con i propri dati\n",
    "data6_Prophet = pd.read_csv('Data/Prophet/MAE_error_data_4_Prophet_with_STL_Decomposition_6.csv', names=colnames, header=None)\n",
    "\n",
    "data6_MLP = pd.read_csv('Data/MLP/MAE_error_data_4_MLP_with_STL_Decomposition_in6.csv', names=colnames, header=None)\n",
    "\n",
    "data6_LSTM = pd.read_csv('Data/LSTM/MAE_error_data_4_LSTM_with_STL_Decomposition_6.csv', names=colnames, header=None)\n",
    "\n",
    "data6_CNN = pd.read_csv('Data/CNN/MAE_error_data_4_CNN_with_STL_Decomposition_in6.csv', names=colnames, header=None)\n",
    "\n",
    "data6_ARIMA = pd.read_csv('Data/ARIMA/MAE_error_data_4_ARIMA_MultistepForcast_6.csv', names=colnames, header=None)\n",
    "\n",
    "data6_ETS = pd.read_csv('Data/ETS/MAE_error_data_4_ETS_MultistepForcast_6.csv', names=colnames, header=None)\n",
    "\n",
    "data6_AR = pd.read_csv('Data/AR/MAE_error_data_4_Autoregression_6_StepForecast.csv', names=colnames, header=None)\n",
    "\n",
    "data6_Naive = pd.read_csv('Data/Naive/MAE_error_data_4_Naive_DayHourAveragePrediction.csv', names=colnames, header=None)\n"
   ]
  },
  {
   "cell_type": "code",
   "execution_count": 3,
   "metadata": {},
   "outputs": [],
   "source": [
    "max6_AR = []\n",
    "for i, row in data6_AR.iterrows():\n",
    "    max_i= row['max']\n",
    "    max_i = max_i[0:-2]\n",
    "    max6_AR.append(float(max_i))\n",
    "\n",
    "    \n",
    "max6_Prophet = []\n",
    "for i, row in data6_Prophet.iterrows():\n",
    "    max_i= row['max']\n",
    "    max_i = max_i[0:-2]\n",
    "    max6_Prophet.append(float(max_i))\n",
    "\n",
    "max6_MLP = []\n",
    "for i, row in data6_MLP.iterrows():\n",
    "    max_i= row['max']\n",
    "    max_i = max_i[0:-1]\n",
    "    max6_MLP.append(float(max_i))\n",
    "    \n",
    "max6_CNN = []\n",
    "for i, row in data6_CNN.iterrows():\n",
    "    max_i= row['max']\n",
    "    max_i = max_i[0:-1]\n",
    "    max6_CNN.append(float(max_i)) \n",
    "    \n",
    "max6_LSTM = []\n",
    "for i, row in data6_LSTM.iterrows():\n",
    "    max_i= row['max']\n",
    "    max_i = max_i[0:-1]\n",
    "    max6_LSTM.append(float(max_i)) \n",
    "    \n",
    "max6_ARIMA = []\n",
    "for i, row in data6_ARIMA.iterrows():\n",
    "    max_i= row['max']\n",
    "    max_i = max_i[0:-1]\n",
    "    max6_ARIMA.append(float(max_i)) \n",
    "    \n",
    "max6_ETS = []\n",
    "for i, row in data6_ETS.iterrows():\n",
    "    max_i= row['max']\n",
    "    max_i = max_i[0:-1]\n",
    "    max6_ETS.append(float(max_i))  \n",
    "    \n",
    "max6_Naive = []\n",
    "for i, row in data6_Naive.iterrows():\n",
    "    max_i= row['max']\n",
    "    max_i = max_i[0:-1]\n",
    "    max6_Naive.append(float(max_i))    \n",
    "\n",
    "max6_CNN = np.array(max6_CNN)    \n",
    "max6_MLP = np.array(max6_MLP)\n",
    "max6_LSTM = np.array(max6_LSTM)\n",
    "max6_ETS = np.array(max6_ETS)\n",
    "max6_Prophet = np.array(max6_Prophet)\n",
    "max6_AR = np.array(max6_AR)\n",
    "max6_ARIMA = np.array(max6_ARIMA)"
   ]
  },
  {
   "cell_type": "code",
   "execution_count": null,
   "metadata": {},
   "outputs": [],
   "source": [
    "\n"
   ]
  },
  {
   "cell_type": "code",
   "execution_count": 4,
   "metadata": {},
   "outputs": [
    {
     "data": {
      "image/png": "[encoded data removed]",
      "text/plain": [
       "<Figure size 1440x360 with 1 Axes>"
      ]
     },
     "metadata": {
      "needs_background": "light"
     },
     "output_type": "display_data"
    }
   ],
   "source": [
    "max6_data_to_plot = [max6_CNN, max6_MLP, max6_LSTM, max6_Prophet, max6_ETS, max6_ARIMA, max6_AR]\n",
    "\n",
    "# Create a figure instance\n",
    "fig = plt.figure(1, figsize=(20, 5))\n",
    "\n",
    "# Create an axes instance\n",
    "ax = fig.add_subplot(111)\n",
    "\n",
    "# Create the boxplot\n",
    "bp = ax.boxplot(max6_data_to_plot, patch_artist=True)\n",
    "ax.set_xticklabels(['CNN', 'MLP', 'LSTM', 'Prophet', 'ETS', 'ARIMA', 'AR'], fontsize=18)\n",
    "ax.set_ylabel('MAXAE', fontsize=18) \n",
    "\n",
    "# Save the figure\n",
    "fig.savefig('ConfrontoMetodiMAXAE_6.jpeg', bbox_inches='tight')"
   ]
  },
  {
   "cell_type": "markdown",
   "metadata": {},
   "source": [
    "### RMSE 6 steps "
   ]
  },
  {
   "cell_type": "code",
   "execution_count": 5,
   "metadata": {},
   "outputs": [
    {
     "ename": "FileNotFoundError",
     "evalue": "[Errno 2] File b'Data/ETS/RMSE_error_data_4_ETS_MultistepForcast_6_v2.csv' does not exist: b'Data/ETS/RMSE_error_data_4_ETS_MultistepForcast_6_v2.csv'",
     "output_type": "error",
     "traceback": [
      "\u001b[0;31m---------------------------------------------------------------------------\u001b[0m",
      "\u001b[0;31mFileNotFoundError\u001b[0m                         Traceback (most recent call last)",
      "\u001b[0;32m<ipython-input-5-5535bf801e96>\u001b[0m in \u001b[0;36m<module>\u001b[0;34m\u001b[0m\n\u001b[1;32m     14\u001b[0m \u001b[0mrmse6_ARIMA\u001b[0m\u001b[0;34m.\u001b[0m\u001b[0mcolumns\u001b[0m \u001b[0;34m=\u001b[0m \u001b[0;34m[\u001b[0m\u001b[0;34m'rmse'\u001b[0m\u001b[0;34m]\u001b[0m\u001b[0;34m\u001b[0m\u001b[0;34m\u001b[0m\u001b[0m\n\u001b[1;32m     15\u001b[0m \u001b[0;34m\u001b[0m\u001b[0m\n\u001b[0;32m---> 16\u001b[0;31m \u001b[0mrmse6_ETS\u001b[0m \u001b[0;34m=\u001b[0m \u001b[0mpd\u001b[0m\u001b[0;34m.\u001b[0m\u001b[0mread_csv\u001b[0m\u001b[0;34m(\u001b[0m\u001b[0;34m'Data/ETS/RMSE_error_data_4_ETS_MultistepForcast_6_v2.csv'\u001b[0m\u001b[0;34m,\u001b[0m \u001b[0mheader\u001b[0m\u001b[0;34m=\u001b[0m\u001b[0;32mNone\u001b[0m\u001b[0;34m)\u001b[0m\u001b[0;34m\u001b[0m\u001b[0;34m\u001b[0m\u001b[0m\n\u001b[0m\u001b[1;32m     17\u001b[0m \u001b[0mrmse6_ETS\u001b[0m\u001b[0;34m.\u001b[0m\u001b[0mcolumns\u001b[0m \u001b[0;34m=\u001b[0m \u001b[0;34m[\u001b[0m\u001b[0;34m'rmse'\u001b[0m\u001b[0;34m]\u001b[0m\u001b[0;34m\u001b[0m\u001b[0;34m\u001b[0m\u001b[0m\n\u001b[1;32m     18\u001b[0m \u001b[0;34m\u001b[0m\u001b[0m\n",
      "\u001b[0;32m~/anaconda3/lib/python3.7/site-packages/pandas/io/parsers.py\u001b[0m in \u001b[0;36mparser_f\u001b[0;34m(filepath_or_buffer, sep, delimiter, header, names, index_col, usecols, squeeze, prefix, mangle_dupe_cols, dtype, engine, converters, true_values, false_values, skipinitialspace, skiprows, skipfooter, nrows, na_values, keep_default_na, na_filter, verbose, skip_blank_lines, parse_dates, infer_datetime_format, keep_date_col, date_parser, dayfirst, cache_dates, iterator, chunksize, compression, thousands, decimal, lineterminator, quotechar, quoting, doublequote, escapechar, comment, encoding, dialect, error_bad_lines, warn_bad_lines, delim_whitespace, low_memory, memory_map, float_precision)\u001b[0m\n\u001b[1;32m    683\u001b[0m         )\n\u001b[1;32m    684\u001b[0m \u001b[0;34m\u001b[0m\u001b[0m\n\u001b[0;32m--> 685\u001b[0;31m         \u001b[0;32mreturn\u001b[0m \u001b[0m_read\u001b[0m\u001b[0;34m(\u001b[0m\u001b[0mfilepath_or_buffer\u001b[0m\u001b[0;34m,\u001b[0m \u001b[0mkwds\u001b[0m\u001b[0;34m)\u001b[0m\u001b[0;34m\u001b[0m\u001b[0;34m\u001b[0m\u001b[0m\n\u001b[0m\u001b[1;32m    686\u001b[0m \u001b[0;34m\u001b[0m\u001b[0m\n\u001b[1;32m    687\u001b[0m     \u001b[0mparser_f\u001b[0m\u001b[0;34m.\u001b[0m\u001b[0m__name__\u001b[0m \u001b[0;34m=\u001b[0m \u001b[0mname\u001b[0m\u001b[0;34m\u001b[0m\u001b[0;34m\u001b[0m\u001b[0m\n",
      "\u001b[0;32m~/anaconda3/lib/python3.7/site-packages/pandas/io/parsers.py\u001b[0m in \u001b[0;36m_read\u001b[0;34m(filepath_or_buffer, kwds)\u001b[0m\n\u001b[1;32m    455\u001b[0m \u001b[0;34m\u001b[0m\u001b[0m\n\u001b[1;32m    456\u001b[0m     \u001b[0;31m# Create the parser.\u001b[0m\u001b[0;34m\u001b[0m\u001b[0;34m\u001b[0m\u001b[0;34m\u001b[0m\u001b[0m\n\u001b[0;32m--> 457\u001b[0;31m     \u001b[0mparser\u001b[0m \u001b[0;34m=\u001b[0m \u001b[0mTextFileReader\u001b[0m\u001b[0;34m(\u001b[0m\u001b[0mfp_or_buf\u001b[0m\u001b[0;34m,\u001b[0m \u001b[0;34m**\u001b[0m\u001b[0mkwds\u001b[0m\u001b[0;34m)\u001b[0m\u001b[0;34m\u001b[0m\u001b[0;34m\u001b[0m\u001b[0m\n\u001b[0m\u001b[1;32m    458\u001b[0m \u001b[0;34m\u001b[0m\u001b[0m\n\u001b[1;32m    459\u001b[0m     \u001b[0;32mif\u001b[0m \u001b[0mchunksize\u001b[0m \u001b[0;32mor\u001b[0m \u001b[0miterator\u001b[0m\u001b[0;34m:\u001b[0m\u001b[0;34m\u001b[0m\u001b[0;34m\u001b[0m\u001b[0m\n",
      "\u001b[0;32m~/anaconda3/lib/python3.7/site-packages/pandas/io/parsers.py\u001b[0m in \u001b[0;36m__init__\u001b[0;34m(self, f, engine, **kwds)\u001b[0m\n\u001b[1;32m    893\u001b[0m             \u001b[0mself\u001b[0m\u001b[0;34m.\u001b[0m\u001b[0moptions\u001b[0m\u001b[0;34m[\u001b[0m\u001b[0;34m\"has_index_names\"\u001b[0m\u001b[0;34m]\u001b[0m \u001b[0;34m=\u001b[0m \u001b[0mkwds\u001b[0m\u001b[0;34m[\u001b[0m\u001b[0;34m\"has_index_names\"\u001b[0m\u001b[0;34m]\u001b[0m\u001b[0;34m\u001b[0m\u001b[0;34m\u001b[0m\u001b[0m\n\u001b[1;32m    894\u001b[0m \u001b[0;34m\u001b[0m\u001b[0m\n\u001b[0;32m--> 895\u001b[0;31m         \u001b[0mself\u001b[0m\u001b[0;34m.\u001b[0m\u001b[0m_make_engine\u001b[0m\u001b[0;34m(\u001b[0m\u001b[0mself\u001b[0m\u001b[0;34m.\u001b[0m\u001b[0mengine\u001b[0m\u001b[0;34m)\u001b[0m\u001b[0;34m\u001b[0m\u001b[0;34m\u001b[0m\u001b[0m\n\u001b[0m\u001b[1;32m    896\u001b[0m \u001b[0;34m\u001b[0m\u001b[0m\n\u001b[1;32m    897\u001b[0m     \u001b[0;32mdef\u001b[0m \u001b[0mclose\u001b[0m\u001b[0;34m(\u001b[0m\u001b[0mself\u001b[0m\u001b[0;34m)\u001b[0m\u001b[0;34m:\u001b[0m\u001b[0;34m\u001b[0m\u001b[0;34m\u001b[0m\u001b[0m\n",
      "\u001b[0;32m~/anaconda3/lib/python3.7/site-packages/pandas/io/parsers.py\u001b[0m in \u001b[0;36m_make_engine\u001b[0;34m(self, engine)\u001b[0m\n\u001b[1;32m   1133\u001b[0m     \u001b[0;32mdef\u001b[0m \u001b[0m_make_engine\u001b[0m\u001b[0;34m(\u001b[0m\u001b[0mself\u001b[0m\u001b[0;34m,\u001b[0m \u001b[0mengine\u001b[0m\u001b[0;34m=\u001b[0m\u001b[0;34m\"c\"\u001b[0m\u001b[0;34m)\u001b[0m\u001b[0;34m:\u001b[0m\u001b[0;34m\u001b[0m\u001b[0;34m\u001b[0m\u001b[0m\n\u001b[1;32m   1134\u001b[0m         \u001b[0;32mif\u001b[0m \u001b[0mengine\u001b[0m \u001b[0;34m==\u001b[0m \u001b[0;34m\"c\"\u001b[0m\u001b[0;34m:\u001b[0m\u001b[0;34m\u001b[0m\u001b[0;34m\u001b[0m\u001b[0m\n\u001b[0;32m-> 1135\u001b[0;31m             \u001b[0mself\u001b[0m\u001b[0;34m.\u001b[0m\u001b[0m_engine\u001b[0m \u001b[0;34m=\u001b[0m \u001b[0mCParserWrapper\u001b[0m\u001b[0;34m(\u001b[0m\u001b[0mself\u001b[0m\u001b[0;34m.\u001b[0m\u001b[0mf\u001b[0m\u001b[0;34m,\u001b[0m \u001b[0;34m**\u001b[0m\u001b[0mself\u001b[0m\u001b[0;34m.\u001b[0m\u001b[0moptions\u001b[0m\u001b[0;34m)\u001b[0m\u001b[0;34m\u001b[0m\u001b[0;34m\u001b[0m\u001b[0m\n\u001b[0m\u001b[1;32m   1136\u001b[0m         \u001b[0;32melse\u001b[0m\u001b[0;34m:\u001b[0m\u001b[0;34m\u001b[0m\u001b[0;34m\u001b[0m\u001b[0m\n\u001b[1;32m   1137\u001b[0m             \u001b[0;32mif\u001b[0m \u001b[0mengine\u001b[0m \u001b[0;34m==\u001b[0m \u001b[0;34m\"python\"\u001b[0m\u001b[0;34m:\u001b[0m\u001b[0;34m\u001b[0m\u001b[0;34m\u001b[0m\u001b[0m\n",
      "\u001b[0;32m~/anaconda3/lib/python3.7/site-packages/pandas/io/parsers.py\u001b[0m in \u001b[0;36m__init__\u001b[0;34m(self, src, **kwds)\u001b[0m\n\u001b[1;32m   1915\u001b[0m         \u001b[0mkwds\u001b[0m\u001b[0;34m[\u001b[0m\u001b[0;34m\"usecols\"\u001b[0m\u001b[0;34m]\u001b[0m \u001b[0;34m=\u001b[0m \u001b[0mself\u001b[0m\u001b[0;34m.\u001b[0m\u001b[0musecols\u001b[0m\u001b[0;34m\u001b[0m\u001b[0;34m\u001b[0m\u001b[0m\n\u001b[1;32m   1916\u001b[0m \u001b[0;34m\u001b[0m\u001b[0m\n\u001b[0;32m-> 1917\u001b[0;31m         \u001b[0mself\u001b[0m\u001b[0;34m.\u001b[0m\u001b[0m_reader\u001b[0m \u001b[0;34m=\u001b[0m \u001b[0mparsers\u001b[0m\u001b[0;34m.\u001b[0m\u001b[0mTextReader\u001b[0m\u001b[0;34m(\u001b[0m\u001b[0msrc\u001b[0m\u001b[0;34m,\u001b[0m \u001b[0;34m**\u001b[0m\u001b[0mkwds\u001b[0m\u001b[0;34m)\u001b[0m\u001b[0;34m\u001b[0m\u001b[0;34m\u001b[0m\u001b[0m\n\u001b[0m\u001b[1;32m   1918\u001b[0m         \u001b[0mself\u001b[0m\u001b[0;34m.\u001b[0m\u001b[0munnamed_cols\u001b[0m \u001b[0;34m=\u001b[0m \u001b[0mself\u001b[0m\u001b[0;34m.\u001b[0m\u001b[0m_reader\u001b[0m\u001b[0;34m.\u001b[0m\u001b[0munnamed_cols\u001b[0m\u001b[0;34m\u001b[0m\u001b[0;34m\u001b[0m\u001b[0m\n\u001b[1;32m   1919\u001b[0m \u001b[0;34m\u001b[0m\u001b[0m\n",
      "\u001b[0;32mpandas/_libs/parsers.pyx\u001b[0m in \u001b[0;36mpandas._libs.parsers.TextReader.__cinit__\u001b[0;34m()\u001b[0m\n",
      "\u001b[0;32mpandas/_libs/parsers.pyx\u001b[0m in \u001b[0;36mpandas._libs.parsers.TextReader._setup_parser_source\u001b[0;34m()\u001b[0m\n",
      "\u001b[0;31mFileNotFoundError\u001b[0m: [Errno 2] File b'Data/ETS/RMSE_error_data_4_ETS_MultistepForcast_6_v2.csv' does not exist: b'Data/ETS/RMSE_error_data_4_ETS_MultistepForcast_6_v2.csv'"
     ]
    }
   ],
   "source": [
    "rmse6_Prophet = pd.read_csv('Data/Prophet/RMSE_error_data_4_Prophet_with_STL_Decomposition_6.csv', header=None)\n",
    "rmse6_Prophet.columns = ['rmse']\n",
    "\n",
    "rmse6_MLP = pd.read_csv('Data/MLP/RMSE_error_data_4_MLP_with_STL_Decomposition_in6.csv',  header=None)\n",
    "rmse6_MLP.columns = ['rmse']\n",
    "\n",
    "rmse6_LSTM = pd.read_csv('Data/LSTM/RMSE_error_data_4_LSTM_with_STL_Decomposition_6.csv', header=None)\n",
    "rmse6_LSTM.columns = ['rmse']\n",
    "\n",
    "rmse6_CNN = pd.read_csv('Data/CNN/RMSE_error_data_4_CNN_with_STL_Decomposition_in6.csv',  header=None)\n",
    "rmse6_CNN.columns = ['rmse']\n",
    "\n",
    "rmse6_ARIMA = pd.read_csv('Data/ARIMA/RMSE_error_data_4_ARIMA_MultistepForcast_6.csv', header=None)\n",
    "rmse6_ARIMA.columns = ['rmse']\n",
    "\n",
    "rmse6_ETS = pd.read_csv('Data/ETS/RMSE_error_data_4_ETS_MultistepForcast_6_v2.csv', header=None)\n",
    "rmse6_ETS.columns = ['rmse']\n",
    "\n",
    "rmse6_AR = pd.read_csv('Data/AR/RMSE_error_data_4_Autoregression_6_StepForecast.csv',  header=None)\n",
    "rmse6_AR.columns = ['rmse']\n",
    "\n",
    "\n"
   ]
  },
  {
   "cell_type": "code",
   "execution_count": null,
   "metadata": {},
   "outputs": [],
   "source": [
    "prophet6_list = []\n",
    "for i, k in rmse6_Prophet.iterrows():\n",
    "    #print(i, k['rmse'])\n",
    "    s = k['rmse'].split(':')[1]\n",
    "    rmse = float(s)\n",
    "    prophet6_list.append(rmse)\n",
    "    \n",
    "ar6_list = []\n",
    "for i, k in rmse6_AR.iterrows():\n",
    "    #print(i, k['rmse'])\n",
    "    s = k['rmse'].split(':')[1]\n",
    "    rmse = float(s)\n",
    "    ar6_list.append(rmse)\n",
    "    \n",
    "ETS6_list = []\n",
    "for i, k in rmse6_ETS.iterrows():\n",
    "    #print(i, k['rmse'])\n",
    "    s = k['rmse'].split(':')[1]\n",
    "    rmse = float(s)\n",
    "    ETS6_list.append(rmse)\n",
    "    \n",
    "ARIMA6_list = []\n",
    "for i, k in rmse6_ARIMA.iterrows():\n",
    "    #print(i, k['rmse'])\n",
    "    s = k['rmse'].split(':')[1]\n",
    "    rmse = float(s)\n",
    "    ARIMA6_list.append(rmse)\n",
    "    \n",
    "MLP6_list = []\n",
    "for i, k in rmse6_MLP.iterrows():\n",
    "    #print(i, k['rmse'])\n",
    "    s = k['rmse'].split(':')[1]\n",
    "    rmse = float(s)\n",
    "    MLP6_list.append(rmse)\n",
    "    \n",
    "CNN6_list = []\n",
    "for i, k in rmse6_CNN.iterrows():\n",
    "    #print(i, k['rmse'])    \n",
    "    s = k['rmse'].split(':')[1]\n",
    "    rmse = float(s)\n",
    "    CNN6_list.append(rmse)\n",
    "    \n",
    "LSTM6_list = []\n",
    "for i, k in rmse6_LSTM.iterrows():\n",
    "    #print(i, k['rmse'])    \n",
    "    s = k['rmse'].split(':')[1]\n",
    "    rmse = float(s)\n",
    "    LSTM6_list.append(rmse)"
   ]
  },
  {
   "cell_type": "code",
   "execution_count": 6,
   "metadata": {},
   "outputs": [
    {
     "ename": "NameError",
     "evalue": "name 'CNN6_list' is not defined",
     "output_type": "error",
     "traceback": [
      "\u001b[0;31m---------------------------------------------------------------------------\u001b[0m",
      "\u001b[0;31mNameError\u001b[0m                                 Traceback (most recent call last)",
      "\u001b[0;32m<ipython-input-6-8594fadbc0f7>\u001b[0m in \u001b[0;36m<module>\u001b[0;34m\u001b[0m\n\u001b[0;32m----> 1\u001b[0;31m \u001b[0mstep6_data_to_plot\u001b[0m \u001b[0;34m=\u001b[0m \u001b[0;34m[\u001b[0m\u001b[0mCNN6_list\u001b[0m\u001b[0;34m,\u001b[0m \u001b[0mMLP6_list\u001b[0m\u001b[0;34m,\u001b[0m \u001b[0mLSTM6_list\u001b[0m\u001b[0;34m,\u001b[0m \u001b[0mprophet6_list\u001b[0m\u001b[0;34m,\u001b[0m \u001b[0mETS6_list\u001b[0m\u001b[0;34m,\u001b[0m \u001b[0mARIMA6_list\u001b[0m\u001b[0;34m,\u001b[0m \u001b[0mar6_list\u001b[0m\u001b[0;34m]\u001b[0m\u001b[0;34m\u001b[0m\u001b[0;34m\u001b[0m\u001b[0m\n\u001b[0m\u001b[1;32m      2\u001b[0m \u001b[0;34m\u001b[0m\u001b[0m\n\u001b[1;32m      3\u001b[0m \u001b[0;31m# Create a figure instance\u001b[0m\u001b[0;34m\u001b[0m\u001b[0;34m\u001b[0m\u001b[0;34m\u001b[0m\u001b[0m\n\u001b[1;32m      4\u001b[0m \u001b[0mfig\u001b[0m \u001b[0;34m=\u001b[0m \u001b[0mplt\u001b[0m\u001b[0;34m.\u001b[0m\u001b[0mfigure\u001b[0m\u001b[0;34m(\u001b[0m\u001b[0;36m1\u001b[0m\u001b[0;34m,\u001b[0m \u001b[0mfigsize\u001b[0m\u001b[0;34m=\u001b[0m\u001b[0;34m(\u001b[0m\u001b[0;36m20\u001b[0m\u001b[0;34m,\u001b[0m \u001b[0;36m5\u001b[0m\u001b[0;34m)\u001b[0m\u001b[0;34m)\u001b[0m\u001b[0;34m\u001b[0m\u001b[0;34m\u001b[0m\u001b[0m\n\u001b[1;32m      5\u001b[0m \u001b[0;34m\u001b[0m\u001b[0m\n",
      "\u001b[0;31mNameError\u001b[0m: name 'CNN6_list' is not defined"
     ]
    }
   ],
   "source": [
    "step6_data_to_plot = [CNN6_list, MLP6_list, LSTM6_list, prophet6_list, ETS6_list, ARIMA6_list, ar6_list]\n",
    "\n",
    "# Create a figure instance\n",
    "fig = plt.figure(1, figsize=(20, 5))\n",
    "\n",
    "# Create an axes instance\n",
    "ax = fig.add_subplot(111)\n",
    "\n",
    "# Create the boxplot\n",
    "bp = ax.boxplot(step6_data_to_plot, patch_artist=True)\n",
    "ax.set_xticklabels(['CNN', 'MLP', 'LSTM', 'Prophet', 'ETS', 'ARIMA', 'AR'], fontsize=18)\n",
    "ax.set_ylabel('MAXAE', fontsize=18) \n",
    "\n",
    "# Save the figure\n",
    "fig.savefig('ConfrontoMetodi.jpeg', bbox_inches='tight')"
   ]
  },
  {
   "cell_type": "code",
   "execution_count": null,
   "metadata": {},
   "outputs": [],
   "source": []
  },
  {
   "cell_type": "markdown",
   "metadata": {},
   "source": [
    "### Confronto a 12 Step"
   ]
  },
  {
   "cell_type": "code",
   "execution_count": 7,
   "metadata": {},
   "outputs": [],
   "source": [
    "data12_Prophet = pd.read_csv('Data/Prophet/MAE_error_data_4_Prophet_with_STL_Decomposition_12.csv', names=colnames, header=None)\n",
    "\n",
    "data12_MLP = pd.read_csv('Data/MLP/MAE_error_data_4_MLP_with_STL_Decomposition_in12.csv', names=colnames, header=None)\n",
    "\n",
    "data12_LSTM = pd.read_csv('Data/LSTM/MAE_error_data_4_LSTM_with_STL_Decomposition_12.csv', names=colnames, header=None)\n",
    "\n",
    "data12_CNN = pd.read_csv('Data/CNN/MAE_error_data_4_CNN_with_STL_Decomposition_in12.csv', names=colnames, header=None)\n",
    "\n",
    "data12_ARIMA = pd.read_csv('Data/ARIMA/MAE_error_data_4_ARIMA_MultistepForcast_12_V2.csv', names=colnames, header=None)\n",
    "\n",
    "data12_ETS = pd.read_csv('Data/ETS/MAE_error_data_4_ETS_MultistepForcast_12.csv', names=colnames, header=None)\n",
    "\n",
    "data12_AR = pd.read_csv('Data/AR/MAE_error_data_4_Autoregression_12_StepForecast.csv', names=colnames, header=None)"
   ]
  },
  {
   "cell_type": "markdown",
   "metadata": {},
   "source": [
    "### Confronto 24 step "
   ]
  },
  {
   "cell_type": "code",
   "execution_count": 8,
   "metadata": {},
   "outputs": [],
   "source": [
    "data24_Prophet = pd.read_csv('Data/Prophet/MAE_error_data_4_Prophet_with_STL_Decomposition_24.csv', names=colnames, header=None)\n",
    "data24_Prophet = data24_Prophet.dropna()\n",
    "data24_MLP = pd.read_csv('Data/MLP/MAE_error_data_4_MLP_with_STL_Decomposition_in24.csv', names=colnames, header=None)\n",
    "data24_MLP = data24_MLP.dropna()\n",
    "data24_LSTM = pd.read_csv('Data/LSTM/MAE_error_data_4_LSTM_with_STL_Decomposition_24.csv', names=colnames, header=None)\n",
    "data24_LSTM = data24_LSTM.dropna()\n",
    "data24_CNN = pd.read_csv('Data/CNN/MAE_error_data_4_CNN_with_STL_Decomposition_in24.csv', names=colnames, header=None)\n",
    "data24_CNN = data24_CNN.dropna()\n",
    "data24_ARIMA = pd.read_csv('Data/ARIMA/MAE_error_data_4_ARIMA_MultistepForcast_24_V2.csv', names=colnames, header=None)\n",
    "data24_ARIMA = data24_ARIMA.dropna()\n",
    "data24_ETS = pd.read_csv('Data/ETS/MAE_error_data_4_ETS_MultistepForcast_24_v2.csv', names=colnames, header=None)\n",
    "data24_ETS = data24_ETS.dropna()\n",
    "data24_AR = pd.read_csv('Data/AR/MAE_error_data_4_Autoregression_24_StepForecast.csv', names=colnames, header=None)\n",
    "data24_AR = data24_AR.dropna()\n",
    "data24_Naive = pd.read_csv('Data/Naive/MAE_error_data_4_Naive_DayHourAveragePrediction.csv', names=colnames, header=None)\n"
   ]
  },
  {
   "cell_type": "markdown",
   "metadata": {},
   "source": [
    "### Max Error"
   ]
  },
  {
   "cell_type": "code",
   "execution_count": 9,
   "metadata": {},
   "outputs": [],
   "source": [
    "max_AR = []\n",
    "for i, row in data24_AR.iterrows():\n",
    "    max_i= row['max']\n",
    "    max_i = max_i[0:-2]\n",
    "    max_AR.append(float(max_i))\n",
    "\n",
    "    \n",
    "max_Prophet = []\n",
    "for i, row in data24_Prophet.iterrows():\n",
    "    max_i= row['max']\n",
    "    max_i = max_i[0:-2]\n",
    "    max_Prophet.append(float(max_i))\n",
    "\n",
    "max_MLP = []\n",
    "for i, row in data24_MLP.iterrows():\n",
    "    max_i= row['max']\n",
    "    max_i = max_i[0:-1]\n",
    "    max_MLP.append(float(max_i))\n",
    "    \n",
    "max_CNN = []\n",
    "for i, row in data24_CNN.iterrows():\n",
    "    max_i= row['max']\n",
    "    max_i = max_i[0:-1]\n",
    "    max_CNN.append(float(max_i)) \n",
    "    \n",
    "max_LSTM = []\n",
    "for i, row in data24_LSTM.iterrows():\n",
    "    max_i= row['max']\n",
    "    max_i = max_i[0:-1]\n",
    "    max_LSTM.append(float(max_i)) \n",
    "    \n",
    "max_ARIMA = []\n",
    "for i, row in data24_ARIMA.iterrows():\n",
    "    max_i= row['max']\n",
    "    max_i = max_i[0:-1]\n",
    "    max_ARIMA.append(float(max_i)) \n",
    "    \n",
    "max_ETS = []\n",
    "for i, row in data24_ETS.iterrows():\n",
    "    max_i= row['max']\n",
    "    max_i = max_i[0:-1]\n",
    "    max_ETS.append(float(max_i))  \n",
    "    \n",
    "max_Naive = []\n",
    "for i, row in data24_Naive.iterrows():\n",
    "    max_i= row['max']\n",
    "    max_i = max_i[0:-1]\n",
    "    max_Naive.append(float(max_i))    "
   ]
  },
  {
   "cell_type": "markdown",
   "metadata": {},
   "source": [
    "### MAXAE Stats"
   ]
  },
  {
   "cell_type": "code",
   "execution_count": 10,
   "metadata": {},
   "outputs": [
    {
     "name": "stdout",
     "output_type": "stream",
     "text": [
      "CNN     68.8 90.88\n",
      "MLP     72.5 93.1\n",
      "LSTM    182.5 220.1\n",
      "ETS     130.74 164.6\n",
      "Prophet 134.6 173.2\n",
      "AR      116.3 149.8\n",
      "Naive   91.8 132.5\n",
      "ARIMA   62.5 104.9\n"
     ]
    }
   ],
   "source": [
    "max_CNN = np.array(max_CNN)    \n",
    "max_MLP = np.array(max_MLP)\n",
    "max_LSTM = np.array(max_LSTM)\n",
    "max_ETS = np.array(max_ETS)\n",
    "max_Prophet = np.array(max_Prophet)\n",
    "max_AR = np.array(max_AR)\n",
    "max_ARIMA = np.array(max_ARIMA)\n",
    "max_Naive = np.array(max_Naive)\n",
    "\n",
    "print('CNN    ',round(np.mean(max_CNN), 1), round(np.std(max_CNN),2))\n",
    "print('MLP    ',round(np.mean(max_MLP), 1), round(np.std(max_MLP),1))\n",
    "print('LSTM   ',round(np.mean(max_LSTM),1), round(np.std(max_LSTM),1))\n",
    "print('ETS    ',round(np.mean(max_ETS),2),round(np.std(max_ETS),1))\n",
    "print('Prophet',round(np.mean(max_Prophet),1), round(np.std(max_Prophet),1))\n",
    "print('AR     ',round(np.mean(max_AR),1),round(np.std(max_AR),1))\n",
    "print('Naive  ',round(np.mean(max_Naive),1), round(np.std(max_Naive),1))\n",
    "print('ARIMA  ',round(np.mean(max_ARIMA),1), round(np.std(max_ARIMA),1))"
   ]
  },
  {
   "cell_type": "code",
   "execution_count": 12,
   "metadata": {},
   "outputs": [
    {
     "data": {
      "image/png": "[encoded data removed]",
      "text/plain": [
       "<Figure size 1440x288 with 1 Axes>"
      ]
     },
     "metadata": {
      "needs_background": "light"
     },
     "output_type": "display_data"
    }
   ],
   "source": [
    "data_to_plot = [max_CNN, max_MLP, max_LSTM, max_Prophet, max_ETS, max_ARIMA, max_AR, max_Naive]\n",
    "\n",
    "# Create a figure instance\n",
    "fig = plt.figure(1, figsize=(20, 4))\n",
    "\n",
    "# Create an axes instance\n",
    "ax = fig.add_subplot(111)\n",
    "\n",
    "# Create the boxplot\n",
    "bp = ax.boxplot(data_to_plot, patch_artist=True)\n",
    "ax.set_xticklabels(['CNN', 'MLP', 'LSTM', 'Prophet', 'ETS', 'ARIMA', 'AR', 'Naive'], fontsize=18)\n",
    "ax.set_ylabel('MAXAE', fontsize=18) \n",
    "\n",
    "# Save the figure\n",
    "fig.savefig('ConfrontoMetodi.jpeg', bbox_inches='tight')"
   ]
  },
  {
   "cell_type": "markdown",
   "metadata": {},
   "source": [
    "### RMSE for 24 steps forecast."
   ]
  },
  {
   "cell_type": "code",
   "execution_count": 13,
   "metadata": {},
   "outputs": [],
   "source": [
    "rmse24_Prophet = pd.read_csv('Data/Prophet/RMSE_error_data_4_Prophet_with_STL_Decomposition_24.csv', header=None)\n",
    "rmse24_Prophet.columns = ['rmse']\n",
    "rmse24_Prophet = rmse24_Prophet.dropna()\n",
    "\n",
    "rmse24_MLP = pd.read_csv('Data/MLP/RMSE_error_data_4_MLP_with_STL_Decomposition_in24.csv',  header=None)\n",
    "rmse24_MLP.columns = ['rmse']\n",
    "rmse24_MLP = rmse24_MLP.dropna()\n",
    "\n",
    "rmse24_LSTM = pd.read_csv('Data/LSTM/RMSE_error_data_4_LSTM_with_STL_Decomposition_24.csv', header=None)\n",
    "rmse24_LSTM.columns = ['rmse']\n",
    "rmse24_LSTM = rmse24_LSTM.dropna()\n",
    "\n",
    "rmse24_CNN = pd.read_csv('Data/CNN/RMSE_error_data_4_CNN_with_STL_Decomposition_in24.csv',  header=None)\n",
    "rmse24_CNN.columns = ['rmse']\n",
    "rmse24_CNN = rmse24_CNN.dropna()\n",
    "\n",
    "rmse24_ARIMA = pd.read_csv('Data/ARIMA/RMSE_error_data_4_ARIMA_MultistepForcast_24_V2.csv', header=None)\n",
    "rmse24_ARIMA.columns = ['rmse']\n",
    "rmse24_ARIMA = rmse24_ARIMA.dropna()\n",
    "\n",
    "rmse24_ETS = pd.read_csv('Data/ETS/RMSE_error_data_4_ETS_MultistepForcast_24_v2.csv', header=None)\n",
    "rmse24_ETS.columns = ['rmse']\n",
    "rmse24_ETS = rmse24_ETS.dropna()\n",
    "\n",
    "rmse24_AR = pd.read_csv('Data/AR/RMSE_error_data_4_Autoregression_24_StepForecast.csv',  header=None)\n",
    "rmse24_AR.columns = ['rmse']\n",
    "rmse24_AR = rmse24_AR.dropna()\n",
    "\n",
    "rmse24_Naive = pd.read_csv('Data/Naive/RMSE_error_data_4_Naive_DayHourAveragePrediction.csv',  header=None)\n",
    "rmse24_Naive.columns = ['rmse']\n",
    "rmse24_Naive = rmse24_Naive.dropna()"
   ]
  },
  {
   "cell_type": "code",
   "execution_count": 14,
   "metadata": {},
   "outputs": [],
   "source": [
    "prophet_list = []\n",
    "for i, k in rmse24_Prophet.iterrows():\n",
    "    #print(i, k['rmse'])\n",
    "    s = k['rmse'].split(':')[1]\n",
    "    rmse = float(s)\n",
    "    prophet_list.append(rmse)\n",
    "    \n",
    "ar_list = []\n",
    "for i, k in rmse24_AR.iterrows():\n",
    "    #print(i, k['rmse'])\n",
    "    s = k['rmse'].split(':')[1]\n",
    "    rmse = float(s)\n",
    "    ar_list.append(rmse)\n",
    "    \n",
    "ETS_list = []\n",
    "for i, k in rmse24_ETS.iterrows():\n",
    "    #print(i, k['rmse'])\n",
    "    s = k['rmse'].split(':')[1]\n",
    "    rmse = float(s)\n",
    "    ETS_list.append(rmse)\n",
    "    \n",
    "ARIMA_list = []\n",
    "for i, k in rmse24_ARIMA.iterrows():\n",
    "    #print(i, k['rmse'])\n",
    "    s = k['rmse'].split(':')[1]\n",
    "    rmse = float(s)\n",
    "    ARIMA_list.append(rmse)\n",
    "    \n",
    "MLP_list = []\n",
    "for i, k in rmse24_MLP.iterrows():\n",
    "    #print(i, k['rmse'])\n",
    "    s = k['rmse'].split(':')[1]\n",
    "    rmse = float(s)\n",
    "    MLP_list.append(rmse)\n",
    "    \n",
    "CNN_list = []\n",
    "for i, k in rmse24_CNN.iterrows():\n",
    "    #print(i, k['rmse'])    \n",
    "    s = k['rmse'].split(':')[1]\n",
    "    rmse = float(s)\n",
    "    CNN_list.append(rmse)\n",
    "    \n",
    "LSTM_list = []\n",
    "for i, k in rmse24_LSTM.iterrows():\n",
    "    #print(i, k['rmse'])    \n",
    "    s = k['rmse'].split(':')[1]\n",
    "    rmse = float(s)\n",
    "    LSTM_list.append(rmse)\n",
    "    \n",
    "Naive_list = []\n",
    "for i, k in rmse24_Naive.iterrows():\n",
    "    #print(i, k['rmse']) \n",
    "    s = k['rmse'].split(':')[1]\n",
    "    rmse = float(s)\n",
    "    Naive_list.append(rmse)\n",
    "    "
   ]
  },
  {
   "cell_type": "markdown",
   "metadata": {},
   "source": [
    "### RMSE Stats"
   ]
  },
  {
   "cell_type": "code",
   "execution_count": 15,
   "metadata": {},
   "outputs": [
    {
     "name": "stdout",
     "output_type": "stream",
     "text": [
      "CNN     20.5 26.7\n",
      "MLP     21.5 27.4\n",
      "LSTM    66.5 122.6\n",
      "ETS     48.6 61.7\n",
      "Prophet 78.8 108.5\n",
      "AR      36.9 49.6\n",
      "Naive   17.7 20.7\n",
      "ARIMA   13.9 15.9\n"
     ]
    }
   ],
   "source": [
    "CNN_list = np.array(CNN_list)    \n",
    "MLP_list = np.array(MLP_list)\n",
    "LSTM_list = np.array(LSTM_list)\n",
    "ETS_list = np.array(ETS_list)\n",
    "prophet_list = np.array(prophet_list)\n",
    "AR_list = np.array(ar_list)\n",
    "ARIMA_list = np.array(ARIMA_list)\n",
    "Naive_list = np.array(Naive_list)\n",
    "\n",
    "print('CNN    ',round(np.mean(CNN_list),1), round(np.std(CNN_list),1))\n",
    "print('MLP    ',round(np.mean(MLP_list),1), round(np.std(MLP_list),1))\n",
    "print('LSTM   ',round(np.mean(LSTM_list),1), round(np.std(LSTM_list),1))\n",
    "print('ETS    ',round(np.mean(ETS_list),1), round(np.std(ETS_list),1))\n",
    "print('Prophet',round(np.mean(prophet_list),1), round(np.std(prophet_list),1))\n",
    "print('AR     ',round(np.mean(ar_list),1), round(np.std(ar_list),1))\n",
    "print('Naive  ',round(np.mean(Naive_list),1), round(np.std(Naive_list),1))\n",
    "print('ARIMA  ',round(np.mean(ARIMA_list),1), round(np.std(ARIMA_list),1))\n",
    "\n"
   ]
  },
  {
   "cell_type": "code",
   "execution_count": 16,
   "metadata": {},
   "outputs": [
    {
     "data": {
      "image/png": "[encoded data removed]",
      "text/plain": [
       "<Figure size 1440x288 with 1 Axes>"
      ]
     },
     "metadata": {
      "needs_background": "light"
     },
     "output_type": "display_data"
    }
   ],
   "source": [
    "data_to_plot = [CNN_list, MLP_list, LSTM_list, prophet_list, ETS_list, ARIMA_list, ar_list, Naive_list]\n",
    "\n",
    "# Create a figure instance\n",
    "fig = plt.figure(1, figsize=(20, 4))\n",
    "\n",
    "# Create an axes instance\n",
    "ax = fig.add_subplot(111)\n",
    "\n",
    "# Create the boxplot\n",
    "bp = ax.boxplot(data_to_plot, patch_artist=True)\n",
    "ax.set_xticklabels(['CNN', 'MLP', 'LSTM', 'Prophet', 'ETS', 'ARIMA', 'AR', 'Naive'], fontsize=18)\n",
    "ax.set_ylabel('RMSE', fontsize=18) \n",
    "\n",
    "# Save the figure\n",
    "fig.savefig('ConfrontoMetodiRMSE.jpeg', bbox_inches='tight')"
   ]
  },
  {
   "cell_type": "markdown",
   "metadata": {},
   "source": [
    "### MAPE error for 24 steps"
   ]
  },
  {
   "cell_type": "code",
   "execution_count": 17,
   "metadata": {},
   "outputs": [],
   "source": [
    "mape24_Prophet = pd.read_csv('Data/Prophet/MAPE_error_data_4_Prophet_with_STL_Decomposition_24.csv', header=None)\n",
    "mape24_Prophet.columns = ['mape']\n",
    "\n",
    "mape24_MLP = pd.read_csv('Data/MLP/MAPE_error_data_4_MLP_with_STL_Decomposition_in24.csv',  header=None)\n",
    "mape24_MLP.columns = ['mape']\n",
    "\n",
    "mape24_LSTM = pd.read_csv('Data/LSTM/MAPE_error_data_4_LSTM_with_STL_Decomposition_24.csv', header=None)\n",
    "mape24_LSTM.columns = ['mape']\n",
    "\n",
    "mape24_CNN = pd.read_csv('Data/CNN/MAPE_error_data_4_CNN_with_STL_Decomposition_in24.csv',  header=None)\n",
    "mape24_CNN.columns = ['mape']\n",
    "\n",
    "mape24_ARIMA = pd.read_csv('Data/ARIMA/MAPE_error_data_4_ARIMA_MultistepForcast_24_V2.csv', header=None)\n",
    "mape24_ARIMA.columns = ['mape']\n",
    "\n",
    "mape24_ETS = pd.read_csv('Data/ETS/MAPE_error_data_4_ETS_MultistepForcast_24_v2.csv', header=None)\n",
    "mape24_ETS.columns = ['mape']\n",
    "\n",
    "mape24_AR = pd.read_csv('Data/AR/MAPE_error_data_4_Autoregression_24_StepForecast.csv',  header=None)\n",
    "mape24_AR.columns = ['mape']\n",
    "\n",
    "mape24_Naive = pd.read_csv('Data/Naive/MAPE_error_data_4_Naive_DayHourAveragePrediction.csv',  header=None)\n",
    "mape24_Naive.columns = ['mape']"
   ]
  },
  {
   "cell_type": "code",
   "execution_count": 18,
   "metadata": {},
   "outputs": [],
   "source": [
    "prophet_mape = []\n",
    "for i, k in mape24_Prophet.iterrows():\n",
    "    #print(i, k['rmse'])\n",
    "    s = k['mape'].split(':')[1]\n",
    "    mape = float(s)\n",
    "    prophet_mape.append(mape)\n",
    "    \n",
    "ar_mape = []\n",
    "for i, k in mape24_AR.iterrows():\n",
    "    #print(i, k['rmse'])\n",
    "    s = k['mape'].split(':')[1]\n",
    "    mape = float(s)\n",
    "    ar_mape.append(mape)\n",
    "    \n",
    "ETS_mape = []\n",
    "for i, k in mape24_ETS.iterrows():\n",
    "    #print(i, k['rmse'])\n",
    "    s = k['mape'].split(':')[1]\n",
    "    mape = float(s)\n",
    "    ETS_mape.append(mape)\n",
    "    \n",
    "ARIMA_mape = []\n",
    "for i, k in mape24_ARIMA.iterrows():\n",
    "    #print(i, k['rmse'])\n",
    "    s = k['mape'].split(':')[1]\n",
    "    mape = float(s)\n",
    "    ARIMA_mape.append(mape)\n",
    "    \n",
    "MLP_mape = []\n",
    "for i, k in mape24_MLP.iterrows():\n",
    "    #print(i, k['rmse'])\n",
    "    s = k['mape'].split(':')[1]\n",
    "    mape = float(s)\n",
    "    MLP_mape.append(mape)\n",
    "    \n",
    "CNN_mape = []\n",
    "for i, k in mape24_CNN.iterrows():\n",
    "    #print(i, k['rmse'])    \n",
    "    s = k['mape'].split(':')[1]\n",
    "    mape = float(s)\n",
    "    CNN_mape.append(mape)\n",
    "    \n",
    "LSTM_mape = []\n",
    "for i, k in mape24_LSTM.iterrows():\n",
    "    #print(i, k['rmse'])    \n",
    "    s = k['mape'].split(':')[1]\n",
    "    mape = float(s)\n",
    "    LSTM_mape.append(mape)\n",
    "    \n",
    "Naive_mape = []\n",
    "for i, k in mape24_Naive.iterrows():\n",
    "    #print(i, k['rmse']) \n",
    "    s = k['mape'].split(':')[1]\n",
    "    mape = float(s)\n",
    "    Naive_mape.append(mape)\n"
   ]
  },
  {
   "cell_type": "markdown",
   "metadata": {},
   "source": [
    "### MAPE Stats"
   ]
  },
  {
   "cell_type": "code",
   "execution_count": 19,
   "metadata": {},
   "outputs": [
    {
     "name": "stdout",
     "output_type": "stream",
     "text": [
      "CNN     12.0 9.1\n",
      "MLP     11.6 7.4\n",
      "LSTM    32.3 41.6\n",
      "ETS     28.8 9.2\n",
      "Prophet 7.7 4.8\n",
      "AR      19.7 10.3\n",
      "Naive   9.0 2.4\n",
      "ARIMA   7.4 1.8\n"
     ]
    }
   ],
   "source": [
    "CNN_mape = np.array(CNN_mape)    \n",
    "MLP_mape = np.array(MLP_mape)\n",
    "LSTM_mape = np.array(LSTM_mape)\n",
    "ETS_mape = np.array(ETS_mape)\n",
    "prophet_mape = np.array(prophet_mape)\n",
    "AR_mape = np.array(ar_mape)\n",
    "ARIMA_mape = np.array(ARIMA_mape)\n",
    "Naive_mape = np.array(Naive_mape)\n",
    "\n",
    "print('CNN    ',round(np.mean(CNN_mape),1), round(np.std(CNN_mape),1))\n",
    "print('MLP    ',round(np.mean(MLP_mape),1), round(np.std(MLP_mape),1))\n",
    "print('LSTM   ',round(np.mean(LSTM_mape),1), round(np.std(LSTM_mape),1))\n",
    "print('ETS    ',round(np.mean(ETS_mape), 1), round(np.std(ETS_mape),1))\n",
    "print('Prophet',round(np.mean(prophet_mape),1), round(np.std(prophet_mape),1))\n",
    "print('AR     ',round(np.mean(AR_mape),1), round(np.std(AR_mape),1))\n",
    "print('Naive  ',round(np.mean(Naive_mape),1), round(np.std(Naive_mape),1))\n",
    "print('ARIMA  ',round(np.mean(ARIMA_mape),1), round(np.std(ARIMA_mape),1))"
   ]
  },
  {
   "cell_type": "code",
   "execution_count": 20,
   "metadata": {},
   "outputs": [
    {
     "data": {
      "image/png": "[encoded data removed]",
      "text/plain": [
       "<Figure size 1440x288 with 1 Axes>"
      ]
     },
     "metadata": {
      "needs_background": "light"
     },
     "output_type": "display_data"
    }
   ],
   "source": [
    "mape_data_to_plot = [CNN_mape, MLP_mape, LSTM_mape, prophet_mape, ETS_mape, ARIMA_mape, ar_mape, Naive_mape]\n",
    "\n",
    "# Create a figure instance\n",
    "fig = plt.figure(1, figsize=(20, 4))\n",
    "\n",
    "# Create an axes instance\n",
    "ax = fig.add_subplot(111)\n",
    "\n",
    "# Create the boxplot\n",
    "bp = ax.boxplot(mape_data_to_plot, patch_artist=True)\n",
    "ax.set_xticklabels(['CNN', 'MLP', 'LSTM', 'Prophet', 'ETS', 'ARIMA', 'AR', 'Naive'], fontsize=18)\n",
    "ax.set_ylabel('MAPE', fontsize=18) \n",
    "\n",
    "# Save the figure\n",
    "fig.savefig('ConfrontoMetodiMAPE.jpeg', bbox_inches='tight')"
   ]
  },
  {
   "cell_type": "markdown",
   "metadata": {},
   "source": [
    "### Confronto a 48 step"
   ]
  },
  {
   "cell_type": "code",
   "execution_count": 21,
   "metadata": {},
   "outputs": [],
   "source": [
    "data48_Prophet = pd.read_csv('Data/Prophet/MAE_error_data_4_Prophet_with_STL_Decomposition_48.csv', names=colnames, header=None)\n",
    "\n",
    "data48_MLP = pd.read_csv('Data/MLP/MAE_error_data_4_MLP_with_STL_Decomposition_in48.csv', names=colnames, header=None)\n",
    "\n",
    "data48_LSTM = pd.read_csv('Data/LSTM/MAE_error_data_4_LSTM_with_STL_Decomposition_48.csv', names=colnames, header=None)\n",
    "\n",
    "data48_CNN = pd.read_csv('Data/CNN/MAE_error_data_4_CNN_with_STL_Decomposition_in48.csv', names=colnames, header=None)\n",
    "\n",
    "data48_ARIMA = pd.read_csv('Data/ARIMA/MAE_error_data_4_ARIMA_MultistepForcast_48_V2.csv', names=colnames, header=None)\n",
    "\n",
    "data48_ETS = pd.read_csv('Data/ETS/MAE_error_data_4_ETS_MultistepForcast_48_v2.csv', names=colnames, header=None)\n",
    "\n",
    "data48_AR = pd.read_csv('Data/AR/MAE_error_data_4_Autoregression_48_StepForecast.csv', names=colnames, header=None)\n",
    "\n",
    "#data24_Naive = pd.read_csv('Data/Naive/MAE_error_data_4_Naive_DayHourAveragePrediction.csv', names=colnames, header=None)\n"
   ]
  },
  {
   "cell_type": "code",
   "execution_count": 22,
   "metadata": {},
   "outputs": [
    {
     "ename": "NameError",
     "evalue": "name 'mae_CNN' is not defined",
     "output_type": "error",
     "traceback": [
      "\u001b[0;31m---------------------------------------------------------------------------\u001b[0m",
      "\u001b[0;31mNameError\u001b[0m                                 Traceback (most recent call last)",
      "\u001b[0;32m<ipython-input-22-6249d79be53e>\u001b[0m in \u001b[0;36m<module>\u001b[0;34m\u001b[0m\n\u001b[0;32m----> 1\u001b[0;31m \u001b[0mdata_to_plot\u001b[0m \u001b[0;34m=\u001b[0m \u001b[0;34m[\u001b[0m\u001b[0mmae_CNN\u001b[0m\u001b[0;34m,\u001b[0m \u001b[0mmae_MLP\u001b[0m\u001b[0;34m,\u001b[0m \u001b[0mmae_LSTM\u001b[0m\u001b[0;34m,\u001b[0m \u001b[0mmae_Prophet\u001b[0m\u001b[0;34m,\u001b[0m \u001b[0mmae_ETS\u001b[0m\u001b[0;34m,\u001b[0m \u001b[0mmae_ARIMA\u001b[0m\u001b[0;34m,\u001b[0m \u001b[0mmae_AR\u001b[0m\u001b[0;34m,\u001b[0m \u001b[0mmae_Naive\u001b[0m\u001b[0;34m]\u001b[0m\u001b[0;34m\u001b[0m\u001b[0;34m\u001b[0m\u001b[0m\n\u001b[0m\u001b[1;32m      2\u001b[0m \u001b[0;34m\u001b[0m\u001b[0m\n\u001b[1;32m      3\u001b[0m \u001b[0;31m# Create a figure instance\u001b[0m\u001b[0;34m\u001b[0m\u001b[0;34m\u001b[0m\u001b[0;34m\u001b[0m\u001b[0m\n\u001b[1;32m      4\u001b[0m \u001b[0mfig\u001b[0m \u001b[0;34m=\u001b[0m \u001b[0mplt\u001b[0m\u001b[0;34m.\u001b[0m\u001b[0mfigure\u001b[0m\u001b[0;34m(\u001b[0m\u001b[0;36m1\u001b[0m\u001b[0;34m,\u001b[0m \u001b[0mfigsize\u001b[0m\u001b[0;34m=\u001b[0m\u001b[0;34m(\u001b[0m\u001b[0;36m20\u001b[0m\u001b[0;34m,\u001b[0m \u001b[0;36m7\u001b[0m\u001b[0;34m)\u001b[0m\u001b[0;34m)\u001b[0m\u001b[0;34m\u001b[0m\u001b[0;34m\u001b[0m\u001b[0m\n\u001b[1;32m      5\u001b[0m \u001b[0;34m\u001b[0m\u001b[0m\n",
      "\u001b[0;31mNameError\u001b[0m: name 'mae_CNN' is not defined"
     ]
    }
   ],
   "source": [
    "data_to_plot = [mae_CNN, mae_MLP, mae_LSTM, mae_Prophet, mae_ETS, mae_ARIMA, mae_AR, mae_Naive]\n",
    "\n",
    "# Create a figure instance\n",
    "fig = plt.figure(1, figsize=(20, 7))\n",
    "\n",
    "# Create an axes instance\n",
    "ax = fig.add_subplot(111)\n",
    "\n",
    "# Create the boxplot\n",
    "bp = ax.boxplot(data_to_plot, patch_artist=True)\n",
    "ax.set_xticklabels(['CNN', 'MLP', 'LSTM', 'Prophet', 'ETS', 'ARIMA', 'AR', 'Naive'])\n",
    "\n",
    "# Save the figure\n",
    "fig.savefig('ConfrontoMetodi.jpeg', bbox_inches='tight')"
   ]
  },
  {
   "cell_type": "markdown",
   "metadata": {},
   "source": [
    "### Max Errore"
   ]
  },
  {
   "cell_type": "code",
   "execution_count": 23,
   "metadata": {},
   "outputs": [],
   "source": [
    "max_ARIMA = np.array(max_ARIMA).astype(np.float)\n",
    "max_ETS = np.array(max_ETS).astype(np.float)\n",
    "max_ETS = np.nan_to_num(max_ETS) \n",
    "max_ARIMA = np.nan_to_num(max_ARIMA)"
   ]
  },
  {
   "cell_type": "code",
   "execution_count": 24,
   "metadata": {},
   "outputs": [
    {
     "data": {
      "image/png": "[encoded data removed]",
      "text/plain": [
       "<Figure size 1440x504 with 1 Axes>"
      ]
     },
     "metadata": {
      "needs_background": "light"
     },
     "output_type": "display_data"
    }
   ],
   "source": [
    "max_data_to_plot = [max_CNN, max_MLP, max_LSTM, max_Prophet, max_ETS, max_ARIMA, max_AR, max_Naive]\n",
    "\n",
    "# Create a figure instance\n",
    "fig = plt.figure(1, figsize=(20, 7))\n",
    "\n",
    "# Create an axes instance\n",
    "ax = fig.add_subplot(111)\n",
    "\n",
    "# Create the boxplot\n",
    "bp = ax.boxplot(max_data_to_plot, patch_artist=True)\n",
    "ax.set_xticklabels(['Max_CNN', 'Max_MLP', 'Max_LSTM', 'Max_Prophet', 'Max_ETS', 'Max_ARIMA', 'Max_AR', 'Max_Naive'])\n",
    "\n",
    "# Save the figure\n",
    "fig.savefig('ConfrontoMetodiMAX.jpeg', bbox_inches='tight')"
   ]
  },
  {
   "cell_type": "markdown",
   "metadata": {},
   "source": [
    "### Confronto 24 step"
   ]
  },
  {
   "cell_type": "code",
   "execution_count": null,
   "metadata": {},
   "outputs": [],
   "source": []
  },
  {
   "cell_type": "code",
   "execution_count": null,
   "metadata": {},
   "outputs": [],
   "source": []
  },
  {
   "cell_type": "markdown",
   "metadata": {},
   "source": [
    "### Confronto 48 step"
   ]
  },
  {
   "cell_type": "code",
   "execution_count": null,
   "metadata": {},
   "outputs": [],
   "source": []
  },
  {
   "cell_type": "code",
   "execution_count": null,
   "metadata": {},
   "outputs": [],
   "source": []
  }
 ],
 "metadata": {
  "kernelspec": {
   "display_name": "Python 3",
   "language": "python",
   "name": "python3"
  },
  "language_info": {
   "codemirror_mode": {
    "name": "ipython",
    "version": 3
   },
   "file_extension": ".py",
   "mimetype": "text/x-python",
   "name": "python",
   "nbconvert_exporter": "python",
   "pygments_lexer": "ipython3",
   "version": "3.7.4"
  }
 },
 "nbformat": 4,
 "nbformat_minor": 2
}
