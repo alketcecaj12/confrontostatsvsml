{
 "cells": [
  {
   "cell_type": "code",
   "execution_count": 1,
   "metadata": {},
   "outputs": [],
   "source": [
    "import pandas as pd \n",
    "import numpy as np \n",
    "import matplotlib.pyplot as plt"
   ]
  },
  {
   "cell_type": "code",
   "execution_count": 2,
   "metadata": {},
   "outputs": [],
   "source": [
    "colnames = ['min', 'Q1', 'mediana', 'Q3', 'max']\n",
    "\n",
    "# cambiare i percorsi con i propri dati\n",
    "Naive_mae = pd.read_csv('Data/Naive/MAE_error_data_4_Naive_DayHourAveragePrediction.csv', names=colnames, header=None)\n",
    "\n",
    "Naive_mape = pd.read_csv('Data/Naive/MAPE_error_data_4_Naive_DayHourAveragePrediction.csv', header=None)\n",
    "Naive_mape.columns = ['mape']\n",
    "\n",
    "Naive_rmse = pd.read_csv('Data/Naive/RMSE_error_data_4_Naive_DayHourAveragePrediction.csv', header=None)\n",
    "Naive_rmse.columns = ['rmse']\n"
   ]
  },
  {
   "cell_type": "code",
   "execution_count": 4,
   "metadata": {},
   "outputs": [],
   "source": [
    "Naive_max_dist = []\n",
    "for i, row in Naive_mae.iterrows():\n",
    "    max_i= row['max']\n",
    "    max_i = max_i[0:-2]\n",
    "    Naive_max_dist.append(float(max_i))\n",
    "\n",
    "Naive_mape_dist = []\n",
    "for i, riga in Naive_mape.iterrows():\n",
    "    valore = riga['mape'].split(':')[1]\n",
    "    Naive_mape_dist.append(float(valore)) \n",
    "    \n",
    "Naive_rmse_dist = []\n",
    "for i, riga in Naive_rmse.iterrows():\n",
    "    valore = riga['rmse'].split(':')[1]\n",
    "    Naive_rmse_dist.append(float(valore))    "
   ]
  },
  {
   "cell_type": "code",
   "execution_count": 7,
   "metadata": {},
   "outputs": [
    {
     "name": "stdout",
     "output_type": "stream",
     "text": [
      "91.75 132.54\n",
      "9.0 2.42\n",
      "17.7 20.67\n"
     ]
    }
   ],
   "source": [
    "mean_mae_max = np.mean(Naive_max_dist)\n",
    "std_mae_max = np.std(Naive_max_dist)\n",
    "\n",
    "mean_mape = np.mean(Naive_mape_dist)\n",
    "std_mape = np.std(Naive_mape_dist)\n",
    "\n",
    "mean_rmse = np.mean(Naive_rmse_dist)\n",
    "std_rmse = np.std(Naive_rmse_dist)\n",
    "\n",
    "print(round(mean_mae_max, 2), round(std_mae_max,2))\n",
    "print(round(mean_mape,2), round(std_mape,2))\n",
    "print(round(mean_rmse,2), round(std_rmse,2))"
   ]
  },
  {
   "cell_type": "code",
   "execution_count": null,
   "metadata": {},
   "outputs": [],
   "source": []
  },
  {
   "cell_type": "code",
   "execution_count": null,
   "metadata": {},
   "outputs": [],
   "source": []
  },
  {
   "cell_type": "code",
   "execution_count": null,
   "metadata": {},
   "outputs": [],
   "source": []
  },
  {
   "cell_type": "code",
   "execution_count": null,
   "metadata": {},
   "outputs": [],
   "source": []
  },
  {
   "cell_type": "code",
   "execution_count": null,
   "metadata": {},
   "outputs": [],
   "source": []
  },
  {
   "cell_type": "code",
   "execution_count": null,
   "metadata": {},
   "outputs": [],
   "source": []
  },
  {
   "cell_type": "code",
   "execution_count": null,
   "metadata": {},
   "outputs": [],
   "source": []
  },
  {
   "cell_type": "code",
   "execution_count": null,
   "metadata": {},
   "outputs": [],
   "source": []
  }
 ],
 "metadata": {
  "kernelspec": {
   "display_name": "Python 3",
   "language": "python",
   "name": "python3"
  },
  "language_info": {
   "codemirror_mode": {
    "name": "ipython",
    "version": 3
   },
   "file_extension": ".py",
   "mimetype": "text/x-python",
   "name": "python",
   "nbconvert_exporter": "python",
   "pygments_lexer": "ipython3",
   "version": "3.7.4"
  }
 },
 "nbformat": 4,
 "nbformat_minor": 2
}
