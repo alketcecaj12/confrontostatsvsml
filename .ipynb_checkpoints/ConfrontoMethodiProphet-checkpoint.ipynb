{
 "cells": [
  {
   "cell_type": "code",
   "execution_count": null,
   "metadata": {},
   "outputs": [],
   "source": [
    "import pandas as pd \n",
    "import numpy as np \n",
    "import matplotlib.pyplot as plt"
   ]
  },
  {
   "cell_type": "markdown",
   "metadata": {},
   "source": [
    "### RMSE Error"
   ]
  },
  {
   "cell_type": "code",
   "execution_count": null,
   "metadata": {},
   "outputs": [],
   "source": [
    "# cambiare i percorsi con i propri dati\n",
    "data3_Prophet = pd.read_csv('Data/Prophet/RMSE_error_data_4_Prophet_with_STL_Decomposition_3.csv', header=None)\n",
    "data3_Prophet.columns = ['rmse']\n",
    "\n",
    "data6_Prophet = pd.read_csv('Data/Prophet/RMSE_error_data_4_Prophet_with_STL_Decomposition_6.csv', header=None)\n",
    "data6_Prophet.columns = ['rmse']\n",
    "\n",
    "data12_Prophet = pd.read_csv('Data/Prophet/RMSE_error_data_4_Prophet_with_STL_Decomposition_12.csv', header=None)\n",
    "data12_Prophet.columns = ['rmse']\n",
    "\n",
    "data24_Prophet = pd.read_csv('Data/Prophet/RMSE_error_data_4_Prophet_with_STL_Decomposition_24.csv', header=None)\n",
    "data24_Prophet.columns = ['rmse']\n",
    "\n",
    "data48_Prophet = pd.read_csv('Data/Prophet/RMSE_error_data_4_Prophet_with_STL_Decomposition_48.csv', header=None)\n",
    "data48_Prophet.columns = ['rmse']"
   ]
  },
  {
   "cell_type": "code",
   "execution_count": 17,
   "metadata": {},
   "outputs": [],
   "source": [
    "step3 = []\n",
    "for i, riga in data3_Prophet.iterrows():\n",
    "    valore = riga['rmse'].split(':')[1]\n",
    "    step3.append(float(valore))\n",
    "\n",
    "step6 = []\n",
    "for i, riga in data6_Prophet.iterrows():\n",
    "    valore = riga['rmse'].split(':')[1]\n",
    "    step6.append(float(valore))\n",
    "    \n",
    "step12 = []\n",
    "for i, riga in data12_Prophet.iterrows():\n",
    "    valore = riga['rmse'].split(':')[1]\n",
    "    step12.append(float(valore))\n",
    "\n",
    "step24 = []\n",
    "for i, riga in data24_Prophet.iterrows():\n",
    "    valore = riga['rmse'].split(':')[1]\n",
    "    step24.append(float(valore))\n",
    "    \n",
    "step48 = []\n",
    "for i, riga in data48_Prophet.iterrows():\n",
    "    valore = riga['rmse'].split(':')[1]\n",
    "    step48.append(float(valore)) \n",
    "    \n",
    "step6 = np.array(step6)\n",
    "step12 = np.array(step12)\n",
    "step24 = np.array(step24)\n",
    "step48 = np.array(step48)"
   ]
  },
  {
   "cell_type": "markdown",
   "metadata": {},
   "source": [
    "### Stats"
   ]
  },
  {
   "cell_type": "code",
   "execution_count": 18,
   "metadata": {},
   "outputs": [
    {
     "name": "stdout",
     "output_type": "stream",
     "text": [
      "Prophet RMSE mean  31.48 37.0 78.84 57.95\n",
      "Prophet RMSE dev.std  57.25 52.58 108.54 74.53\n",
      "Prophet RMSE max  566.87 441.23 558.77 368.71\n"
     ]
    }
   ],
   "source": [
    "mean6m = np.mean(step6)\n",
    "mean12m = np.mean(step12)\n",
    "mean24m = np.mean(step24)\n",
    "mean48m = np.mean(step48)\n",
    "print('Prophet RMSE mean ', round(mean6m,2) , round(mean12m,2) , round(mean24m,2) , round(mean48m,2))\n",
    "\n",
    "mean6std = np.std(step6)\n",
    "mean12std = np.std(step12)\n",
    "mean24std = np.std(step24)\n",
    "mean48std = np.std(step48)\n",
    "print('Prophet RMSE dev.std ', round(mean6std, 2), round(mean12std,2) , round(mean24std,2) , round(mean48std,2))\n",
    "\n",
    "max6 = np.max(step6)\n",
    "max12 = np.max(step12)\n",
    "max24 = np.max(step24)\n",
    "max48 = np.max(step48)\n",
    "print('Prophet RMSE max ', round(max6,2), round(max12,2) , round(max24,2) , round(max48,2))"
   ]
  },
  {
   "cell_type": "code",
   "execution_count": 19,
   "metadata": {},
   "outputs": [
    {
     "data": {
      "image/png": "[encoded data removed]",
      "text/plain": [
       "<Figure size 1440x360 with 1 Axes>"
      ]
     },
     "metadata": {
      "needs_background": "light"
     },
     "output_type": "display_data"
    }
   ],
   "source": [
    "data_to_plot = [step6, step12, step24, step48]\n",
    "\n",
    "# Create a figure instance\n",
    "fig = plt.figure(1, figsize=(20, 5))\n",
    "\n",
    "# Create an axes instance\n",
    "ax = fig.add_subplot(111)\n",
    "\n",
    "# Create the boxplot\n",
    "bp = ax.boxplot(data_to_plot, patch_artist=True)\n",
    "ax.set_xticklabels(['6 steps', '12 steps', '24 steps', '48 steps'], fontsize=18)\n",
    "ax.set_ylabel('RMSE', fontsize=18) \n",
    "\n",
    "# Save the figure\n",
    "fig.savefig('ConfrontoMetodiMLP.jpeg', bbox_inches='tight')"
   ]
  },
  {
   "cell_type": "markdown",
   "metadata": {},
   "source": [
    "### MAPE Error"
   ]
  },
  {
   "cell_type": "code",
   "execution_count": 20,
   "metadata": {},
   "outputs": [],
   "source": [
    "# cambiare i percorsi con i propri dati\n",
    "data6_Prophet_MAPE = pd.read_csv('Data/Prophet/MAPE_error_data_4_Prophet_with_STL_Decomposition_6.csv', header=None)\n",
    "data6_Prophet_MAPE.columns = ['mape']\n",
    "\n",
    "data12_Prophet_MAPE = pd.read_csv('Data/Prophet/MAPE_error_data_4_Prophet_with_STL_Decomposition_12.csv', header=None)\n",
    "data12_Prophet_MAPE.columns = ['mape']\n",
    "\n",
    "data24_Prophet_MAPE = pd.read_csv('Data/Prophet/MAPE_error_data_4_Prophet_with_STL_Decomposition_24.csv', header=None)\n",
    "data24_Prophet_MAPE.columns = ['mape']\n",
    "\n",
    "data48_Prophet_MAPE = pd.read_csv('Data/Prophet/MAPE_error_data_4_Prophet_with_STL_Decomposition_48.csv', header=None)\n",
    "data48_Prophet_MAPE.columns = ['mape']"
   ]
  },
  {
   "cell_type": "code",
   "execution_count": 21,
   "metadata": {},
   "outputs": [],
   "source": [
    "step6mape = []\n",
    "for i, riga in data6_Prophet_MAPE.iterrows():\n",
    "    valore = riga['mape'].split(':')[1]\n",
    "    step6mape.append(float(valore))\n",
    "    \n",
    "step12mape = []\n",
    "for i, riga in data12_Prophet_MAPE.iterrows():\n",
    "    valore = riga['mape'].split(':')[1]\n",
    "    step12mape.append(float(valore))\n",
    "\n",
    "step24mape = []\n",
    "for i, riga in data24_Prophet_MAPE.iterrows():\n",
    "    valore = riga['mape'].split(':')[1]\n",
    "    step24mape.append(float(valore))\n",
    "    \n",
    "step48mape = []\n",
    "for i, riga in data48_Prophet_MAPE.iterrows():\n",
    "    valore = riga['mape'].split(':')[1]\n",
    "    step48mape.append(float(valore)) \n",
    "    \n",
    "step6mape = np.array(step6mape)\n",
    "step12mape = np.array(step12mape)\n",
    "step24mape = np.array(step24mape)\n",
    "step48mape = np.array(step48mape)"
   ]
  },
  {
   "cell_type": "code",
   "execution_count": 22,
   "metadata": {},
   "outputs": [
    {
     "name": "stdout",
     "output_type": "stream",
     "text": [
      "Prophet MAPE mean 3.87 3.69 7.74 5.8\n",
      "Prophet MAPE dev.std 1.67 1.57 4.8 2.64\n",
      "Prophet MAPE max  8.9 6.6 23.11 15.04\n"
     ]
    }
   ],
   "source": [
    "mean6m = np.mean(step6mape)\n",
    "mean12m = np.mean(step12mape)\n",
    "mean24m = np.mean(step24mape)\n",
    "mean48m = np.mean(step48mape)\n",
    "print('Prophet MAPE mean', round(mean6m,2), round(mean12m,2), round(mean24m,2) , round(mean48m,2))\n",
    "\n",
    "mean6std = np.std(step6mape)\n",
    "mean12std = np.std(step12mape)\n",
    "mean24std = np.std(step24mape)\n",
    "mean48std = np.std(step48mape)\n",
    "print('Prophet MAPE dev.std', round(mean6std,2), round(mean12std,2),round(mean24std,2), round(mean48std,2))\n",
    "\n",
    "max6 = np.max(step6mape)\n",
    "max12 = np.max(step12mape)\n",
    "max24 = np.max(step24mape)\n",
    "max48 = np.max(step48mape)\n",
    "print('Prophet MAPE max ', round(max6,2) , round(max12,2), round(max24,2), round(max48,2))"
   ]
  },
  {
   "cell_type": "code",
   "execution_count": 23,
   "metadata": {},
   "outputs": [
    {
     "data": {
      "image/png": "[encoded data removed]",
      "text/plain": [
       "<Figure size 1440x360 with 1 Axes>"
      ]
     },
     "metadata": {
      "needs_background": "light"
     },
     "output_type": "display_data"
    }
   ],
   "source": [
    "data_to_plot = [step6mape, step12mape, step24mape, step48mape]\n",
    "\n",
    "# Create a figure instance\n",
    "fig = plt.figure(1, figsize=(20, 5))\n",
    "\n",
    "# Create an axes instance\n",
    "ax = fig.add_subplot(111)\n",
    "\n",
    "# Create the boxplot\n",
    "bp = ax.boxplot(data_to_plot, patch_artist=True)\n",
    "ax.set_xticklabels(['6 steps', '12 steps', '24 steps', '48 steps'], fontsize=18)\n",
    "ax.set_ylabel('MAPE', fontsize=18) \n",
    "\n",
    "# Save the figure\n",
    "fig.savefig('ConfrontoMetodiMLP.jpeg', bbox_inches='tight')"
   ]
  },
  {
   "cell_type": "markdown",
   "metadata": {},
   "source": [
    "### MAXAE "
   ]
  },
  {
   "cell_type": "code",
   "execution_count": 24,
   "metadata": {},
   "outputs": [],
   "source": [
    "colnames = ['min', 'Q1', 'mediana', 'Q3', 'max']\n",
    "\n",
    "# cambiare i percorsi con i propri dati\n",
    "data6_Prophet_max = pd.read_csv('Data/Prophet/MAE_error_data_4_Prophet_with_STL_Decomposition_6.csv', names=colnames, header=None)\n",
    "\n",
    "data12_Prophet_max = pd.read_csv('Data/Prophet/MAE_error_data_4_Prophet_with_STL_Decomposition_12.csv', names=colnames, header=None)\n",
    "\n",
    "data24_Prophet_max = pd.read_csv('Data/Prophet/MAE_error_data_4_Prophet_with_STL_Decomposition_24.csv', names=colnames, header=None)\n",
    "\n",
    "data48_Prophet_max = pd.read_csv('Data/Prophet/MAE_error_data_4_Prophet_with_STL_Decomposition_48.csv', names=colnames, header=None)\n"
   ]
  },
  {
   "cell_type": "code",
   "execution_count": 25,
   "metadata": {},
   "outputs": [],
   "source": [
    "max6_Prophet_max = []\n",
    "for i, row in data6_Prophet_max.iterrows():\n",
    "    max_i= row['max']\n",
    "    max_i = max_i[0:-2]\n",
    "    max6_Prophet_max.append(float(max_i))\n",
    "    \n",
    "max12_Prophet_max = []\n",
    "for i, row in data12_Prophet_max.iterrows():\n",
    "    max_i= row['max']\n",
    "    max_i = max_i[0:-2]\n",
    "    max12_Prophet_max.append(float(max_i))\n",
    "\n",
    "max24_Prophet_max = []\n",
    "for i, row in data24_Prophet_max.iterrows():\n",
    "    max_i= row['max']\n",
    "    max_i = max_i[0:-1]\n",
    "    max24_Prophet_max.append(float(max_i))\n",
    "    \n",
    "max48_Prophet_max = []\n",
    "for i, row in data48_Prophet_max.iterrows():\n",
    "    max_i= row['max']\n",
    "    max_i = max_i[0:-1]\n",
    "    max48_Prophet_max.append(float(max_i))"
   ]
  },
  {
   "cell_type": "code",
   "execution_count": 26,
   "metadata": {},
   "outputs": [
    {
     "name": "stdout",
     "output_type": "stream",
     "text": [
      "Prophet MAXAE mean 43.52 63.57 134.56 122.25\n",
      "Prophet MAXAE mean 69.54 82.51 173.22 154.54\n",
      "Prophet MAXAE mean 638.88 663.52 898.23 908.42\n"
     ]
    }
   ],
   "source": [
    "mean6m = np.mean(max6_Prophet_max)\n",
    "mean12m = np.mean(max12_Prophet_max)\n",
    "mean24m = np.mean(max24_Prophet_max)\n",
    "mean48m = np.mean(max48_Prophet_max)\n",
    "print('Prophet MAXAE mean', round(mean6m,2), round(mean12m,2), round(mean24m,2), round(mean48m,2))\n",
    "\n",
    "mean6std = np.std(max6_Prophet_max)\n",
    "mean12std = np.std(max12_Prophet_max)\n",
    "mean24std = np.std(max24_Prophet_max)\n",
    "mean48std = np.std(max48_Prophet_max)\n",
    "print('Prophet MAXAE mean', round(mean6std,2), round(mean12std,2), round(mean24std,2), round(mean48std,2))\n",
    "\n",
    "max6 = np.max(max6_Prophet_max)\n",
    "max12 = np.max(max12_Prophet_max)\n",
    "max24 = np.max(max24_Prophet_max)\n",
    "max48 = np.max(max48_Prophet_max)\n",
    "print('Prophet MAXAE mean', round(max6,2),round( max12,2), round( max24,2), round( max48,2))"
   ]
  },
  {
   "cell_type": "code",
   "execution_count": 27,
   "metadata": {},
   "outputs": [
    {
     "data": {
      "image/png": "[encoded data removed]",
      "text/plain": [
       "<Figure size 1440x360 with 1 Axes>"
      ]
     },
     "metadata": {
      "needs_background": "light"
     },
     "output_type": "display_data"
    }
   ],
   "source": [
    "max_data_to_plot = [max6_Prophet_max, max12_Prophet_max, max24_Prophet_max, max48_Prophet_max]\n",
    "\n",
    "# Create a figure instance\n",
    "fig = plt.figure(1, figsize=(20, 5))\n",
    "\n",
    "# Create an axes instance\n",
    "ax = fig.add_subplot(111)\n",
    "\n",
    "# Create the boxplot\n",
    "bp = ax.boxplot(data_to_plot, patch_artist=True)\n",
    "ax.set_xticklabels(['6 steps', '12 steps', '24 steps', '48 steps'], fontsize=18)\n",
    "ax.set_ylabel('RMSE', fontsize=18) \n",
    "\n",
    "# Save the figure\n",
    "fig.savefig('ConfrontoMetodiMLP.jpeg', bbox_inches='tight')"
   ]
  },
  {
   "cell_type": "code",
   "execution_count": null,
   "metadata": {},
   "outputs": [],
   "source": []
  },
  {
   "cell_type": "code",
   "execution_count": null,
   "metadata": {},
   "outputs": [],
   "source": []
  },
  {
   "cell_type": "code",
   "execution_count": null,
   "metadata": {},
   "outputs": [],
   "source": []
  },
  {
   "cell_type": "code",
   "execution_count": null,
   "metadata": {},
   "outputs": [],
   "source": []
  },
  {
   "cell_type": "code",
   "execution_count": null,
   "metadata": {},
   "outputs": [],
   "source": []
  },
  {
   "cell_type": "code",
   "execution_count": null,
   "metadata": {},
   "outputs": [],
   "source": []
  },
  {
   "cell_type": "code",
   "execution_count": null,
   "metadata": {},
   "outputs": [],
   "source": []
  },
  {
   "cell_type": "code",
   "execution_count": null,
   "metadata": {},
   "outputs": [],
   "source": []
  },
  {
   "cell_type": "code",
   "execution_count": null,
   "metadata": {},
   "outputs": [],
   "source": []
  },
  {
   "cell_type": "code",
   "execution_count": null,
   "metadata": {},
   "outputs": [],
   "source": []
  }
 ],
 "metadata": {
  "kernelspec": {
   "display_name": "Python 3",
   "language": "python",
   "name": "python3"
  },
  "language_info": {
   "codemirror_mode": {
    "name": "ipython",
    "version": 3
   },
   "file_extension": ".py",
   "mimetype": "text/x-python",
   "name": "python",
   "nbconvert_exporter": "python",
   "pygments_lexer": "ipython3",
   "version": "3.7.4"
  }
 },
 "nbformat": 4,
 "nbformat_minor": 2
}
