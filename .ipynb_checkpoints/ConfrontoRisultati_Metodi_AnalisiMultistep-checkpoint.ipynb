{
 "cells": [
  {
   "cell_type": "code",
   "execution_count": 1,
   "metadata": {},
   "outputs": [],
   "source": [
    "import pandas as pd\n",
    "import numpy as np\n",
    "import matplotlib.pyplot as plt  "
   ]
  },
  {
   "cell_type": "markdown",
   "metadata": {},
   "source": [
    "### Confronto 6 step"
   ]
  },
  {
   "cell_type": "code",
   "execution_count": 28,
   "metadata": {},
   "outputs": [],
   "source": [
    "colnames = ['min', 'Q1', 'mediana', 'Q3', 'max']\n",
    "\n",
    "# cambiare i percorsi con i propri dati\n",
    "data6_Prophet = pd.read_csv('Data/Prophet/MAE_error_data_4_Prophet_with_STL_Decomposition_6.csv', names=colnames, header=None)\n",
    "\n",
    "data6_MLP = pd.read_csv('Data/MLP/MAE_error_data_4_MLP_with_STL_Decomposition_in6.csv', names=colnames, header=None)\n",
    "\n",
    "data6_LSTM = pd.read_csv('Data/LSTM/MAE_error_data_4_LSTM_with_STL_Decomposition_6.csv', names=colnames, header=None)\n",
    "\n",
    "data6_CNN = pd.read_csv('Data/CNN/MAE_error_data_4_CNN_with_STL_Decomposition_in6.csv', names=colnames, header=None)\n",
    "\n",
    "data6_ARIMA = pd.read_csv('Data/ARIMA/MAE_error_data_4_ARIMA_MultistepForcast_6.csv', names=colnames, header=None)\n",
    "\n",
    "data6_ETS = pd.read_csv('Data/ETS/MAE_error_data_4_ETS_MultistepForcast_6.csv', names=colnames, header=None)\n",
    "\n",
    "data6_AR = pd.read_csv('Data/AR/MAE_error_data_4_Autoregression_6_StepForecast.csv', names=colnames, header=None)\n",
    "\n",
    "data6_Naive = pd.read_csv('Data/Naive/MAE_error_data_4_Naive_DayHourAveragePrediction.csv', names=colnames, header=None)\n"
   ]
  },
  {
   "cell_type": "code",
   "execution_count": 29,
   "metadata": {},
   "outputs": [],
   "source": [
    "max6_AR = []\n",
    "for i, row in data6_AR.iterrows():\n",
    "    max_i= row['max']\n",
    "    max_i = max_i[0:-2]\n",
    "    max6_AR.append(float(max_i))\n",
    "\n",
    "    \n",
    "max6_Prophet = []\n",
    "for i, row in data6_Prophet.iterrows():\n",
    "    max_i= row['max']\n",
    "    max_i = max_i[0:-2]\n",
    "    max6_Prophet.append(float(max_i))\n",
    "\n",
    "max6_MLP = []\n",
    "for i, row in data6_MLP.iterrows():\n",
    "    max_i= row['max']\n",
    "    max_i = max_i[0:-1]\n",
    "    max6_MLP.append(float(max_i))\n",
    "    \n",
    "max6_CNN = []\n",
    "for i, row in data6_CNN.iterrows():\n",
    "    max_i= row['max']\n",
    "    max_i = max_i[0:-1]\n",
    "    max6_CNN.append(float(max_i)) \n",
    "    \n",
    "max6_LSTM = []\n",
    "for i, row in data6_LSTM.iterrows():\n",
    "    max_i= row['max']\n",
    "    max_i = max_i[0:-1]\n",
    "    max6_LSTM.append(float(max_i)) \n",
    "    \n",
    "max6_ARIMA = []\n",
    "for i, row in data6_ARIMA.iterrows():\n",
    "    max_i= row['max']\n",
    "    max_i = max_i[0:-1]\n",
    "    max6_ARIMA.append(float(max_i)) \n",
    "    \n",
    "max6_ETS = []\n",
    "for i, row in data6_ETS.iterrows():\n",
    "    max_i= row['max']\n",
    "    max_i = max_i[0:-1]\n",
    "    max6_ETS.append(float(max_i))  \n",
    "    \n",
    "max6_Naive = []\n",
    "for i, row in data6_Naive.iterrows():\n",
    "    max_i= row['max']\n",
    "    max_i = max_i[0:-1]\n",
    "    max6_Naive.append(float(max_i))    \n",
    "\n",
    "max6_CNN = np.array(max6_CNN)    \n",
    "max6_MLP = np.array(max6_MLP)\n",
    "max6_LSTM = np.array(max6_LSTM)\n",
    "max6_ETS = np.array(max6_ETS)\n",
    "max6_Prophet = np.array(max6_Prophet)\n",
    "max6_AR = np.array(max6_AR)\n",
    "max6_ARIMA = np.array(max6_ARIMA)"
   ]
  },
  {
   "cell_type": "code",
   "execution_count": 30,
   "metadata": {},
   "outputs": [
    {
     "data": {
      "image/png": "[encoded data removed]",
      "text/plain": [
       "<Figure size 1440x360 with 1 Axes>"
      ]
     },
     "metadata": {
      "needs_background": "light"
     },
     "output_type": "display_data"
    }
   ],
   "source": [
    "max6_data_to_plot = [max6_CNN, max6_MLP, max6_LSTM, max6_Prophet, max6_ETS, max6_ARIMA, max6_AR]\n",
    "\n",
    "# Create a figure instance\n",
    "fig = plt.figure(1, figsize=(20, 5))\n",
    "\n",
    "# Create an axes instance\n",
    "ax = fig.add_subplot(111)\n",
    "\n",
    "# Create the boxplot\n",
    "bp = ax.boxplot(max6_data_to_plot, patch_artist=True)\n",
    "ax.set_xticklabels(['CNN', 'MLP', 'LSTM', 'Prophet', 'ETS', 'ARIMA', 'AR'], fontsize=18)\n",
    "ax.set_ylabel('MAXAE', fontsize=18) \n",
    "\n",
    "# Save the figure\n",
    "fig.savefig('ConfrontoMetodiMAXAE_6.jpeg', bbox_inches='tight')"
   ]
  },
  {
   "cell_type": "markdown",
   "metadata": {},
   "source": [
    "### RMSE 6 steps "
   ]
  },
  {
   "cell_type": "code",
   "execution_count": 31,
   "metadata": {},
   "outputs": [
    {
     "ename": "FileNotFoundError",
     "evalue": "[Errno 2] File b'Data/ETS/RMSE_error_data_4_ETS_MultistepForcast_6_v2.csv' does not exist: b'Data/ETS/RMSE_error_data_4_ETS_MultistepForcast_6_v2.csv'",
     "output_type": "error",
     "traceback": [
      "\u001b[0;31m---------------------------------------------------------------------------\u001b[0m",
      "\u001b[0;31mFileNotFoundError\u001b[0m                         Traceback (most recent call last)",
      "\u001b[0;32m<ipython-input-31-5535bf801e96>\u001b[0m in \u001b[0;36m<module>\u001b[0;34m\u001b[0m\n\u001b[1;32m     14\u001b[0m \u001b[0mrmse6_ARIMA\u001b[0m\u001b[0;34m.\u001b[0m\u001b[0mcolumns\u001b[0m \u001b[0;34m=\u001b[0m \u001b[0;34m[\u001b[0m\u001b[0;34m'rmse'\u001b[0m\u001b[0;34m]\u001b[0m\u001b[0;34m\u001b[0m\u001b[0;34m\u001b[0m\u001b[0m\n\u001b[1;32m     15\u001b[0m \u001b[0;34m\u001b[0m\u001b[0m\n\u001b[0;32m---> 16\u001b[0;31m \u001b[0mrmse6_ETS\u001b[0m \u001b[0;34m=\u001b[0m \u001b[0mpd\u001b[0m\u001b[0;34m.\u001b[0m\u001b[0mread_csv\u001b[0m\u001b[0;34m(\u001b[0m\u001b[0;34m'Data/ETS/RMSE_error_data_4_ETS_MultistepForcast_6_v2.csv'\u001b[0m\u001b[0;34m,\u001b[0m \u001b[0mheader\u001b[0m\u001b[0;34m=\u001b[0m\u001b[0;32mNone\u001b[0m\u001b[0;34m)\u001b[0m\u001b[0;34m\u001b[0m\u001b[0;34m\u001b[0m\u001b[0m\n\u001b[0m\u001b[1;32m     17\u001b[0m \u001b[0mrmse6_ETS\u001b[0m\u001b[0;34m.\u001b[0m\u001b[0mcolumns\u001b[0m \u001b[0;34m=\u001b[0m \u001b[0;34m[\u001b[0m\u001b[0;34m'rmse'\u001b[0m\u001b[0;34m]\u001b[0m\u001b[0;34m\u001b[0m\u001b[0;34m\u001b[0m\u001b[0m\n\u001b[1;32m     18\u001b[0m \u001b[0;34m\u001b[0m\u001b[0m\n",
      "\u001b[0;32m~/anaconda3/lib/python3.7/site-packages/pandas/io/parsers.py\u001b[0m in \u001b[0;36mparser_f\u001b[0;34m(filepath_or_buffer, sep, delimiter, header, names, index_col, usecols, squeeze, prefix, mangle_dupe_cols, dtype, engine, converters, true_values, false_values, skipinitialspace, skiprows, skipfooter, nrows, na_values, keep_default_na, na_filter, verbose, skip_blank_lines, parse_dates, infer_datetime_format, keep_date_col, date_parser, dayfirst, cache_dates, iterator, chunksize, compression, thousands, decimal, lineterminator, quotechar, quoting, doublequote, escapechar, comment, encoding, dialect, error_bad_lines, warn_bad_lines, delim_whitespace, low_memory, memory_map, float_precision)\u001b[0m\n\u001b[1;32m    683\u001b[0m         )\n\u001b[1;32m    684\u001b[0m \u001b[0;34m\u001b[0m\u001b[0m\n\u001b[0;32m--> 685\u001b[0;31m         \u001b[0;32mreturn\u001b[0m \u001b[0m_read\u001b[0m\u001b[0;34m(\u001b[0m\u001b[0mfilepath_or_buffer\u001b[0m\u001b[0;34m,\u001b[0m \u001b[0mkwds\u001b[0m\u001b[0;34m)\u001b[0m\u001b[0;34m\u001b[0m\u001b[0;34m\u001b[0m\u001b[0m\n\u001b[0m\u001b[1;32m    686\u001b[0m \u001b[0;34m\u001b[0m\u001b[0m\n\u001b[1;32m    687\u001b[0m     \u001b[0mparser_f\u001b[0m\u001b[0;34m.\u001b[0m\u001b[0m__name__\u001b[0m \u001b[0;34m=\u001b[0m \u001b[0mname\u001b[0m\u001b[0;34m\u001b[0m\u001b[0;34m\u001b[0m\u001b[0m\n",
      "\u001b[0;32m~/anaconda3/lib/python3.7/site-packages/pandas/io/parsers.py\u001b[0m in \u001b[0;36m_read\u001b[0;34m(filepath_or_buffer, kwds)\u001b[0m\n\u001b[1;32m    455\u001b[0m \u001b[0;34m\u001b[0m\u001b[0m\n\u001b[1;32m    456\u001b[0m     \u001b[0;31m# Create the parser.\u001b[0m\u001b[0;34m\u001b[0m\u001b[0;34m\u001b[0m\u001b[0;34m\u001b[0m\u001b[0m\n\u001b[0;32m--> 457\u001b[0;31m     \u001b[0mparser\u001b[0m \u001b[0;34m=\u001b[0m \u001b[0mTextFileReader\u001b[0m\u001b[0;34m(\u001b[0m\u001b[0mfp_or_buf\u001b[0m\u001b[0;34m,\u001b[0m \u001b[0;34m**\u001b[0m\u001b[0mkwds\u001b[0m\u001b[0;34m)\u001b[0m\u001b[0;34m\u001b[0m\u001b[0;34m\u001b[0m\u001b[0m\n\u001b[0m\u001b[1;32m    458\u001b[0m \u001b[0;34m\u001b[0m\u001b[0m\n\u001b[1;32m    459\u001b[0m     \u001b[0;32mif\u001b[0m \u001b[0mchunksize\u001b[0m \u001b[0;32mor\u001b[0m \u001b[0miterator\u001b[0m\u001b[0;34m:\u001b[0m\u001b[0;34m\u001b[0m\u001b[0;34m\u001b[0m\u001b[0m\n",
      "\u001b[0;32m~/anaconda3/lib/python3.7/site-packages/pandas/io/parsers.py\u001b[0m in \u001b[0;36m__init__\u001b[0;34m(self, f, engine, **kwds)\u001b[0m\n\u001b[1;32m    893\u001b[0m             \u001b[0mself\u001b[0m\u001b[0;34m.\u001b[0m\u001b[0moptions\u001b[0m\u001b[0;34m[\u001b[0m\u001b[0;34m\"has_index_names\"\u001b[0m\u001b[0;34m]\u001b[0m \u001b[0;34m=\u001b[0m \u001b[0mkwds\u001b[0m\u001b[0;34m[\u001b[0m\u001b[0;34m\"has_index_names\"\u001b[0m\u001b[0;34m]\u001b[0m\u001b[0;34m\u001b[0m\u001b[0;34m\u001b[0m\u001b[0m\n\u001b[1;32m    894\u001b[0m \u001b[0;34m\u001b[0m\u001b[0m\n\u001b[0;32m--> 895\u001b[0;31m         \u001b[0mself\u001b[0m\u001b[0;34m.\u001b[0m\u001b[0m_make_engine\u001b[0m\u001b[0;34m(\u001b[0m\u001b[0mself\u001b[0m\u001b[0;34m.\u001b[0m\u001b[0mengine\u001b[0m\u001b[0;34m)\u001b[0m\u001b[0;34m\u001b[0m\u001b[0;34m\u001b[0m\u001b[0m\n\u001b[0m\u001b[1;32m    896\u001b[0m \u001b[0;34m\u001b[0m\u001b[0m\n\u001b[1;32m    897\u001b[0m     \u001b[0;32mdef\u001b[0m \u001b[0mclose\u001b[0m\u001b[0;34m(\u001b[0m\u001b[0mself\u001b[0m\u001b[0;34m)\u001b[0m\u001b[0;34m:\u001b[0m\u001b[0;34m\u001b[0m\u001b[0;34m\u001b[0m\u001b[0m\n",
      "\u001b[0;32m~/anaconda3/lib/python3.7/site-packages/pandas/io/parsers.py\u001b[0m in \u001b[0;36m_make_engine\u001b[0;34m(self, engine)\u001b[0m\n\u001b[1;32m   1133\u001b[0m     \u001b[0;32mdef\u001b[0m \u001b[0m_make_engine\u001b[0m\u001b[0;34m(\u001b[0m\u001b[0mself\u001b[0m\u001b[0;34m,\u001b[0m \u001b[0mengine\u001b[0m\u001b[0;34m=\u001b[0m\u001b[0;34m\"c\"\u001b[0m\u001b[0;34m)\u001b[0m\u001b[0;34m:\u001b[0m\u001b[0;34m\u001b[0m\u001b[0;34m\u001b[0m\u001b[0m\n\u001b[1;32m   1134\u001b[0m         \u001b[0;32mif\u001b[0m \u001b[0mengine\u001b[0m \u001b[0;34m==\u001b[0m \u001b[0;34m\"c\"\u001b[0m\u001b[0;34m:\u001b[0m\u001b[0;34m\u001b[0m\u001b[0;34m\u001b[0m\u001b[0m\n\u001b[0;32m-> 1135\u001b[0;31m             \u001b[0mself\u001b[0m\u001b[0;34m.\u001b[0m\u001b[0m_engine\u001b[0m \u001b[0;34m=\u001b[0m \u001b[0mCParserWrapper\u001b[0m\u001b[0;34m(\u001b[0m\u001b[0mself\u001b[0m\u001b[0;34m.\u001b[0m\u001b[0mf\u001b[0m\u001b[0;34m,\u001b[0m \u001b[0;34m**\u001b[0m\u001b[0mself\u001b[0m\u001b[0;34m.\u001b[0m\u001b[0moptions\u001b[0m\u001b[0;34m)\u001b[0m\u001b[0;34m\u001b[0m\u001b[0;34m\u001b[0m\u001b[0m\n\u001b[0m\u001b[1;32m   1136\u001b[0m         \u001b[0;32melse\u001b[0m\u001b[0;34m:\u001b[0m\u001b[0;34m\u001b[0m\u001b[0;34m\u001b[0m\u001b[0m\n\u001b[1;32m   1137\u001b[0m             \u001b[0;32mif\u001b[0m \u001b[0mengine\u001b[0m \u001b[0;34m==\u001b[0m \u001b[0;34m\"python\"\u001b[0m\u001b[0;34m:\u001b[0m\u001b[0;34m\u001b[0m\u001b[0;34m\u001b[0m\u001b[0m\n",
      "\u001b[0;32m~/anaconda3/lib/python3.7/site-packages/pandas/io/parsers.py\u001b[0m in \u001b[0;36m__init__\u001b[0;34m(self, src, **kwds)\u001b[0m\n\u001b[1;32m   1915\u001b[0m         \u001b[0mkwds\u001b[0m\u001b[0;34m[\u001b[0m\u001b[0;34m\"usecols\"\u001b[0m\u001b[0;34m]\u001b[0m \u001b[0;34m=\u001b[0m \u001b[0mself\u001b[0m\u001b[0;34m.\u001b[0m\u001b[0musecols\u001b[0m\u001b[0;34m\u001b[0m\u001b[0;34m\u001b[0m\u001b[0m\n\u001b[1;32m   1916\u001b[0m \u001b[0;34m\u001b[0m\u001b[0m\n\u001b[0;32m-> 1917\u001b[0;31m         \u001b[0mself\u001b[0m\u001b[0;34m.\u001b[0m\u001b[0m_reader\u001b[0m \u001b[0;34m=\u001b[0m \u001b[0mparsers\u001b[0m\u001b[0;34m.\u001b[0m\u001b[0mTextReader\u001b[0m\u001b[0;34m(\u001b[0m\u001b[0msrc\u001b[0m\u001b[0;34m,\u001b[0m \u001b[0;34m**\u001b[0m\u001b[0mkwds\u001b[0m\u001b[0;34m)\u001b[0m\u001b[0;34m\u001b[0m\u001b[0;34m\u001b[0m\u001b[0m\n\u001b[0m\u001b[1;32m   1918\u001b[0m         \u001b[0mself\u001b[0m\u001b[0;34m.\u001b[0m\u001b[0munnamed_cols\u001b[0m \u001b[0;34m=\u001b[0m \u001b[0mself\u001b[0m\u001b[0;34m.\u001b[0m\u001b[0m_reader\u001b[0m\u001b[0;34m.\u001b[0m\u001b[0munnamed_cols\u001b[0m\u001b[0;34m\u001b[0m\u001b[0;34m\u001b[0m\u001b[0m\n\u001b[1;32m   1919\u001b[0m \u001b[0;34m\u001b[0m\u001b[0m\n",
      "\u001b[0;32mpandas/_libs/parsers.pyx\u001b[0m in \u001b[0;36mpandas._libs.parsers.TextReader.__cinit__\u001b[0;34m()\u001b[0m\n",
      "\u001b[0;32mpandas/_libs/parsers.pyx\u001b[0m in \u001b[0;36mpandas._libs.parsers.TextReader._setup_parser_source\u001b[0;34m()\u001b[0m\n",
      "\u001b[0;31mFileNotFoundError\u001b[0m: [Errno 2] File b'Data/ETS/RMSE_error_data_4_ETS_MultistepForcast_6_v2.csv' does not exist: b'Data/ETS/RMSE_error_data_4_ETS_MultistepForcast_6_v2.csv'"
     ]
    }
   ],
   "source": [
    "rmse6_Prophet = pd.read_csv('Data/Prophet/RMSE_error_data_4_Prophet_with_STL_Decomposition_6.csv', header=None)\n",
    "rmse6_Prophet.columns = ['rmse']\n",
    "\n",
    "rmse6_MLP = pd.read_csv('Data/MLP/RMSE_error_data_4_MLP_with_STL_Decomposition_in6.csv',  header=None)\n",
    "rmse6_MLP.columns = ['rmse']\n",
    "\n",
    "rmse6_LSTM = pd.read_csv('Data/LSTM/RMSE_error_data_4_LSTM_with_STL_Decomposition_6.csv', header=None)\n",
    "rmse6_LSTM.columns = ['rmse']\n",
    "\n",
    "rmse6_CNN = pd.read_csv('Data/CNN/RMSE_error_data_4_CNN_with_STL_Decomposition_in6.csv',  header=None)\n",
    "rmse6_CNN.columns = ['rmse']\n",
    "\n",
    "rmse6_ARIMA = pd.read_csv('Data/ARIMA/RMSE_error_data_4_ARIMA_MultistepForcast_6.csv', header=None)\n",
    "rmse6_ARIMA.columns = ['rmse']\n",
    "\n",
    "rmse6_ETS = pd.read_csv('Data/ETS/RMSE_error_data_4_ETS_MultistepForcast_6_v2.csv', header=None)\n",
    "rmse6_ETS.columns = ['rmse']\n",
    "\n",
    "rmse6_AR = pd.read_csv('Data/AR/RMSE_error_data_4_Autoregression_6_StepForecast.csv',  header=None)\n",
    "rmse6_AR.columns = ['rmse']\n",
    "\n",
    "\n"
   ]
  },
  {
   "cell_type": "code",
   "execution_count": 32,
   "metadata": {},
   "outputs": [],
   "source": [
    "prophet6_list = []\n",
    "for i, k in rmse6_Prophet.iterrows():\n",
    "    #print(i, k['rmse'])\n",
    "    s = k['rmse'].split(':')[1]\n",
    "    rmse = float(s)\n",
    "    prophet6_list.append(rmse)\n",
    "    \n",
    "ar6_list = []\n",
    "for i, k in rmse6_AR.iterrows():\n",
    "    #print(i, k['rmse'])\n",
    "    s = k['rmse'].split(':')[1]\n",
    "    rmse = float(s)\n",
    "    ar6_list.append(rmse)\n",
    "    \n",
    "ETS6_list = []\n",
    "for i, k in rmse6_ETS.iterrows():\n",
    "    #print(i, k['rmse'])\n",
    "    s = k['rmse'].split(':')[1]\n",
    "    rmse = float(s)\n",
    "    ETS6_list.append(rmse)\n",
    "    \n",
    "ARIMA6_list = []\n",
    "for i, k in rmse6_ARIMA.iterrows():\n",
    "    #print(i, k['rmse'])\n",
    "    s = k['rmse'].split(':')[1]\n",
    "    rmse = float(s)\n",
    "    ARIMA6_list.append(rmse)\n",
    "    \n",
    "MLP6_list = []\n",
    "for i, k in rmse6_MLP.iterrows():\n",
    "    #print(i, k['rmse'])\n",
    "    s = k['rmse'].split(':')[1]\n",
    "    rmse = float(s)\n",
    "    MLP6_list.append(rmse)\n",
    "    \n",
    "CNN6_list = []\n",
    "for i, k in rmse6_CNN.iterrows():\n",
    "    #print(i, k['rmse'])    \n",
    "    s = k['rmse'].split(':')[1]\n",
    "    rmse = float(s)\n",
    "    CNN6_list.append(rmse)\n",
    "    \n",
    "LSTM6_list = []\n",
    "for i, k in rmse6_LSTM.iterrows():\n",
    "    #print(i, k['rmse'])    \n",
    "    s = k['rmse'].split(':')[1]\n",
    "    rmse = float(s)\n",
    "    LSTM6_list.append(rmse)"
   ]
  },
  {
   "cell_type": "code",
   "execution_count": 33,
   "metadata": {},
   "outputs": [
    {
     "data": {
      "image/png": "[encoded data removed]",
      "text/plain": [
       "<Figure size 1440x360 with 1 Axes>"
      ]
     },
     "metadata": {
      "needs_background": "light"
     },
     "output_type": "display_data"
    }
   ],
   "source": [
    "step6_data_to_plot = [CNN6_list, MLP6_list, LSTM6_list, prophet6_list, ETS6_list, ARIMA6_list, ar6_list]\n",
    "\n",
    "# Create a figure instance\n",
    "fig = plt.figure(1, figsize=(20, 5))\n",
    "\n",
    "# Create an axes instance\n",
    "ax = fig.add_subplot(111)\n",
    "\n",
    "# Create the boxplot\n",
    "bp = ax.boxplot(step6_data_to_plot, patch_artist=True)\n",
    "ax.set_xticklabels(['CNN', 'MLP', 'LSTM', 'Prophet', 'ETS', 'ARIMA', 'AR'], fontsize=18)\n",
    "ax.set_ylabel('MAXAE', fontsize=18) \n",
    "\n",
    "# Save the figure\n",
    "fig.savefig('ConfrontoMetodi.jpeg', bbox_inches='tight')"
   ]
  },
  {
   "cell_type": "code",
   "execution_count": null,
   "metadata": {},
   "outputs": [],
   "source": []
  },
  {
   "cell_type": "markdown",
   "metadata": {},
   "source": [
    "### Confronto a 12 Step"
   ]
  },
  {
   "cell_type": "code",
   "execution_count": 4,
   "metadata": {},
   "outputs": [],
   "source": [
    "data12_Prophet = pd.read_csv('Data/Prophet/MAE_error_data_4_Prophet_with_STL_Decomposition_12.csv', names=colnames, header=None)\n",
    "\n",
    "data12_MLP = pd.read_csv('Data/MLP/MAE_error_data_4_MLP_with_STL_Decomposition_in12.csv', names=colnames, header=None)\n",
    "\n",
    "data12_LSTM = pd.read_csv('Data/LSTM/MAE_error_data_4_LSTM_with_STL_Decomposition_12.csv', names=colnames, header=None)\n",
    "\n",
    "data12_CNN = pd.read_csv('Data/CNN/MAE_error_data_4_CNN_with_STL_Decomposition_in12.csv', names=colnames, header=None)\n",
    "\n",
    "data12_ARIMA = pd.read_csv('Data/ARIMA/MAE_error_data_4_ARIMA_MultistepForcast_12_V2.csv', names=colnames, header=None)\n",
    "\n",
    "data12_ETS = pd.read_csv('Data/ETS/MAE_error_data_4_ETS_MultistepForcast_12.csv', names=colnames, header=None)\n",
    "\n",
    "data12_AR = pd.read_csv('Data/AR/MAE_error_data_4_Autoregression_12_StepForecast.csv', names=colnames, header=None)"
   ]
  },
  {
   "cell_type": "markdown",
   "metadata": {},
   "source": [
    "### Confronto 24 step "
   ]
  },
  {
   "cell_type": "code",
   "execution_count": 15,
   "metadata": {},
   "outputs": [],
   "source": [
    "data24_Prophet = pd.read_csv('Data/Prophet/MAE_error_data_4_Prophet_with_STL_Decomposition_24.csv', names=colnames, header=None)\n",
    "data24_Prophet = data24_Prophet.dropna()\n",
    "data24_MLP = pd.read_csv('Data/MLP/MAE_error_data_4_MLP_with_STL_Decomposition_in24.csv', names=colnames, header=None)\n",
    "data24_MLP = data24_MLP.dropna()\n",
    "data24_LSTM = pd.read_csv('Data/LSTM/MAE_error_data_4_LSTM_with_STL_Decomposition_24.csv', names=colnames, header=None)\n",
    "data24_LSTM = data24_LSTM.dropna()\n",
    "data24_CNN = pd.read_csv('Data/CNN/MAE_error_data_4_CNN_with_STL_Decomposition_in24.csv', names=colnames, header=None)\n",
    "data24_CNN = data24_CNN.dropna()\n",
    "data24_ARIMA = pd.read_csv('Data/ARIMA/MAE_error_data_4_ARIMA_MultistepForcast_24_V2.csv', names=colnames, header=None)\n",
    "data24_ARIMA = data24_ARIMA.dropna()\n",
    "data24_ETS = pd.read_csv('Data/ETS/MAE_error_data_4_ETS_MultistepForcast_24_v2.csv', names=colnames, header=None)\n",
    "data24_ETS = data24_ETS.dropna()\n",
    "data24_AR = pd.read_csv('Data/AR/MAE_error_data_4_Autoregression_24_StepForecast.csv', names=colnames, header=None)\n",
    "data24_AR = data24_AR.dropna()\n",
    "data24_Naive = pd.read_csv('Data/Naive/MAE_error_data_4_Naive_DayHourAveragePrediction.csv', names=colnames, header=None)\n"
   ]
  },
  {
   "cell_type": "markdown",
   "metadata": {},
   "source": [
    "### Max Error"
   ]
  },
  {
   "cell_type": "code",
   "execution_count": 16,
   "metadata": {},
   "outputs": [],
   "source": [
    "max_AR = []\n",
    "for i, row in data24_AR.iterrows():\n",
    "    max_i= row['max']\n",
    "    max_i = max_i[0:-2]\n",
    "    max_AR.append(float(max_i))\n",
    "\n",
    "    \n",
    "max_Prophet = []\n",
    "for i, row in data24_Prophet.iterrows():\n",
    "    max_i= row['max']\n",
    "    max_i = max_i[0:-2]\n",
    "    max_Prophet.append(float(max_i))\n",
    "\n",
    "max_MLP = []\n",
    "for i, row in data24_MLP.iterrows():\n",
    "    max_i= row['max']\n",
    "    max_i = max_i[0:-1]\n",
    "    max_MLP.append(float(max_i))\n",
    "    \n",
    "max_CNN = []\n",
    "for i, row in data24_CNN.iterrows():\n",
    "    max_i= row['max']\n",
    "    max_i = max_i[0:-1]\n",
    "    max_CNN.append(float(max_i)) \n",
    "    \n",
    "max_LSTM = []\n",
    "for i, row in data24_LSTM.iterrows():\n",
    "    max_i= row['max']\n",
    "    max_i = max_i[0:-1]\n",
    "    max_LSTM.append(float(max_i)) \n",
    "    \n",
    "max_ARIMA = []\n",
    "for i, row in data24_ARIMA.iterrows():\n",
    "    max_i= row['max']\n",
    "    max_i = max_i[0:-1]\n",
    "    max_ARIMA.append(float(max_i)) \n",
    "    \n",
    "max_ETS = []\n",
    "for i, row in data24_ETS.iterrows():\n",
    "    max_i= row['max']\n",
    "    max_i = max_i[0:-1]\n",
    "    max_ETS.append(float(max_i))  \n",
    "    \n",
    "max_Naive = []\n",
    "for i, row in data24_Naive.iterrows():\n",
    "    max_i= row['max']\n",
    "    max_i = max_i[0:-1]\n",
    "    max_Naive.append(float(max_i))    \n",
    "\n",
    "#max_CNN = np.array(max_CNN)    \n",
    "#max_MLP = np.array(max_MLP)\n",
    "#max_LSTM = np.array(max_LSTM)\n",
    "#max_ETS = np.array(max_ETS)\n",
    "#max_Prophet = np.array(max_Prophet)\n",
    "#max_AR = np.array(max_AR)\n",
    "#max_ARIMA = np.array(max_ARIMA)"
   ]
  },
  {
   "cell_type": "code",
   "execution_count": 17,
   "metadata": {},
   "outputs": [
    {
     "data": {
      "text/plain": [
       "[20.0,\n",
       " 38.79999923706055,\n",
       " 69.29999923706055,\n",
       " 129.4000015258789,\n",
       " 27.099998474121094,\n",
       " 53.20000076293945,\n",
       " 15.39999771118164,\n",
       " 14.800003051757812,\n",
       " 461.9000244140625,\n",
       " 17.099998474121094,\n",
       " 10.900001525878906,\n",
       " 671.0,\n",
       " 181.10009765625,\n",
       " 389.79998779296875,\n",
       " 85.20000076293945,\n",
       " 7.100002288818359,\n",
       " 8.399999618530273,\n",
       " 31.899993896484375,\n",
       " 103.90000915527344,\n",
       " 25.199996948242188,\n",
       " 24.199996948242188,\n",
       " 25.099998474121094,\n",
       " 27.900001525878906,\n",
       " 31.0,\n",
       " 12.299995422363281,\n",
       " 11.699996948242188,\n",
       " 226.60000610351562,\n",
       " 25.79999542236328,\n",
       " 568.3999938964844,\n",
       " 763.0,\n",
       " 629.0999755859375,\n",
       " 70.30000305175781,\n",
       " 7.5,\n",
       " 107.5,\n",
       " 445.90000915527344,\n",
       " 319.5,\n",
       " 54.5,\n",
       " 60.0,\n",
       " 26.0,\n",
       " 35.79999923706055,\n",
       " 31.70000457763672,\n",
       " 68.0,\n",
       " 389.3999938964844,\n",
       " 17.09999656677246,\n",
       " 13.700000762939453,\n",
       " 313.3000030517578,\n",
       " 375.1999969482422,\n",
       " 593.10009765625,\n",
       " 178.60000610351562,\n",
       " 68.69999885559082,\n",
       " 116.29998779296875,\n",
       " 727.9000244140625,\n",
       " 839.5000610351562,\n",
       " 268.6999969482422,\n",
       " 375.6000061035156,\n",
       " 70.69999694824219,\n",
       " 219.79998779296875,\n",
       " 31.0,\n",
       " 260.1999969482422,\n",
       " 16.0,\n",
       " 41.900001525878906,\n",
       " 226.1999969482422,\n",
       " 44.89999961853027,\n",
       " 219.69998168945312,\n",
       " 115.5,\n",
       " 254.8000030517578,\n",
       " 202.60000610351562,\n",
       " 147.4000015258789,\n",
       " 296.7000045776367,\n",
       " 56.30000305175781,\n",
       " 668.3999938964844,\n",
       " 501.5999755859375,\n",
       " 418.6999816894531,\n",
       " 214.4000015258789,\n",
       " 23.0,\n",
       " 49.10000038146973,\n",
       " 24.70000457763672,\n",
       " 40.39999771118164,\n",
       " 35.400001525878906,\n",
       " 243.60000610351562,\n",
       " 10.60000228881836,\n",
       " 9.700000762939453,\n",
       " 36.400001525878906,\n",
       " 573.8999633789062,\n",
       " 116.70000076293945,\n",
       " 99.60000610351562,\n",
       " 56.100000858306885,\n",
       " 109.69999694824219,\n",
       " 397.70001220703125,\n",
       " 685.2001953125,\n",
       " 696.6000366210938,\n",
       " 445.0999755859375,\n",
       " 975.7000122070312,\n",
       " 210.19998168945312,\n",
       " 12.900001525878906,\n",
       " 22.0,\n",
       " 9.5,\n",
       " 8.799999237060547,\n",
       " 7.0,\n",
       " 5.80000114440918,\n",
       " 3.200000762939453,\n",
       " 504.6000366210938,\n",
       " 54.900001525878906,\n",
       " 52.0,\n",
       " 291.4000015258789,\n",
       " 425.40234375,\n",
       " 442.300048828125,\n",
       " 237.8000030517578,\n",
       " 339.4999694824219,\n",
       " 139.800048828125,\n",
       " 464.5,\n",
       " 625.30029296875,\n",
       " 13.900001525878906,\n",
       " 30.60000228881836,\n",
       " 7.399999618530273,\n",
       " 7.600000381469727,\n",
       " 6.599998474121094,\n",
       " 19.799999237060547,\n",
       " 264.0,\n",
       " 10.200000762939453,\n",
       " 229.29998779296875,\n",
       " 374.09999084472656,\n",
       " 82.89999389648438,\n",
       " 211.5,\n",
       " 149.19998168945312,\n",
       " 373.70000076293945,\n",
       " 120.19999694824219,\n",
       " 335.39990234375,\n",
       " 194.5,\n",
       " 9.0,\n",
       " 7.69999885559082,\n",
       " 7.799999237060547,\n",
       " 7.900001525878906,\n",
       " 37.5,\n",
       " 32.60000228881836,\n",
       " 86.9000015258789,\n",
       " 353.70001220703125,\n",
       " 56.099998474121094,\n",
       " 306.10000228881836,\n",
       " 496.8000030517578,\n",
       " 127.9000244140625,\n",
       " 443.0,\n",
       " 102.20000457763672,\n",
       " 24.5,\n",
       " 69.00000381469727,\n",
       " 8.5,\n",
       " 6.399999618530273,\n",
       " 6.600000381469727,\n",
       " 18.0,\n",
       " 6.200000762939453,\n",
       " 3.700000762939453,\n",
       " 46.5,\n",
       " 179.8000030517578,\n",
       " 4.69999885559082,\n",
       " 5.69999885559082,\n",
       " 15.89999771118164,\n",
       " 84.60000610351562,\n",
       " 438.70001220703125,\n",
       " 499.5,\n",
       " 299.300048828125,\n",
       " 346.99999809265137,\n",
       " 344.20001220703125,\n",
       " 439.0999755859375,\n",
       " 404.0,\n",
       " 184.89990234375,\n",
       " 468.0,\n",
       " 165.19998168945312,\n",
       " 186.89999389648438,\n",
       " 293.5999755859375,\n",
       " 101.29999923706055,\n",
       " 346.79998779296875,\n",
       " 145.0,\n",
       " 506.29998779296875,\n",
       " 895.8999938964844,\n",
       " 384.6000061035156,\n",
       " 813.0,\n",
       " 785.3999633789062,\n",
       " 141.39999389648438,\n",
       " 17.10000228881836,\n",
       " 5.700000762939453,\n",
       " 5.400001525878906,\n",
       " 4.0,\n",
       " 4.799999237060547,\n",
       " 5.30000114440918,\n",
       " 4.399999618530273,\n",
       " 7.200000762939453,\n",
       " 20.899993896484375,\n",
       " 3.200000762939453,\n",
       " 217.60000610351562,\n",
       " 892.9000244140625,\n",
       " 80.19999694824219,\n",
       " 236.29998779296875,\n",
       " 556.800048828125,\n",
       " 545.8999938964844,\n",
       " 99.69999694824219,\n",
       " 11.300003051757812,\n",
       " 6.100000381469727,\n",
       " 3.3999996185302734,\n",
       " 4.200000762939453,\n",
       " 5.399999618530273,\n",
       " 10.5,\n",
       " 4.100000381469727,\n",
       " 509.4000244140625,\n",
       " 29.399993896484375,\n",
       " 116.39999389648438,\n",
       " 155.50000190734863,\n",
       " 2.90000057220459,\n",
       " 30.699996948242188,\n",
       " 35.400001525878906,\n",
       " 60.19999694824219,\n",
       " 232.60000610351562,\n",
       " 243.4000015258789,\n",
       " 14.200004577636719,\n",
       " 3.3000001907348633,\n",
       " 3.40000057220459,\n",
       " 5.299999237060547,\n",
       " 3.700000762939453,\n",
       " 4.80000114440918,\n",
       " 61.399993896484375,\n",
       " 8.5]"
      ]
     },
     "execution_count": 17,
     "metadata": {},
     "output_type": "execute_result"
    }
   ],
   "source": [
    "max_LSTM"
   ]
  },
  {
   "cell_type": "code",
   "execution_count": 18,
   "metadata": {},
   "outputs": [
    {
     "data": {
      "image/png": "[encoded data removed]",
      "text/plain": [
       "<Figure size 1440x360 with 1 Axes>"
      ]
     },
     "metadata": {
      "needs_background": "light"
     },
     "output_type": "display_data"
    }
   ],
   "source": [
    "data_to_plot = [max_CNN, max_MLP, max_LSTM, max_Prophet, max_ETS, max_ARIMA, max_AR, max_Naive]\n",
    "\n",
    "# Create a figure instance\n",
    "fig = plt.figure(1, figsize=(20, 5))\n",
    "\n",
    "# Create an axes instance\n",
    "ax = fig.add_subplot(111)\n",
    "\n",
    "# Create the boxplot\n",
    "bp = ax.boxplot(data_to_plot, patch_artist=True)\n",
    "ax.set_xticklabels(['CNN', 'MLP', 'LSTM', 'Prophet', 'ETS', 'ARIMA', 'AR', 'Naive'], fontsize=18)\n",
    "ax.set_ylabel('MAXAE', fontsize=18) \n",
    "\n",
    "# Save the figure\n",
    "fig.savefig('ConfrontoMetodi.jpeg', bbox_inches='tight')"
   ]
  },
  {
   "cell_type": "markdown",
   "metadata": {},
   "source": [
    "### RMSE for 24 steps forecast."
   ]
  },
  {
   "cell_type": "code",
   "execution_count": 20,
   "metadata": {},
   "outputs": [],
   "source": [
    "rmse24_Prophet = pd.read_csv('Data/Prophet/RMSE_error_data_4_Prophet_with_STL_Decomposition_24.csv', header=None)\n",
    "rmse24_Prophet.columns = ['rmse']\n",
    "rmse24_Prophet = rmse24_Prophet.dropna()\n",
    "\n",
    "rmse24_MLP = pd.read_csv('Data/MLP/RMSE_error_data_4_MLP_with_STL_Decomposition_in24.csv',  header=None)\n",
    "rmse24_MLP.columns = ['rmse']\n",
    "rmse24_MLP = rmse24_MLP.dropna()\n",
    "\n",
    "rmse24_LSTM = pd.read_csv('Data/LSTM/RMSE_error_data_4_LSTM_with_STL_Decomposition_24.csv', header=None)\n",
    "rmse24_LSTM.columns = ['rmse']\n",
    "rmse24_LSTM = rmse24_LSTM.dropna()\n",
    "\n",
    "rmse24_CNN = pd.read_csv('Data/CNN/RMSE_error_data_4_CNN_with_STL_Decomposition_in24.csv',  header=None)\n",
    "rmse24_CNN.columns = ['rmse']\n",
    "rmse24_CNN = rmse24_CNN.dropna()\n",
    "\n",
    "rmse24_ARIMA = pd.read_csv('Data/ARIMA/RMSE_error_data_4_ARIMA_MultistepForcast_24_V2.csv', header=None)\n",
    "rmse24_ARIMA.columns = ['rmse']\n",
    "rmse24_ARIMA = rmse24_ARIMA.dropna()\n",
    "\n",
    "rmse24_ETS = pd.read_csv('Data/ETS/RMSE_error_data_4_ETS_MultistepForcast_24_v2.csv', header=None)\n",
    "rmse24_ETS.columns = ['rmse']\n",
    "rmse24_ETS = rmse24_ETS.dropna()\n",
    "\n",
    "rmse24_AR = pd.read_csv('Data/AR/RMSE_error_data_4_Autoregression_24_StepForecast.csv',  header=None)\n",
    "rmse24_AR.columns = ['rmse']\n",
    "rmse24_AR = rmse24_AR.dropna()\n",
    "\n",
    "rmse24_Naive = pd.read_csv('Data/Naive/RMSE_error_data_4_Naive_DayHourAveragePrediction.csv',  header=None)\n",
    "rmse24_Naive.columns = ['rmse']\n",
    "rmse24_Naive = rmse24_Naive.dropna()"
   ]
  },
  {
   "cell_type": "code",
   "execution_count": 21,
   "metadata": {},
   "outputs": [],
   "source": [
    "prophet_list = []\n",
    "for i, k in rmse24_Prophet.iterrows():\n",
    "    #print(i, k['rmse'])\n",
    "    s = k['rmse'].split(':')[1]\n",
    "    rmse = float(s)\n",
    "   \n",
    "    prophet_list.append(rmse)\n",
    "    \n",
    "ar_list = []\n",
    "for i, k in rmse24_AR.iterrows():\n",
    "    #print(i, k['rmse'])\n",
    "    s = k['rmse'].split(':')[1]\n",
    "    rmse = float(s)\n",
    "    ar_list.append(rmse)\n",
    "    \n",
    "ETS_list = []\n",
    "for i, k in rmse24_ETS.iterrows():\n",
    "    #print(i, k['rmse'])\n",
    "    s = k['rmse'].split(':')[1]\n",
    "    rmse = float(s)\n",
    "    ETS_list.append(rmse)\n",
    "    \n",
    "ARIMA_list = []\n",
    "for i, k in rmse24_ARIMA.iterrows():\n",
    "    #print(i, k['rmse'])\n",
    "    s = k['rmse'].split(':')[1]\n",
    "    rmse = float(s)\n",
    "    ARIMA_list.append(rmse)\n",
    "    \n",
    "MLP_list = []\n",
    "for i, k in rmse24_MLP.iterrows():\n",
    "    #print(i, k['rmse'])\n",
    "    s = k['rmse'].split(':')[1]\n",
    "    rmse = float(s)\n",
    "    MLP_list.append(rmse)\n",
    "    \n",
    "CNN_list = []\n",
    "for i, k in rmse24_Prophet.iterrows():\n",
    "    #print(i, k['rmse'])    \n",
    "    s = k['rmse'].split(':')[1]\n",
    "    rmse = float(s)\n",
    "    CNN_list.append(rmse)\n",
    "    \n",
    "LSTM_list = []\n",
    "for i, k in rmse24_LSTM.iterrows():\n",
    "    #print(i, k['rmse'])    \n",
    "    s = k['rmse'].split(':')[1]\n",
    "    rmse = float(s)\n",
    "    LSTM_list.append(rmse)\n",
    "    \n",
    "Naive_list = []\n",
    "for i, k in rmse24_Naive.iterrows():\n",
    "    #print(i, k['rmse']) \n",
    "    s = k['rmse'].split(':')[1]\n",
    "    rmse = float(s)\n",
    "    Naive_list.append(rmse)\n",
    "    "
   ]
  },
  {
   "cell_type": "code",
   "execution_count": 22,
   "metadata": {},
   "outputs": [
    {
     "data": {
      "text/plain": [
       "6.939728684868916"
      ]
     },
     "execution_count": 22,
     "metadata": {},
     "output_type": "execute_result"
    }
   ],
   "source": [
    "ARIMA_list[1]\n",
    "\n"
   ]
  },
  {
   "cell_type": "code",
   "execution_count": 23,
   "metadata": {},
   "outputs": [
    {
     "data": {
      "image/png": "[encoded data removed]",
      "text/plain": [
       "<Figure size 1440x288 with 1 Axes>"
      ]
     },
     "metadata": {
      "needs_background": "light"
     },
     "output_type": "display_data"
    }
   ],
   "source": [
    "data_to_plot = [CNN_list, MLP_list, LSTM_list, prophet_list, ETS_list, ARIMA_list, ar_list, Naive_list]\n",
    "\n",
    "# Create a figure instance\n",
    "fig = plt.figure(1, figsize=(20, 4))\n",
    "\n",
    "# Create an axes instance\n",
    "ax = fig.add_subplot(111)\n",
    "\n",
    "# Create the boxplot\n",
    "bp = ax.boxplot(data_to_plot, patch_artist=True)\n",
    "ax.set_xticklabels(['CNN', 'MLP', 'LSTM', 'Prophet', 'ETS', 'ARIMA', 'AR', 'Naive'], fontsize=18)\n",
    "ax.set_ylabel('RMSE', fontsize=18) \n",
    "\n",
    "# Save the figure\n",
    "fig.savefig('ConfrontoMetodiRMSE.jpeg', bbox_inches='tight')"
   ]
  },
  {
   "cell_type": "markdown",
   "metadata": {},
   "source": [
    "### MAPE error for 24 steps"
   ]
  },
  {
   "cell_type": "code",
   "execution_count": 24,
   "metadata": {},
   "outputs": [],
   "source": [
    "mape24_Prophet = pd.read_csv('Data/Prophet/MAPE_error_data_4_Prophet_with_STL_Decomposition_24.csv', header=None)\n",
    "mape24_Prophet.columns = ['mape']\n",
    "\n",
    "mape24_MLP = pd.read_csv('Data/MLP/MAPE_error_data_4_MLP_with_STL_Decomposition_in24.csv',  header=None)\n",
    "mape24_MLP.columns = ['mape']\n",
    "\n",
    "mape24_LSTM = pd.read_csv('Data/LSTM/MAPE_error_data_4_LSTM_with_STL_Decomposition_24.csv', header=None)\n",
    "mape24_LSTM.columns = ['mape']\n",
    "\n",
    "mape24_CNN = pd.read_csv('Data/CNN/MAPE_error_data_4_CNN_with_STL_Decomposition_in24.csv',  header=None)\n",
    "mape24_CNN.columns = ['mape']\n",
    "\n",
    "mape24_ARIMA = pd.read_csv('Data/ARIMA/MAPE_error_data_4_ARIMA_MultistepForcast_24_V2.csv', header=None)\n",
    "mape24_ARIMA.columns = ['mape']\n",
    "\n",
    "mape24_ETS = pd.read_csv('Data/ETS/MAPE_error_data_4_ETS_MultistepForcast_24_v2.csv', header=None)\n",
    "mape24_ETS.columns = ['mape']\n",
    "\n",
    "mape24_AR = pd.read_csv('Data/AR/MAPE_error_data_4_Autoregression_24_StepForecast.csv',  header=None)\n",
    "mape24_AR.columns = ['mape']\n",
    "\n",
    "mape24_Naive = pd.read_csv('Data/Naive/MAPE_error_data_4_Naive_DayHourAveragePrediction.csv',  header=None)\n",
    "mape24_Naive.columns = ['mape']"
   ]
  },
  {
   "cell_type": "code",
   "execution_count": 25,
   "metadata": {},
   "outputs": [],
   "source": [
    "prophet_mape = []\n",
    "for i, k in mape24_Prophet.iterrows():\n",
    "    #print(i, k['rmse'])\n",
    "    s = k['mape'].split(':')[1]\n",
    "    mape = float(s)\n",
    "    prophet_mape.append(mape)\n",
    "    \n",
    "ar_mape = []\n",
    "for i, k in mape24_AR.iterrows():\n",
    "    #print(i, k['rmse'])\n",
    "    s = k['mape'].split(':')[1]\n",
    "    mape = float(s)\n",
    "    ar_mape.append(mape)\n",
    "    \n",
    "ETS_mape = []\n",
    "for i, k in mape24_ETS.iterrows():\n",
    "    #print(i, k['rmse'])\n",
    "    s = k['mape'].split(':')[1]\n",
    "    mape = float(s)\n",
    "    ETS_mape.append(mape)\n",
    "    \n",
    "ARIMA_mape = []\n",
    "for i, k in mape24_ARIMA.iterrows():\n",
    "    #print(i, k['rmse'])\n",
    "    s = k['mape'].split(':')[1]\n",
    "    mape = float(s)\n",
    "    ARIMA_mape.append(mape)\n",
    "    \n",
    "MLP_mape = []\n",
    "for i, k in mape24_MLP.iterrows():\n",
    "    #print(i, k['rmse'])\n",
    "    s = k['mape'].split(':')[1]\n",
    "    mape = float(s)\n",
    "    MLP_mape.append(mape)\n",
    "    \n",
    "CNN_mape = []\n",
    "for i, k in mape24_Prophet.iterrows():\n",
    "    #print(i, k['rmse'])    \n",
    "    s = k['mape'].split(':')[1]\n",
    "    mape = float(s)\n",
    "    CNN_mape.append(mape)\n",
    "    \n",
    "LSTM_mape = []\n",
    "for i, k in mape24_LSTM.iterrows():\n",
    "    #print(i, k['rmse'])    \n",
    "    s = k['mape'].split(':')[1]\n",
    "    mape = float(s)\n",
    "    LSTM_mape.append(mape)\n",
    "    \n",
    "Naive_mape = []\n",
    "for i, k in mape24_Naive.iterrows():\n",
    "    #print(i, k['rmse']) \n",
    "    s = k['mape'].split(':')[1]\n",
    "    mape = float(s)\n",
    "    Naive_mape.append(mape)\n"
   ]
  },
  {
   "cell_type": "code",
   "execution_count": 27,
   "metadata": {},
   "outputs": [
    {
     "data": {
      "image/png": "[encoded data removed]",
      "text/plain": [
       "<Figure size 1440x288 with 1 Axes>"
      ]
     },
     "metadata": {
      "needs_background": "light"
     },
     "output_type": "display_data"
    }
   ],
   "source": [
    "mape_data_to_plot = [CNN_mape, MLP_mape, LSTM_mape, prophet_mape, ETS_mape, ARIMA_mape, ar_mape, Naive_mape]\n",
    "\n",
    "# Create a figure instance\n",
    "fig = plt.figure(1, figsize=(20, 4))\n",
    "\n",
    "# Create an axes instance\n",
    "ax = fig.add_subplot(111)\n",
    "\n",
    "# Create the boxplot\n",
    "bp = ax.boxplot(mape_data_to_plot, patch_artist=True)\n",
    "ax.set_xticklabels(['CNN', 'MLP', 'LSTM', 'Prophet', 'ETS', 'ARIMA', 'AR', 'Naive'], fontsize=18)\n",
    "ax.set_ylabel('MAPE', fontsize=18) \n",
    "\n",
    "# Save the figure\n",
    "fig.savefig('ConfrontoMetodiMAPE.jpeg', bbox_inches='tight')"
   ]
  },
  {
   "cell_type": "markdown",
   "metadata": {},
   "source": [
    "### Confronto a 48 step"
   ]
  },
  {
   "cell_type": "code",
   "execution_count": 22,
   "metadata": {},
   "outputs": [],
   "source": [
    "data48_Prophet = pd.read_csv('Data/Prophet/MAE_error_data_4_Prophet_with_STL_Decomposition_48.csv', names=colnames, header=None)\n",
    "\n",
    "data48_MLP = pd.read_csv('Data/MLP/MAE_error_data_4_MLP_with_STL_Decomposition_in48.csv', names=colnames, header=None)\n",
    "\n",
    "data48_LSTM = pd.read_csv('Data/LSTM/MAE_error_data_4_LSTM_with_STL_Decomposition_48.csv', names=colnames, header=None)\n",
    "\n",
    "data48_CNN = pd.read_csv('Data/CNN/MAE_error_data_4_CNN_with_STL_Decomposition_in48.csv', names=colnames, header=None)\n",
    "\n",
    "data48_ARIMA = pd.read_csv('Data/ARIMA/MAE_error_data_4_ARIMA_MultistepForcast_48_V2.csv', names=colnames, header=None)\n",
    "\n",
    "data48_ETS = pd.read_csv('Data/ETS/MAE_error_data_4_ETS_MultistepForcast_48_v2.csv', names=colnames, header=None)\n",
    "\n",
    "data48_AR = pd.read_csv('Data/AR/MAE_error_data_4_Autoregression_48_StepForecast.csv', names=colnames, header=None)\n",
    "\n",
    "#data24_Naive = pd.read_csv('Data/Naive/MAE_error_data_4_Naive_DayHourAveragePrediction.csv', names=colnames, header=None)\n"
   ]
  },
  {
   "cell_type": "code",
   "execution_count": null,
   "metadata": {},
   "outputs": [],
   "source": [
    "data_to_plot = [mae_CNN, mae_MLP, mae_LSTM, mae_Prophet, mae_ETS, mae_ARIMA, mae_AR, mae_Naive]\n",
    "\n",
    "# Create a figure instance\n",
    "fig = plt.figure(1, figsize=(20, 7))\n",
    "\n",
    "# Create an axes instance\n",
    "ax = fig.add_subplot(111)\n",
    "\n",
    "# Create the boxplot\n",
    "bp = ax.boxplot(data_to_plot, patch_artist=True)\n",
    "ax.set_xticklabels(['CNN', 'MLP', 'LSTM', 'Prophet', 'ETS', 'ARIMA', 'AR', 'Naive'])\n",
    "\n",
    "# Save the figure\n",
    "fig.savefig('ConfrontoMetodi.jpeg', bbox_inches='tight')"
   ]
  },
  {
   "cell_type": "markdown",
   "metadata": {},
   "source": [
    "### Max Errore"
   ]
  },
  {
   "cell_type": "code",
   "execution_count": 73,
   "metadata": {},
   "outputs": [],
   "source": [
    "max_ARIMA = np.array(max_ARIMA).astype(np.float)\n",
    "max_ETS = np.array(max_ETS).astype(np.float)\n",
    "max_ETS = np.nan_to_num(max_ETS) \n",
    "max_ARIMA = np.nan_to_num(max_ARIMA)"
   ]
  },
  {
   "cell_type": "code",
   "execution_count": 74,
   "metadata": {},
   "outputs": [
    {
     "data": {
      "image/png": "[encoded data removed]",
      "text/plain": [
       "<Figure size 1440x504 with 1 Axes>"
      ]
     },
     "metadata": {
      "needs_background": "light"
     },
     "output_type": "display_data"
    }
   ],
   "source": [
    "max_data_to_plot = [max_CNN, max_MLP, max_LSTM, max_Prophet, max_ETS, max_ARIMA, max_AR, max_Naive]\n",
    "\n",
    "# Create a figure instance\n",
    "fig = plt.figure(1, figsize=(20, 7))\n",
    "\n",
    "# Create an axes instance\n",
    "ax = fig.add_subplot(111)\n",
    "\n",
    "# Create the boxplot\n",
    "bp = ax.boxplot(max_data_to_plot, patch_artist=True)\n",
    "ax.set_xticklabels(['Max_CNN', 'Max_MLP', 'Max_LSTM', 'Max_Prophet', 'Max_ETS', 'Max_ARIMA', 'Max_AR', 'Max_Naive'])\n",
    "\n",
    "# Save the figure\n",
    "fig.savefig('ConfrontoMetodiMAX.jpeg', bbox_inches='tight')"
   ]
  },
  {
   "cell_type": "markdown",
   "metadata": {},
   "source": [
    "### Confronto 24 step"
   ]
  },
  {
   "cell_type": "code",
   "execution_count": null,
   "metadata": {},
   "outputs": [],
   "source": []
  },
  {
   "cell_type": "code",
   "execution_count": null,
   "metadata": {},
   "outputs": [],
   "source": []
  },
  {
   "cell_type": "markdown",
   "metadata": {},
   "source": [
    "### Confronto 48 step"
   ]
  },
  {
   "cell_type": "code",
   "execution_count": null,
   "metadata": {},
   "outputs": [],
   "source": []
  },
  {
   "cell_type": "code",
   "execution_count": null,
   "metadata": {},
   "outputs": [],
   "source": []
  }
 ],
 "metadata": {
  "kernelspec": {
   "display_name": "Python 3",
   "language": "python",
   "name": "python3"
  },
  "language_info": {
   "codemirror_mode": {
    "name": "ipython",
    "version": 3
   },
   "file_extension": ".py",
   "mimetype": "text/x-python",
   "name": "python",
   "nbconvert_exporter": "python",
   "pygments_lexer": "ipython3",
   "version": "3.7.4"
  }
 },
 "nbformat": 4,
 "nbformat_minor": 2
}
