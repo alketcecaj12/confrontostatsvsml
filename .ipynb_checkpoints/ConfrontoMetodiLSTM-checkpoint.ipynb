{
 "cells": [
  {
   "cell_type": "code",
   "execution_count": 2,
   "metadata": {},
   "outputs": [],
   "source": [
    "import pandas as pd \n",
    "import numpy as np \n",
    "import matplotlib.pyplot as plt"
   ]
  },
  {
   "cell_type": "markdown",
   "metadata": {},
   "source": [
    "### RMSE Error"
   ]
  },
  {
   "cell_type": "code",
   "execution_count": 3,
   "metadata": {},
   "outputs": [],
   "source": [
    "# cambiare i percorsi con i propri dati\n",
    "data3_LSTM = pd.read_csv('Data/LSTM/RMSE_error_data_4_LSTM_with_STL_Decomposition_3.csv', header=None)\n",
    "data3_LSTM.columns = ['rmse']\n",
    "\n",
    "data6_LSTM = pd.read_csv('Data/LSTM/RMSE_error_data_4_LSTM_with_STL_Decomposition_6.csv', header=None)\n",
    "data6_LSTM.columns = ['rmse']\n",
    "\n",
    "data12_LSTM = pd.read_csv('Data/LSTM/RMSE_error_data_4_LSTM_with_STL_Decomposition_12.csv', header=None)\n",
    "data12_LSTM.columns = ['rmse']\n",
    "\n",
    "data24_LSTM = pd.read_csv('Data/LSTM/RMSE_error_data_4_LSTM_with_STL_Decomposition_24.csv', header=None)\n",
    "data24_LSTM.columns = ['rmse']\n",
    "\n",
    "data48_LSTM = pd.read_csv('Data/LSTM/RMSE_error_data_4_LSTM_with_STL_Decomposition_48.csv', header=None)\n",
    "data48_LSTM.columns = ['rmse']"
   ]
  },
  {
   "cell_type": "code",
   "execution_count": 4,
   "metadata": {},
   "outputs": [],
   "source": [
    "step3 = []\n",
    "for i, riga in data3_LSTM.iterrows():\n",
    "    valore = riga['rmse'].split(':')[1]\n",
    "    step3.append(float(valore))\n",
    "    \n",
    "step6 = []\n",
    "for i, riga in data6_LSTM.iterrows():\n",
    "    valore = riga['rmse'].split(':')[1]\n",
    "    step6.append(float(valore))\n",
    "    \n",
    "step12 = []\n",
    "for i, riga in data12_LSTM.iterrows():\n",
    "    valore = riga['rmse'].split(':')[1]\n",
    "    step12.append(float(valore))\n",
    "\n",
    "step24 = []\n",
    "for i, riga in data24_LSTM.iterrows():\n",
    "    valore = riga['rmse'].split(':')[1]\n",
    "    step24.append(float(valore))\n",
    "    \n",
    "step48 = []\n",
    "for i, riga in data48_LSTM.iterrows():\n",
    "    valore = riga['rmse'].split(':')[1]\n",
    "    step48.append(float(valore)) \n",
    "\n",
    "step3 = np.array(step3)    \n",
    "step6 = np.array(step6)\n",
    "step12 = np.array(step12)\n",
    "step24 = np.array(step24)\n",
    "step48 = np.array(step48)"
   ]
  },
  {
   "cell_type": "code",
   "execution_count": 5,
   "metadata": {},
   "outputs": [
    {
     "name": "stdout",
     "output_type": "stream",
     "text": [
      "LSTM RMSE mean 10.0 13.09 21.24 66.46 313.35\n",
      "LSTM RMSE std.dev 12.56 17.96 52.17 122.62 372.42\n",
      "LSTM RMSE max 72.3 153.96 696.19 834.43 2109.73\n"
     ]
    }
   ],
   "source": [
    "mean3m = np.mean(step3)\n",
    "mean6m = np.mean(step6)\n",
    "mean12m = np.mean(step12)\n",
    "mean24m = np.mean(step24)\n",
    "mean48m = np.mean(step48)\n",
    "print('LSTM RMSE mean', round(mean3m,2), round(mean6m,2) , round(mean12m,2) , round(mean24m,2) , round(mean48m,2))\n",
    "\n",
    "mean3std = np.std(step3)\n",
    "mean6std = np.std(step6)\n",
    "mean12std = np.std(step12)\n",
    "mean24std = np.std(step24)\n",
    "mean48std = np.std(step48)\n",
    "print('LSTM RMSE std.dev', round(mean3std,2), round(mean6std,2) , round(mean12std,2) , round(mean24std,2) , round(mean48std,2))\n",
    "\n",
    "max3 = np.max(step3)\n",
    "max6 = np.max(step6)\n",
    "max12 = np.max(step12)\n",
    "max24 = np.max(step24)\n",
    "max48 = np.max(step48)\n",
    "print('LSTM RMSE max', round(max3,2) , round(max6,2) , round(max12,2) , round(max24,2) , round(max48,2))"
   ]
  },
  {
   "cell_type": "code",
   "execution_count": 6,
   "metadata": {},
   "outputs": [
    {
     "data": {
      "image/png": "[encoded data removed]",
      "text/plain": [
       "<Figure size 1440x360 with 1 Axes>"
      ]
     },
     "metadata": {
      "needs_background": "light"
     },
     "output_type": "display_data"
    }
   ],
   "source": [
    "data_to_plot = [step3, step6, step12, step24, step48]\n",
    "\n",
    "# Create a figure instance\n",
    "fig = plt.figure(1, figsize=(20, 5))\n",
    "\n",
    "# Create an axes instance\n",
    "ax = fig.add_subplot(111)\n",
    "\n",
    "# Create the boxplot\n",
    "bp = ax.boxplot(data_to_plot, patch_artist=True)\n",
    "ax.set_xticklabels(['3 steps ', '6 steps', '12 steps', '24 steps', '48 steps'], fontsize=18)\n",
    "ax.set_ylabel('RMSE', fontsize=18) \n",
    "\n",
    "# Save the figure\n",
    "fig.savefig('ConfrontoMetodiMLP.jpeg', bbox_inches='tight')"
   ]
  },
  {
   "cell_type": "markdown",
   "metadata": {},
   "source": [
    "### MAPE Error"
   ]
  },
  {
   "cell_type": "code",
   "execution_count": 7,
   "metadata": {},
   "outputs": [],
   "source": [
    "# cambiare i percorsi con i propri dati\n",
    "data3_LSTM_MAPE = pd.read_csv('Data/LSTM/MAPE_error_data_4_LSTM_with_STL_Decomposition_3.csv', header=None)\n",
    "data3_LSTM_MAPE.columns = ['mape']\n",
    "\n",
    "data6_LSTM_MAPE = pd.read_csv('Data/LSTM/MAPE_error_data_4_LSTM_with_STL_Decomposition_6.csv', header=None)\n",
    "data6_LSTM_MAPE.columns = ['mape']\n",
    "\n",
    "data12_LSTM_MAPE = pd.read_csv('Data/LSTM/MAPE_error_data_4_LSTM_with_STL_Decomposition_12.csv', header=None)\n",
    "data12_LSTM_MAPE.columns = ['mape']\n",
    "\n",
    "data24_LSTM_MAPE = pd.read_csv('Data/LSTM/MAPE_error_data_4_LSTM_with_STL_Decomposition_24.csv', header=None)\n",
    "data24_LSTM_MAPE.columns = ['mape']\n",
    "\n",
    "data48_LSTM_MAPE = pd.read_csv('Data/LSTM/MAPE_error_data_4_LSTM_with_STL_Decomposition_48.csv', header=None)\n",
    "data48_LSTM_MAPE.columns = ['mape']"
   ]
  },
  {
   "cell_type": "code",
   "execution_count": 9,
   "metadata": {},
   "outputs": [],
   "source": [
    "step3mape = []\n",
    "for i, riga in data3_LSTM_MAPE.iterrows():\n",
    "    valore = riga['mape'].split(':')[1]\n",
    "    step3mape.append(float(valore))\n",
    "\n",
    "step6mape = []\n",
    "for i, riga in data6_LSTM_MAPE.iterrows():\n",
    "    valore = riga['mape'].split(':')[1]\n",
    "    step6mape.append(float(valore))\n",
    "    \n",
    "step12mape = []\n",
    "for i, riga in data12_LSTM_MAPE.iterrows():\n",
    "    valore = riga['mape'].split(':')[1]\n",
    "    step12mape.append(float(valore))\n",
    "\n",
    "step24mape = []\n",
    "for i, riga in data24_LSTM_MAPE.iterrows():\n",
    "    valore = riga['mape'].split(':')[1]\n",
    "    step24mape.append(float(valore))\n",
    "    \n",
    "step48mape = []\n",
    "for i, riga in data48_LSTM_MAPE.iterrows():\n",
    "    valore = riga['mape'].split(':')[1]\n",
    "    step48mape.append(float(valore)) \n",
    "\n",
    "step3mape = np.array(step3mape)    \n",
    "step6mape = np.array(step6mape)\n",
    "step12mape = np.array(step12mape)\n",
    "step24mape = np.array(step24mape)\n",
    "step48mape = np.array(step48mape)"
   ]
  },
  {
   "cell_type": "code",
   "execution_count": 10,
   "metadata": {},
   "outputs": [
    {
     "data": {
      "image/png": "[encoded data removed]",
      "text/plain": [
       "<Figure size 1440x360 with 1 Axes>"
      ]
     },
     "metadata": {
      "needs_background": "light"
     },
     "output_type": "display_data"
    }
   ],
   "source": [
    "data_to_plot = [step3mape, step6mape, step12mape, step24mape, step48mape]\n",
    "\n",
    "# Create a figure instance\n",
    "fig = plt.figure(1, figsize=(20, 5))\n",
    "\n",
    "# Create an axes instance\n",
    "ax = fig.add_subplot(111)\n",
    "\n",
    "# Create the boxplot\n",
    "bp = ax.boxplot(data_to_plot, patch_artist=True)\n",
    "ax.set_xticklabels(['3 steps','6 steps', '12 steps', '24 steps', '48 steps'], fontsize=18)\n",
    "ax.set_ylabel('MAPE', fontsize=18) \n",
    "\n",
    "# Save the figure\n",
    "fig.savefig('ConfrontoMetodiMLP.jpeg', bbox_inches='tight')"
   ]
  },
  {
   "cell_type": "code",
   "execution_count": 11,
   "metadata": {},
   "outputs": [
    {
     "name": "stdout",
     "output_type": "stream",
     "text": [
      "LSTM MAPE mean      4.78 5.95 9.6 32.34 121.95\n",
      "LSTM MAPE std.dev   1.3 1.72 13.54 41.58 114.3\n",
      "LSTM MAPE max        9.2 12.45 145.37 194.38 456.99\n"
     ]
    }
   ],
   "source": [
    "mean3m = np.mean(step3mape)\n",
    "mean6m = np.mean(step6mape)\n",
    "mean12m = np.mean(step12mape)\n",
    "mean24m = np.mean(step24mape)\n",
    "mean48m = np.mean(step48mape)\n",
    "print('LSTM MAPE mean     ', round(mean3m,2) , round(mean6m,2) , round(mean12m,2) , round(mean24m,2) , round(mean48m,2))\n",
    "\n",
    "mean3std = np.std(step3mape)\n",
    "mean6std = np.std(step6mape)\n",
    "mean12std = np.std(step12mape)\n",
    "mean24std = np.std(step24mape)\n",
    "mean48std = np.std(step48mape)\n",
    "print('LSTM MAPE std.dev  ', round(mean3std,2) , round(mean6std,2) , round(mean12std,2) , round(mean24std,2) , round(mean48std,2))\n",
    "\n",
    "max3 = np.max(step3mape)\n",
    "max6 = np.max(step6mape)\n",
    "max12 = np.max(step12mape)\n",
    "max24 = np.max(step24mape)\n",
    "max48 = np.max(step48mape)\n",
    "print('LSTM MAPE max       ', round(max3,2) , round(max6,2) , round(max12,2) , round(max24,2) , round(max48,2))"
   ]
  },
  {
   "cell_type": "markdown",
   "metadata": {},
   "source": [
    "### MAXAE Error"
   ]
  },
  {
   "cell_type": "code",
   "execution_count": 12,
   "metadata": {},
   "outputs": [],
   "source": [
    "colnames = ['min', 'Q1', 'mediana', 'Q3', 'max']\n",
    "\n",
    "# cambiare i percorsi con i propri dati\n",
    "data3_LSTM_max = pd.read_csv('Data/LSTM/MAE_error_data_4_LSTM_with_STL_Decomposition_3.csv', names=colnames, header=None)\n",
    "\n",
    "data6_LSTM_max = pd.read_csv('Data/LSTM/MAE_error_data_4_LSTM_with_STL_Decomposition_6.csv', names=colnames, header=None)\n",
    "\n",
    "data12_LSTM_max = pd.read_csv('Data/LSTM/MAE_error_data_4_LSTM_with_STL_Decomposition_12.csv', names=colnames, header=None)\n",
    "\n",
    "data24_LSTM_max = pd.read_csv('Data/LSTM/MAE_error_data_4_LSTM_with_STL_Decomposition_24.csv', names=colnames, header=None)\n",
    "\n",
    "data48_LSTM_max = pd.read_csv('Data/LSTM/MAE_error_data_4_LSTM_with_STL_Decomposition_48.csv', names=colnames, header=None)\n"
   ]
  },
  {
   "cell_type": "code",
   "execution_count": 13,
   "metadata": {},
   "outputs": [],
   "source": [
    "max3_LSTM_max = []\n",
    "for i, row in data3_LSTM_max.iterrows():\n",
    "    max_i= row['max']\n",
    "    max_i = max_i[0:-2]\n",
    "    max3_LSTM_max.append(float(max_i))\n",
    "\n",
    "max6_LSTM_max = []\n",
    "for i, row in data6_LSTM_max.iterrows():\n",
    "    max_i= row['max']\n",
    "    max_i = max_i[0:-2]\n",
    "    max6_LSTM_max.append(float(max_i))\n",
    "    \n",
    "max12_LSTM_max = []\n",
    "for i, row in data12_LSTM_max.iterrows():\n",
    "    max_i= row['max']\n",
    "    max_i = max_i[0:-2]\n",
    "    max12_LSTM_max.append(float(max_i))\n",
    "\n",
    "max24_LSTM_max = []\n",
    "for i, row in data24_LSTM_max.iterrows():\n",
    "    max_i= row['max']\n",
    "    max_i = max_i[0:-1]\n",
    "    max24_LSTM_max.append(float(max_i))\n",
    "    \n",
    "max48_LSTM_max = []\n",
    "for i, row in data48_LSTM_max.iterrows():\n",
    "    max_i= row['max']\n",
    "    max_i = max_i[0:-1]\n",
    "    max48_LSTM_max.append(float(max_i)) "
   ]
  },
  {
   "cell_type": "code",
   "execution_count": 14,
   "metadata": {},
   "outputs": [
    {
     "name": "stdout",
     "output_type": "stream",
     "text": [
      "LSTM MAXAE mean      43.78 54.57 78.57 182.51 868.55\n",
      "LSTM MAXAE std.dev   53.05 79.41 113.52 220.14 747.15\n",
      "LSTM MAXAE max       316.3 825.7 691.5 975.7 2289.2\n"
     ]
    }
   ],
   "source": [
    "mean3m = np.mean(max3_LSTM_max)\n",
    "mean6m = np.mean(max6_LSTM_max)\n",
    "mean12m = np.mean(max12_LSTM_max)\n",
    "mean24m = np.mean(max24_LSTM_max)\n",
    "mean48m = np.mean(max48_LSTM_max)\n",
    "print('LSTM MAXAE mean     ', round(mean3m,2), round(mean6m,2) , round(mean12m,2) , round(mean24m,2) , round(mean48m,2))\n",
    "\n",
    "mean3std = np.std(max3_LSTM_max)\n",
    "mean6std = np.std(max6_LSTM_max)\n",
    "mean12std = np.std(max12_LSTM_max)\n",
    "mean24std = np.std(max24_LSTM_max)\n",
    "mean48std = np.std(max48_LSTM_max)\n",
    "print('LSTM MAXAE std.dev  ', round(mean3std,2), round(mean6std,2) , round(mean12std,2) , round(mean24std,2) , round(mean48std,2))\n",
    "\n",
    "max3 = np.max(max3_LSTM_max)\n",
    "max6 = np.max(max6_LSTM_max)\n",
    "max12 = np.max(max12_LSTM_max)\n",
    "max24 = np.max(max24_LSTM_max)\n",
    "max48 = np.max(max48_LSTM_max)\n",
    "print('LSTM MAXAE max      ', round(max3,2), round(max6,2), round(max12,2), round(max24,2), round(max48,2))"
   ]
  },
  {
   "cell_type": "code",
   "execution_count": null,
   "metadata": {},
   "outputs": [],
   "source": []
  },
  {
   "cell_type": "code",
   "execution_count": null,
   "metadata": {},
   "outputs": [],
   "source": []
  },
  {
   "cell_type": "code",
   "execution_count": null,
   "metadata": {},
   "outputs": [],
   "source": []
  },
  {
   "cell_type": "code",
   "execution_count": null,
   "metadata": {},
   "outputs": [],
   "source": []
  },
  {
   "cell_type": "code",
   "execution_count": null,
   "metadata": {},
   "outputs": [],
   "source": []
  },
  {
   "cell_type": "code",
   "execution_count": null,
   "metadata": {},
   "outputs": [],
   "source": []
  }
 ],
 "metadata": {
  "kernelspec": {
   "display_name": "Python 3",
   "language": "python",
   "name": "python3"
  },
  "language_info": {
   "codemirror_mode": {
    "name": "ipython",
    "version": 3
   },
   "file_extension": ".py",
   "mimetype": "text/x-python",
   "name": "python",
   "nbconvert_exporter": "python",
   "pygments_lexer": "ipython3",
   "version": "3.7.4"
  }
 },
 "nbformat": 4,
 "nbformat_minor": 2
}
