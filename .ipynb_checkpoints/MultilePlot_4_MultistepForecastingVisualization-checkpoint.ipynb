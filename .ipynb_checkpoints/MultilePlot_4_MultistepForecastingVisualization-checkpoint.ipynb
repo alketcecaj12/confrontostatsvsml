{
 "cells": [
  {
   "cell_type": "markdown",
   "metadata": {},
   "source": [
    "### Mean error per method"
   ]
  },
  {
   "cell_type": "code",
   "execution_count": 57,
   "metadata": {},
   "outputs": [],
   "source": [
    "import matplotlib.pyplot as plt\n",
    "import pandas as pd"
   ]
  },
  {
   "cell_type": "markdown",
   "metadata": {},
   "source": [
    "### MAPE "
   ]
  },
  {
   "cell_type": "code",
   "execution_count": 97,
   "metadata": {},
   "outputs": [],
   "source": [
    "MLP_MAPE_Mean = np.array([6.35, 7.68, 9.48, 11.63, 14.06])\n",
    "CNN_MAPE_Mean = np.array([6.15, 8.37, 10.22, 11.99, 14.23])\n",
    "AR_MAPE_Mean =  np.array([4.29 ,8.26 ,16.5, 19.72 ,21.34])\n",
    "ARIMA_MAPE_Mean = np.array([4, 6.26 ,6.66, 7.4, 9.21])\n",
    "ETS_MAPE_Mean = np.array([17.38, 22.29, 25.5, 28.79, 27.29])\n",
    "LSTM_MAPE_Mean = np.array([4.78, 5.95, 9.6 ,32.34 ,121.95])\n",
    "Prophet_MAPE_Mean = np.array([3.17, 3.87, 3.69, 7.74, 5.8])\n",
    "all_data = {'LSTM':LSTM_MAPE_Mean, 'ETS':ETS_MAPE_Mean ,'AR':AR_MAPE_Mean,\n",
    "            'CNN':CNN_MAPE_Mean, 'MLP':MLP_MAPE_Mean,'Prophet':Prophet_MAPE_Mean, 'ARIMA':ARIMA_MAPE_Mean}"
   ]
  },
  {
   "cell_type": "markdown",
   "metadata": {},
   "source": [
    "### RMSE"
   ]
  },
  {
   "cell_type": "code",
   "execution_count": 100,
   "metadata": {},
   "outputs": [],
   "source": [
    "MLP_RMSE_Mean = np.array([11.83 ,14.45,17.89, 21.53, 25.01])\n",
    "CNN_RMSE_Mean = np.array([12.1 ,14.93, 17.12, 20.5, 23.46])\n",
    "AR_RMSE_Mean =  np.array([ 8.39, 16.75, 32.14, 36.95 ,39.75])\n",
    "ARIMA_RMSE_Mean = np.array([11.38, 12.25, 12.57, 13.87, 17.94])\n",
    "ETS_RMSE_Mean = np.array([41.23, 55.08 ,45.01, 48.59, 47.47])\n",
    "LSTM_RMSE_Mean = np.array([10.0 ,13.09, 21.24, 66.46, 313.35])\n",
    "Prophet_RMSE_Mean = np.array([31.5 ,31.48, 37.0 ,78.84, 57.95])\n",
    "all_data2 = {'LSTM':LSTM_RMSE_Mean, 'ETS':ETS_RMSE_Mean ,'AR':AR_RMSE_Mean,\n",
    "            'CNN':CNN_RMSE_Mean, 'MLP':MLP_RMSE_Mean,'Prophet':Prophet_RMSE_Mean, 'ARIMA':ARIMA_RMSE_Mean}"
   ]
  },
  {
   "cell_type": "code",
   "execution_count": 104,
   "metadata": {},
   "outputs": [],
   "source": [
    "MLP_MAXAE_Mean = np.array([40.24, 49.23, 61.18, 72.53, 84.87])\n",
    "CNN_MAXAE_Mean = np.array([52.56, 47.09, 57.48, 68.84, 78.74])\n",
    "AR_MAXAE_Mean =  np.array([40.59, 65.84, 109.73, 116.31, 124.63])\n",
    "ARIMA_MAXAE_Mean = np.array([46.11, 51.16, 63.15, 62.54, 74.16])\n",
    "ETS_MAXAE_Mean = np.array([ 123.17, 156.53, 126.46, 130.74, 132.73])\n",
    "LSTM_MAXAE_Mean = np.array([43.78 ,54.57, 78.57, 182.51, 868.55])\n",
    "Prophet_MAXAE_Mean = np.array([39.23, 43.52 ,63.57, 134.56 ,122.25])\n",
    "all_data3 = {'LSTM':LSTM_MAXAE_Mean, 'ETS':ETS_MAXAE_Mean ,'AR':AR_MAXAE_Mean,\n",
    "            'CNN':CNN_MAXAE_Mean, 'MLP':MLP_MAXAE_Mean,'Prophet':Prophet_MAXAE_Mean, 'ARIMA':ARIMA_MAXAE_Mean}"
   ]
  },
  {
   "cell_type": "code",
   "execution_count": 105,
   "metadata": {},
   "outputs": [],
   "source": [
    "def percent_change(arr):\n",
    "    counter = 0\n",
    "    r = []\n",
    "    for i in arr: \n",
    "        d = (arr[counter+1] - arr[counter]) /abs(arr[counter]) \n",
    "        r.append(round((d* 100),1))\n",
    "        counter +=1\n",
    "        if counter == len(arr)-1: break\n",
    "    return r    "
   ]
  },
  {
   "cell_type": "code",
   "execution_count": 106,
   "metadata": {},
   "outputs": [
    {
     "name": "stdout",
     "output_type": "stream",
     "text": [
      "LSTM [24.6, 44.0, 132.3, 375.9]\n",
      "ETS [27.1, -19.2, 3.4, 1.5]\n",
      "AR [62.2, 66.7, 6.0, 7.2]\n",
      "CNN [-10.4, 22.1, 19.8, 14.4]\n",
      "MLP [22.3, 24.3, 18.6, 17.0]\n",
      "Prophet [10.9, 46.1, 111.7, -9.1]\n",
      "ARIMA [11.0, 23.4, -1.0, 18.6]\n"
     ]
    }
   ],
   "source": [
    "for k,v in all_data3.items(): \n",
    "    l = percent_change(v) \n",
    "    print(k,l)"
   ]
  },
  {
   "cell_type": "code",
   "execution_count": null,
   "metadata": {},
   "outputs": [],
   "source": []
  },
  {
   "cell_type": "code",
   "execution_count": null,
   "metadata": {},
   "outputs": [],
   "source": []
  },
  {
   "cell_type": "code",
   "execution_count": null,
   "metadata": {},
   "outputs": [],
   "source": []
  },
  {
   "cell_type": "code",
   "execution_count": null,
   "metadata": {},
   "outputs": [],
   "source": []
  },
  {
   "cell_type": "code",
   "execution_count": 60,
   "metadata": {},
   "outputs": [
    {
     "data": {
      "image/png": "[encoded data removed]",
      "text/plain": [
       "<Figure size 1440x288 with 1 Axes>"
      ]
     },
     "metadata": {
      "needs_background": "light"
     },
     "output_type": "display_data"
    }
   ],
   "source": [
    "plt.figure(figsize=(20,4))\n",
    "\n",
    "#Plot a line graph\n",
    "plt.plot(normal_mlp, linewidth=2.0, label='MLP')\n",
    "plt.plot(normal_cnn, linewidth=2.0 , label='CNN')\n",
    "plt.plot(AR_MAPE_Mean, linewidth=2.0, label='AR')\n",
    "plt.plot(ARIMA_MAPE_Mean, linewidth=2.0, label='ARIMA')\n",
    " \n",
    "\n",
    "plt.plot(ETS_MAPE_Mean, linewidth=2.0 , label='ETS')\n",
    "plt.plot(LSTM_MAPE_Mean, linewidth=2.0, label='LSTM')\n",
    "plt.plot(Prophet_MAPE_Mean, linewidth=2.0, label='Prophet')\n",
    "\n",
    "plt.xlabel(\"X-axis\")\n",
    "plt.ylabel(\"Y-axis\")\n",
    " \n",
    "plt.legend()\n",
    "plt.show()"
   ]
  },
  {
   "cell_type": "markdown",
   "metadata": {},
   "source": [
    "### Std.Dev per method"
   ]
  },
  {
   "cell_type": "code",
   "execution_count": null,
   "metadata": {},
   "outputs": [],
   "source": [
    "MLP_MAPE_devstd = np.array([2.87 ,3.72, 7.43, 13.38])\n",
    "CNN_MAPE_devstd = np.array([8.37,10.22,11.99,14.23])\n",
    "AR_MAPE_devstd = np.array([8.26,16.5,19.72,21.34])\n",
    "ARIMA_MAPE_devstd = np.array([6.26 ,6.66, 7.4, 9.21])\n",
    "ETS_MAPE_devstd = np.array([22.29, 25.5, 28.79, 27.29])\n",
    "LSTM_MAPE_devstd = np.array([5.95 ,9.6 ,32.34, 121.95])\n",
    "Prophet_MAPE_devstd = np.array([ 5.87 ,6.69, 7.7, 12.8])"
   ]
  },
  {
   "cell_type": "code",
   "execution_count": null,
   "metadata": {},
   "outputs": [],
   "source": [
    "plt.figure(figsize=(20,4))\n",
    "\n",
    "#Plot a line graph\n",
    "plt.plot(MLP_MAPE_Mean, linewidth=2.0, label='MLP')\n",
    "plt.plot(CNN_MAPE_Mean, linewidth=2.0 , label='CNN')\n",
    "plt.plot(AR_MAPE_Mean, linewidth=2.0, label='AR')\n",
    "plt.plot(ARIMA_MAPE_Mean, linewidth=2.0, label='ARIMA')\n",
    " \n",
    "\n",
    "plt.plot(ETS_MAPE_Mean, linewidth=2.0 , label='ETS')\n",
    "plt.plot(LSTM_MAPE_Mean, linewidth=2.0, label='LSTM')\n",
    "plt.plot(Prophet_MAPE_Mean, linewidth=2.0, label='Prophet')\n",
    "\n",
    "plt.xlabel(\"X-axis\")\n",
    "plt.ylabel(\"Y-axis\")\n",
    " \n",
    "plt.legend()\n",
    "plt.show()"
   ]
  },
  {
   "cell_type": "markdown",
   "metadata": {},
   "source": [
    "### MAXAE Error per method"
   ]
  },
  {
   "cell_type": "code",
   "execution_count": 43,
   "metadata": {},
   "outputs": [],
   "source": [
    "MLP_MAPE_devstd = np.array([2.87 ,3.72, 7.43, 13.38])\n",
    "CNN_MAPE_devstd = np.array([8.37,10.22,11.99,14.23])\n",
    "AR_MAPE_devstd = np.array([8.26,16.5,19.72,21.34])\n",
    "ARIMA_MAPE_devstd = np.array([6.26 ,6.66, 7.4, 9.21])\n",
    "ETS_MAPE_devstd = np.array([22.29, 25.5, 28.79, 27.29])\n",
    "LSTM_MAPE_devstd = np.array([5.95 ,9.6 ,32.34, 121.95])\n",
    "Prophet_MAPE_devstd = np.array([ 5.87 ,6.69, 7.7, 12.8])"
   ]
  },
  {
   "cell_type": "code",
   "execution_count": null,
   "metadata": {},
   "outputs": [],
   "source": [
    "plt.figure(figsize=(20,4))\n",
    "\n",
    "#Plot a line graph\n",
    "plt.plot(MLP_MAPE_Mean, linewidth=2.0, label='MLP')\n",
    "plt.plot(CNN_MAPE_Mean, linewidth=2.0 , label='CNN')\n",
    "plt.plot(AR_MAPE_Mean, linewidth=2.0, label='AR')\n",
    "plt.plot(ARIMA_MAPE_Mean, linewidth=2.0, label='ARIMA')\n",
    " \n",
    "\n",
    "plt.plot(ETS_MAPE_Mean, linewidth=2.0 , label='ETS')\n",
    "plt.plot(LSTM_MAPE_Mean, linewidth=2.0, label='LSTM')\n",
    "plt.plot(Prophet_MAPE_Mean, linewidth=2.0, label='Prophet')\n",
    "\n",
    "plt.xlabel(\"X-axis\")\n",
    "plt.ylabel(\"Y-axis\")\n",
    " \n",
    "plt.legend()\n",
    "plt.show()"
   ]
  },
  {
   "cell_type": "code",
   "execution_count": null,
   "metadata": {},
   "outputs": [],
   "source": []
  },
  {
   "cell_type": "code",
   "execution_count": null,
   "metadata": {},
   "outputs": [],
   "source": []
  },
  {
   "cell_type": "code",
   "execution_count": null,
   "metadata": {},
   "outputs": [],
   "source": []
  },
  {
   "cell_type": "code",
   "execution_count": null,
   "metadata": {},
   "outputs": [],
   "source": []
  },
  {
   "cell_type": "code",
   "execution_count": null,
   "metadata": {},
   "outputs": [],
   "source": []
  }
 ],
 "metadata": {
  "kernelspec": {
   "display_name": "Python 3",
   "language": "python",
   "name": "python3"
  },
  "language_info": {
   "codemirror_mode": {
    "name": "ipython",
    "version": 3
   },
   "file_extension": ".py",
   "mimetype": "text/x-python",
   "name": "python",
   "nbconvert_exporter": "python",
   "pygments_lexer": "ipython3",
   "version": "3.7.4"
  }
 },
 "nbformat": 4,
 "nbformat_minor": 2
}
